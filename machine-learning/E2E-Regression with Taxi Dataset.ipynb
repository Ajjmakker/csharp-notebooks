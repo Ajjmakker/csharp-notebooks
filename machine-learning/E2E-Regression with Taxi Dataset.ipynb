{
  "cells": [
    {
      "cell_type": "markdown",
      "metadata": {},
      "source": [
        "# Regression with Taxi Dataset"
      ]
    },
    {
      "cell_type": "markdown",
      "metadata": {},
      "source": [
        "This notebook demonstrates how to:\n",
        "\n",
        "1. Define the model input and output schema\n",
        "1. Load in data from a text file to an IDataView\n",
        "1. Set up the training pipeline with data transforms\n",
        "1. Choose an algorithm and append it to the pipeline\n",
        "1. Train the model\n",
        "1. Evaluate the model\n",
        "1. Consume the model"
      ]
    },
    {
      "cell_type": "markdown",
      "metadata": {},
      "source": [
        "## Install the necessary NuGet packages for training ML.NET model and plotting:"
      ]
    },
    {
      "cell_type": "code",
      "execution_count": 14,
      "metadata": {
        "dotnet_interactive": {
          "language": "csharp"
        },
        "vscode": {
          "languageId": "polyglot-notebook"
        }
      },
      "outputs": [
        {
          "data": {
            "text/html": [
              "<div><div><strong>Restore sources</strong><ul><li><span>https://pkgs.dev.azure.com/dnceng/public/_packaging/dotnet-libraries/nuget/v3/index.json</span></li></ul></div><div></div><div><strong>Installed Packages</strong><ul><li><span>Microsoft.Data.Analysis, 0.21.0-preview.23504.1</span></li><li><span>Microsoft.ML.AutoML, 0.21.0-preview.23504.1</span></li><li><span>Plotly.NET.CSharp, 0.0.1</span></li><li><span>Plotly.NET.Interactive, 3.0.2</span></li></ul></div></div>"
            ]
          },
          "metadata": {},
          "output_type": "display_data"
        }
      ],
      "source": [
        "// using nightly-build\n",
        "#i \"nuget:https://pkgs.dev.azure.com/dnceng/public/_packaging/dotnet-libraries/nuget/v3/index.json\"\n",
        "#r \"nuget: Microsoft.ML.AutoML, 0.21.0-preview.23504.1\"\n",
        "#r \"nuget: Microsoft.Data.Analysis, 0.21.0-preview.23504.1\"\n",
        "#r \"nuget: Plotly.NET.Interactive, 3.0.2\"\n",
        "#r \"nuget: Plotly.NET.CSharp, 0.0.1\""
      ]
    },
    {
      "cell_type": "code",
      "execution_count": 15,
      "metadata": {
        "dotnet_interactive": {
          "language": "csharp"
        },
        "vscode": {
          "languageId": "polyglot-notebook"
        }
      },
      "outputs": [],
      "source": [
        "\n",
        "// Import common usings.\n",
        "using static Microsoft.DotNet.Interactive.Formatting.PocketViewTags;\n",
        "using static Microsoft.ML.Transforms.OneHotEncodingEstimator;\n",
        "using Microsoft.Data.Analysis;\n",
        "using System;\n",
        "using System.IO;\n",
        "using Microsoft.ML;\n",
        "using Microsoft.ML.AutoML;\n",
        "using Microsoft.ML.Data;"
      ]
    },
    {
      "cell_type": "markdown",
      "metadata": {},
      "source": [
        "#### Download or Locate Data\n",
        "The following code tries to locate the data file in a few known locations or it will download it from the known GitHub location."
      ]
    },
    {
      "cell_type": "code",
      "execution_count": 16,
      "metadata": {
        "dotnet_interactive": {
          "language": "csharp"
        },
        "vscode": {
          "languageId": "polyglot-notebook"
        }
      },
      "outputs": [],
      "source": [
        "using System;\n",
        "using System.IO;\n",
        "using System.Net;\n",
        "\n",
        "string EnsureDataSetDownloaded(string fileName)\n",
        "{\n",
        "\n",
        "\t// This is the path if the repo has been checked out.\n",
        "\tvar filePath = Path.Combine(Directory.GetCurrentDirectory(),\"data\", fileName);\n",
        "\n",
        "\tif (!File.Exists(filePath))\n",
        "\t{\n",
        "\t\t// This is the path if the file has already been downloaded.\n",
        "\t\tfilePath = Path.Combine(Directory.GetCurrentDirectory(), fileName);\n",
        "\t}\n",
        "\n",
        "\tif (!File.Exists(filePath))\n",
        "\t{\n",
        "\t\tusing (var client = new WebClient())\n",
        "\t\t{\n",
        "\t\t\tclient.DownloadFile($\"https://raw.githubusercontent.com/dotnet/csharp-notebooks/main/machine-learning/data/{fileName}\", filePath);\n",
        "\t\t}\n",
        "\t\tConsole.WriteLine($\"Downloaded {fileName}  to : {filePath}\");\n",
        "\t}\n",
        "\telse\n",
        "\t{\n",
        "\t\tConsole.WriteLine($\"{fileName} found here: {filePath}\");\n",
        "\t}\n",
        "\n",
        "\treturn filePath;\n",
        "}"
      ]
    },
    {
      "cell_type": "code",
      "execution_count": 17,
      "metadata": {
        "dotnet_interactive": {
          "language": "csharp"
        },
        "vscode": {
          "languageId": "polyglot-notebook"
        }
      },
      "outputs": [
        {
          "name": "stdout",
          "output_type": "stream",
          "text": [
            "taxi-fare.csv found here: c:\\Users\\xiaoyuz\\source\\repos\\csharp-notebooks\\machine-learning\\data\\taxi-fare.csv\r\n"
          ]
        },
        {
          "data": {
            "text/html": [
              "<div><h3>Best Trial</h3><p>Id: 16</p><p>Trainer: ReplaceMissingValues=&gt;OneHotEncoding=&gt;Concatenate=&gt;FastForestRegression</p><p>Parameters: {\r\n",
              "  &quot;_pipeline_&quot;: {\r\n",
              "    &quot;_SCHEMA_&quot;: &quot;e0 * e1 * e3 * e5&quot;,\r\n",
              "    &quot;e0&quot;: {\r\n",
              "      &quot;OutputColumnNames&quot;: [\r\n",
              "        &quot;rate_code&quot;,\r\n",
              "        &quot;passenger_count&quot;,\r\n",
              "        &quot;trip_time_in_secs&quot;,\r\n",
              "        &quot;trip_distance&quot;\r\n",
              "      ],\r\n",
              "      &quot;InputColumnNames&quot;: [\r\n",
              "        &quot;rate_code&quot;,\r\n",
              "        &quot;passenger_count&quot;,\r\n",
              "        &quot;trip_time_in_secs&quot;,\r\n",
              "        &quot;trip_distance&quot;\r\n",
              "      ]\r\n",
              "    },\r\n",
              "    &quot;e1&quot;: {\r\n",
              "      &quot;OutputColumnNames&quot;: [\r\n",
              "        &quot;vendor_id&quot;,\r\n",
              "        &quot;payment_type&quot;\r\n",
              "      ],\r\n",
              "      &quot;InputColumnNames&quot;: [\r\n",
              "        &quot;vendor_id&quot;,\r\n",
              "        &quot;payment_type&quot;\r\n",
              "      ]\r\n",
              "    },\r\n",
              "    &quot;e3&quot;: {\r\n",
              "      &quot;InputColumnNames&quot;: [\r\n",
              "        &quot;rate_code&quot;,\r\n",
              "        &quot;passenger_count&quot;,\r\n",
              "        &quot;trip_time_in_secs&quot;,\r\n",
              "        &quot;trip_distance&quot;,\r\n",
              "        &quot;vendor_id&quot;,\r\n",
              "        &quot;payment_type&quot;\r\n",
              "      ],\r\n",
              "      &quot;OutputColumnName&quot;: &quot;Features&quot;\r\n",
              "    },\r\n",
              "    &quot;e5&quot;: {\r\n",
              "      &quot;NumberOfTrees&quot;: 8,\r\n",
              "      &quot;NumberOfLeaves&quot;: 4,\r\n",
              "      &quot;FeatureFraction&quot;: 1,\r\n",
              "      &quot;LabelColumnName&quot;: &quot;fare_amount&quot;,\r\n",
              "      &quot;FeatureColumnName&quot;: &quot;Features&quot;\r\n",
              "    }\r\n",
              "  },\r\n",
              "  &quot;_SCHEMA_&quot;: &quot;e0 * e1 * e3 * e4&quot;,\r\n",
              "  &quot;e0&quot;: {\r\n",
              "    &quot;OutputColumnNames&quot;: [\r\n",
              "      &quot;rate_code&quot;,\r\n",
              "      &quot;passenger_count&quot;,\r\n",
              "      &quot;trip_time_in_secs&quot;,\r\n",
              "      &quot;trip_distance&quot;\r\n",
              "    ],\r\n",
              "    &quot;InputColumnNames&quot;: [\r\n",
              "      &quot;rate_code&quot;,\r\n",
              "      &quot;passenger_count&quot;,\r\n",
              "      &quot;trip_time_in_secs&quot;,\r\n",
              "      &quot;trip_distance&quot;\r\n",
              "    ]\r\n",
              "  },\r\n",
              "  &quot;e1&quot;: {\r\n",
              "    &quot;OutputColumnNames&quot;: [\r\n",
              "      &quot;vendor_id&quot;,\r\n",
              "      &quot;payment_type&quot;\r\n",
              "    ],\r\n",
              "    &quot;InputColumnNames&quot;: [\r\n",
              "      &quot;vendor_id&quot;,\r\n",
              "      &quot;payment_type&quot;\r\n",
              "    ]\r\n",
              "  },\r\n",
              "  &quot;e2&quot;: {\r\n",
              "    &quot;OutputColumnNames&quot;: [\r\n",
              "      &quot;vendor_id&quot;,\r\n",
              "      &quot;payment_type&quot;\r\n",
              "    ],\r\n",
              "    &quot;InputColumnNames&quot;: [\r\n",
              "      &quot;vendor_id&quot;,\r\n",
              "      &quot;payment_type&quot;\r\n",
              "    ]\r\n",
              "  },\r\n",
              "  &quot;e3&quot;: {\r\n",
              "    &quot;InputColumnNames&quot;: [\r\n",
              "      &quot;rate_code&quot;,\r\n",
              "      &quot;passenger_count&quot;,\r\n",
              "      &quot;trip_time_in_secs&quot;,\r\n",
              "      &quot;trip_distance&quot;,\r\n",
              "      &quot;vendor_id&quot;,\r\n",
              "      &quot;payment_type&quot;\r\n",
              "    ],\r\n",
              "    &quot;OutputColumnName&quot;: &quot;Features&quot;\r\n",
              "  },\r\n",
              "  &quot;e4&quot;: {\r\n",
              "    &quot;NumberOfLeaves&quot;: 4,\r\n",
              "    &quot;MinimumExampleCountPerLeaf&quot;: 20,\r\n",
              "    &quot;NumberOfTrees&quot;: 4,\r\n",
              "    &quot;MaximumBinCountPerFeature&quot;: 255,\r\n",
              "    &quot;FeatureFraction&quot;: 1,\r\n",
              "    &quot;LearningRate&quot;: 0.09999999999999998,\r\n",
              "    &quot;LabelColumnName&quot;: &quot;fare_amount&quot;,\r\n",
              "    &quot;FeatureColumnName&quot;: &quot;Features&quot;,\r\n",
              "    &quot;DiskTranspose&quot;: false\r\n",
              "  },\r\n",
              "  &quot;e5&quot;: {\r\n",
              "    &quot;NumberOfTrees&quot;: 4,\r\n",
              "    &quot;NumberOfLeaves&quot;: 4,\r\n",
              "    &quot;FeatureFraction&quot;: 1,\r\n",
              "    &quot;LabelColumnName&quot;: &quot;fare_amount&quot;,\r\n",
              "    &quot;FeatureColumnName&quot;: &quot;Features&quot;\r\n",
              "  },\r\n",
              "  &quot;e6&quot;: {\r\n",
              "    &quot;NumberOfLeaves&quot;: 4,\r\n",
              "    &quot;MinimumExampleCountPerLeaf&quot;: 20,\r\n",
              "    &quot;LearningRate&quot;: 1,\r\n",
              "    &quot;NumberOfTrees&quot;: 4,\r\n",
              "    &quot;SubsampleFraction&quot;: 1,\r\n",
              "    &quot;MaximumBinCountPerFeature&quot;: 255,\r\n",
              "    &quot;FeatureFraction&quot;: 1,\r\n",
              "    &quot;L1Regularization&quot;: 2E-10,\r\n",
              "    &quot;L2Regularization&quot;: 1,\r\n",
              "    &quot;LabelColumnName&quot;: &quot;fare_amount&quot;,\r\n",
              "    &quot;FeatureColumnName&quot;: &quot;Features&quot;\r\n",
              "  },\r\n",
              "  &quot;e7&quot;: {\r\n",
              "    &quot;L1Regularization&quot;: 1,\r\n",
              "    &quot;L2Regularization&quot;: 1,\r\n",
              "    &quot;LabelColumnName&quot;: &quot;fare_amount&quot;,\r\n",
              "    &quot;FeatureColumnName&quot;: &quot;Features&quot;\r\n",
              "  },\r\n",
              "  &quot;e8&quot;: {\r\n",
              "    &quot;L1Regularization&quot;: 1,\r\n",
              "    &quot;L2Regularization&quot;: 0.1,\r\n",
              "    &quot;LabelColumnName&quot;: &quot;fare_amount&quot;,\r\n",
              "    &quot;FeatureColumnName&quot;: &quot;Features&quot;\r\n",
              "  }\r\n",
              "}</p><h3>Active Trial</h3><p>Id: 18</p><p>Trainer: ReplaceMissingValues=&gt;OneHotEncoding=&gt;Concatenate=&gt;FastForestRegression</p><p>Parameters: {\r\n",
              "  &quot;_pipeline_&quot;: {\r\n",
              "    &quot;_SCHEMA_&quot;: &quot;e0 * e1 * e3 * e5&quot;,\r\n",
              "    &quot;e0&quot;: {\r\n",
              "      &quot;OutputColumnNames&quot;: [\r\n",
              "        &quot;rate_code&quot;,\r\n",
              "        &quot;passenger_count&quot;,\r\n",
              "        &quot;trip_time_in_secs&quot;,\r\n",
              "        &quot;trip_distance&quot;\r\n",
              "      ],\r\n",
              "      &quot;InputColumnNames&quot;: [\r\n",
              "        &quot;rate_code&quot;,\r\n",
              "        &quot;passenger_count&quot;,\r\n",
              "        &quot;trip_time_in_secs&quot;,\r\n",
              "        &quot;trip_distance&quot;\r\n",
              "      ]\r\n",
              "    },\r\n",
              "    &quot;e1&quot;: {\r\n",
              "      &quot;OutputColumnNames&quot;: [\r\n",
              "        &quot;vendor_id&quot;,\r\n",
              "        &quot;payment_type&quot;\r\n",
              "      ],\r\n",
              "      &quot;InputColumnNames&quot;: [\r\n",
              "        &quot;vendor_id&quot;,\r\n",
              "        &quot;payment_type&quot;\r\n",
              "      ]\r\n",
              "    },\r\n",
              "    &quot;e3&quot;: {\r\n",
              "      &quot;InputColumnNames&quot;: [\r\n",
              "        &quot;rate_code&quot;,\r\n",
              "        &quot;passenger_count&quot;,\r\n",
              "        &quot;trip_time_in_secs&quot;,\r\n",
              "        &quot;trip_distance&quot;,\r\n",
              "        &quot;vendor_id&quot;,\r\n",
              "        &quot;payment_type&quot;\r\n",
              "      ],\r\n",
              "      &quot;OutputColumnName&quot;: &quot;Features&quot;\r\n",
              "    },\r\n",
              "    &quot;e5&quot;: {\r\n",
              "      &quot;NumberOfTrees&quot;: 5,\r\n",
              "      &quot;NumberOfLeaves&quot;: 12,\r\n",
              "      &quot;FeatureFraction&quot;: 0.93088156,\r\n",
              "      &quot;LabelColumnName&quot;: &quot;fare_amount&quot;,\r\n",
              "      &quot;FeatureColumnName&quot;: &quot;Features&quot;\r\n",
              "    }\r\n",
              "  },\r\n",
              "  &quot;_SCHEMA_&quot;: &quot;e0 * e1 * e3 * e4&quot;,\r\n",
              "  &quot;e0&quot;: {\r\n",
              "    &quot;OutputColumnNames&quot;: [\r\n",
              "      &quot;rate_code&quot;,\r\n",
              "      &quot;passenger_count&quot;,\r\n",
              "      &quot;trip_time_in_secs&quot;,\r\n",
              "      &quot;trip_distance&quot;\r\n",
              "    ],\r\n",
              "    &quot;InputColumnNames&quot;: [\r\n",
              "      &quot;rate_code&quot;,\r\n",
              "      &quot;passenger_count&quot;,\r\n",
              "      &quot;trip_time_in_secs&quot;,\r\n",
              "      &quot;trip_distance&quot;\r\n",
              "    ]\r\n",
              "  },\r\n",
              "  &quot;e1&quot;: {\r\n",
              "    &quot;OutputColumnNames&quot;: [\r\n",
              "      &quot;vendor_id&quot;,\r\n",
              "      &quot;payment_type&quot;\r\n",
              "    ],\r\n",
              "    &quot;InputColumnNames&quot;: [\r\n",
              "      &quot;vendor_id&quot;,\r\n",
              "      &quot;payment_type&quot;\r\n",
              "    ]\r\n",
              "  },\r\n",
              "  &quot;e2&quot;: {\r\n",
              "    &quot;OutputColumnNames&quot;: [\r\n",
              "      &quot;vendor_id&quot;,\r\n",
              "      &quot;payment_type&quot;\r\n",
              "    ],\r\n",
              "    &quot;InputColumnNames&quot;: [\r\n",
              "      &quot;vendor_id&quot;,\r\n",
              "      &quot;payment_type&quot;\r\n",
              "    ]\r\n",
              "  },\r\n",
              "  &quot;e3&quot;: {\r\n",
              "    &quot;InputColumnNames&quot;: [\r\n",
              "      &quot;rate_code&quot;,\r\n",
              "      &quot;passenger_count&quot;,\r\n",
              "      &quot;trip_time_in_secs&quot;,\r\n",
              "      &quot;trip_distance&quot;,\r\n",
              "      &quot;vendor_id&quot;,\r\n",
              "      &quot;payment_type&quot;\r\n",
              "    ],\r\n",
              "    &quot;OutputColumnName&quot;: &quot;Features&quot;\r\n",
              "  },\r\n",
              "  &quot;e4&quot;: {\r\n",
              "    &quot;NumberOfLeaves&quot;: 4,\r\n",
              "    &quot;MinimumExampleCountPerLeaf&quot;: 20,\r\n",
              "    &quot;NumberOfTrees&quot;: 4,\r\n",
              "    &quot;MaximumBinCountPerFeature&quot;: 255,\r\n",
              "    &quot;FeatureFraction&quot;: 1,\r\n",
              "    &quot;LearningRate&quot;: 0.09999999999999998,\r\n",
              "    &quot;LabelColumnName&quot;: &quot;fare_amount&quot;,\r\n",
              "    &quot;FeatureColumnName&quot;: &quot;Features&quot;,\r\n",
              "    &quot;DiskTranspose&quot;: false\r\n",
              "  },\r\n",
              "  &quot;e5&quot;: {\r\n",
              "    &quot;NumberOfTrees&quot;: 4,\r\n",
              "    &quot;NumberOfLeaves&quot;: 4,\r\n",
              "    &quot;FeatureFraction&quot;: 1,\r\n",
              "    &quot;LabelColumnName&quot;: &quot;fare_amount&quot;,\r\n",
              "    &quot;FeatureColumnName&quot;: &quot;Features&quot;\r\n",
              "  },\r\n",
              "  &quot;e6&quot;: {\r\n",
              "    &quot;NumberOfLeaves&quot;: 4,\r\n",
              "    &quot;MinimumExampleCountPerLeaf&quot;: 20,\r\n",
              "    &quot;LearningRate&quot;: 1,\r\n",
              "    &quot;NumberOfTrees&quot;: 4,\r\n",
              "    &quot;SubsampleFraction&quot;: 1,\r\n",
              "    &quot;MaximumBinCountPerFeature&quot;: 255,\r\n",
              "    &quot;FeatureFraction&quot;: 1,\r\n",
              "    &quot;L1Regularization&quot;: 2E-10,\r\n",
              "    &quot;L2Regularization&quot;: 1,\r\n",
              "    &quot;LabelColumnName&quot;: &quot;fare_amount&quot;,\r\n",
              "    &quot;FeatureColumnName&quot;: &quot;Features&quot;\r\n",
              "  },\r\n",
              "  &quot;e7&quot;: {\r\n",
              "    &quot;L1Regularization&quot;: 1,\r\n",
              "    &quot;L2Regularization&quot;: 1,\r\n",
              "    &quot;LabelColumnName&quot;: &quot;fare_amount&quot;,\r\n",
              "    &quot;FeatureColumnName&quot;: &quot;Features&quot;\r\n",
              "  },\r\n",
              "  &quot;e8&quot;: {\r\n",
              "    &quot;L1Regularization&quot;: 1,\r\n",
              "    &quot;L2Regularization&quot;: 0.1,\r\n",
              "    &quot;LabelColumnName&quot;: &quot;fare_amount&quot;,\r\n",
              "    &quot;FeatureColumnName&quot;: &quot;Features&quot;\r\n",
              "  }\r\n",
              "}</p></div><div><h3>Plot Metrics over Trials</h3></div>\n",
              "<div>\n",
              "    <div id=\"6a26b6e9-3ba1-4c76-9726-285bfaa259f3\"><!-- Plotly chart will be drawn inside this DIV --></div>\r\n",
              "<script type=\"text/javascript\">\r\n",
              "\r\n",
              "            var renderPlotly_6a26b6e93ba14c769726285bfaa259f3 = function() {\r\n",
              "            var fsharpPlotlyRequire = requirejs.config({context:'fsharp-plotly',paths:{plotly:'https://cdn.plot.ly/plotly-2.6.3.min'}}) || require;\r\n",
              "            fsharpPlotlyRequire(['plotly'], function(Plotly) {\r\n",
              "\r\n",
              "            var data = [{\"type\":\"scatter\",\"name\":\"Plot Metrics over Trials.\",\"mode\":\"markers\",\"x\":[0,1,2,3,4,5,6,7,8,9,10,11,12,13,14,15,16,17],\"y\":[0.919195296620829,0.6837142522540298,-0.20007556363333,0.8742685306245785,0.919195296620829,-0.20007556363333,-2.4756217152805244,0.9136975278524812,0.6868514436657817,0.8742987710755025,-2.483891646558822,0.8733467226684285,0.919195296620829,0.919195296620829,0.919195296620829,0.919195296620829,0.922747422193423,0.8748200949842191],\"marker\":{},\"line\":{},\"showlegend\":false}];\r\n",
              "            var layout = {\"width\":600,\"height\":600,\"template\":{\"layout\":{\"title\":{\"x\":0.05},\"font\":{\"color\":\"rgba(42, 63, 95, 1.0)\"},\"paper_bgcolor\":\"rgba(255, 255, 255, 1.0)\",\"plot_bgcolor\":\"rgba(229, 236, 246, 1.0)\",\"autotypenumbers\":\"strict\",\"colorscale\":{\"diverging\":[[0.0,\"#8e0152\"],[0.1,\"#c51b7d\"],[0.2,\"#de77ae\"],[0.3,\"#f1b6da\"],[0.4,\"#fde0ef\"],[0.5,\"#f7f7f7\"],[0.6,\"#e6f5d0\"],[0.7,\"#b8e186\"],[0.8,\"#7fbc41\"],[0.9,\"#4d9221\"],[1.0,\"#276419\"]],\"sequential\":[[0.0,\"#0d0887\"],[0.1111111111111111,\"#46039f\"],[0.2222222222222222,\"#7201a8\"],[0.3333333333333333,\"#9c179e\"],[0.4444444444444444,\"#bd3786\"],[0.5555555555555556,\"#d8576b\"],[0.6666666666666666,\"#ed7953\"],[0.7777777777777778,\"#fb9f3a\"],[0.8888888888888888,\"#fdca26\"],[1.0,\"#f0f921\"]],\"sequentialminus\":[[0.0,\"#0d0887\"],[0.1111111111111111,\"#46039f\"],[0.2222222222222222,\"#7201a8\"],[0.3333333333333333,\"#9c179e\"],[0.4444444444444444,\"#bd3786\"],[0.5555555555555556,\"#d8576b\"],[0.6666666666666666,\"#ed7953\"],[0.7777777777777778,\"#fb9f3a\"],[0.8888888888888888,\"#fdca26\"],[1.0,\"#f0f921\"]]},\"hovermode\":\"closest\",\"hoverlabel\":{\"align\":\"left\"},\"coloraxis\":{\"colorbar\":{\"outlinewidth\":0.0,\"ticks\":\"\"}},\"geo\":{\"showland\":true,\"landcolor\":\"rgba(229, 236, 246, 1.0)\",\"showlakes\":true,\"lakecolor\":\"rgba(255, 255, 255, 1.0)\",\"subunitcolor\":\"rgba(255, 255, 255, 1.0)\",\"bgcolor\":\"rgba(255, 255, 255, 1.0)\"},\"mapbox\":{\"style\":\"light\"},\"polar\":{\"bgcolor\":\"rgba(229, 236, 246, 1.0)\",\"radialaxis\":{\"linecolor\":\"rgba(255, 255, 255, 1.0)\",\"gridcolor\":\"rgba(255, 255, 255, 1.0)\",\"ticks\":\"\"},\"angularaxis\":{\"linecolor\":\"rgba(255, 255, 255, 1.0)\",\"gridcolor\":\"rgba(255, 255, 255, 1.0)\",\"ticks\":\"\"}},\"scene\":{\"xaxis\":{\"ticks\":\"\",\"linecolor\":\"rgba(255, 255, 255, 1.0)\",\"gridcolor\":\"rgba(255, 255, 255, 1.0)\",\"gridwidth\":2.0,\"zerolinecolor\":\"rgba(255, 255, 255, 1.0)\",\"backgroundcolor\":\"rgba(229, 236, 246, 1.0)\",\"showbackground\":true},\"yaxis\":{\"ticks\":\"\",\"linecolor\":\"rgba(255, 255, 255, 1.0)\",\"gridcolor\":\"rgba(255, 255, 255, 1.0)\",\"gridwidth\":2.0,\"zerolinecolor\":\"rgba(255, 255, 255, 1.0)\",\"backgroundcolor\":\"rgba(229, 236, 246, 1.0)\",\"showbackground\":true},\"zaxis\":{\"ticks\":\"\",\"linecolor\":\"rgba(255, 255, 255, 1.0)\",\"gridcolor\":\"rgba(255, 255, 255, 1.0)\",\"gridwidth\":2.0,\"zerolinecolor\":\"rgba(255, 255, 255, 1.0)\",\"backgroundcolor\":\"rgba(229, 236, 246, 1.0)\",\"showbackground\":true}},\"ternary\":{\"aaxis\":{\"ticks\":\"\",\"linecolor\":\"rgba(255, 255, 255, 1.0)\",\"gridcolor\":\"rgba(255, 255, 255, 1.0)\"},\"baxis\":{\"ticks\":\"\",\"linecolor\":\"rgba(255, 255, 255, 1.0)\",\"gridcolor\":\"rgba(255, 255, 255, 1.0)\"},\"caxis\":{\"ticks\":\"\",\"linecolor\":\"rgba(255, 255, 255, 1.0)\",\"gridcolor\":\"rgba(255, 255, 255, 1.0)\"},\"bgcolor\":\"rgba(229, 236, 246, 1.0)\"},\"xaxis\":{\"title\":{\"standoff\":15},\"ticks\":\"\",\"automargin\":true,\"linecolor\":\"rgba(255, 255, 255, 1.0)\",\"gridcolor\":\"rgba(255, 255, 255, 1.0)\",\"zerolinecolor\":\"rgba(255, 255, 255, 1.0)\",\"zerolinewidth\":2.0},\"yaxis\":{\"title\":{\"standoff\":15},\"ticks\":\"\",\"automargin\":true,\"linecolor\":\"rgba(255, 255, 255, 1.0)\",\"gridcolor\":\"rgba(255, 255, 255, 1.0)\",\"zerolinecolor\":\"rgba(255, 255, 255, 1.0)\",\"zerolinewidth\":2.0},\"annotationdefaults\":{\"arrowcolor\":\"#2a3f5f\",\"arrowhead\":0,\"arrowwidth\":1},\"shapedefaults\":{\"line\":{\"color\":\"rgba(42, 63, 95, 1.0)\"}},\"colorway\":[\"rgba(99, 110, 250, 1.0)\",\"rgba(239, 85, 59, 1.0)\",\"rgba(0, 204, 150, 1.0)\",\"rgba(171, 99, 250, 1.0)\",\"rgba(255, 161, 90, 1.0)\",\"rgba(25, 211, 243, 1.0)\",\"rgba(255, 102, 146, 1.0)\",\"rgba(182, 232, 128, 1.0)\",\"rgba(255, 151, 255, 1.0)\",\"rgba(254, 203, 82, 1.0)\"]},\"data\":{\"bar\":[{\"marker\":{\"line\":{\"color\":\"rgba(229, 236, 246, 1.0)\",\"width\":0.5},\"pattern\":{\"fillmode\":\"overlay\",\"size\":10,\"solidity\":0.2}},\"error_x\":{\"color\":\"rgba(42, 63, 95, 1.0)\"},\"error_y\":{\"color\":\"rgba(42, 63, 95, 1.0)\"}}],\"barpolar\":[{\"marker\":{\"line\":{\"color\":\"rgba(229, 236, 246, 1.0)\",\"width\":0.5},\"pattern\":{\"fillmode\":\"overlay\",\"size\":10,\"solidity\":0.2}}}],\"carpet\":[{\"aaxis\":{\"linecolor\":\"rgba(255, 255, 255, 1.0)\",\"gridcolor\":\"rgba(255, 255, 255, 1.0)\",\"endlinecolor\":\"rgba(42, 63, 95, 1.0)\",\"minorgridcolor\":\"rgba(255, 255, 255, 1.0)\",\"startlinecolor\":\"rgba(42, 63, 95, 1.0)\"},\"baxis\":{\"linecolor\":\"rgba(255, 255, 255, 1.0)\",\"gridcolor\":\"rgba(255, 255, 255, 1.0)\",\"endlinecolor\":\"rgba(42, 63, 95, 1.0)\",\"minorgridcolor\":\"rgba(255, 255, 255, 1.0)\",\"startlinecolor\":\"rgba(42, 63, 95, 1.0)\"}}],\"choropleth\":[{\"colorbar\":{\"outlinewidth\":0.0,\"ticks\":\"\"},\"colorscale\":[[0.0,\"#0d0887\"],[0.1111111111111111,\"#46039f\"],[0.2222222222222222,\"#7201a8\"],[0.3333333333333333,\"#9c179e\"],[0.4444444444444444,\"#bd3786\"],[0.5555555555555556,\"#d8576b\"],[0.6666666666666666,\"#ed7953\"],[0.7777777777777778,\"#fb9f3a\"],[0.8888888888888888,\"#fdca26\"],[1.0,\"#f0f921\"]]}],\"contour\":[{\"colorbar\":{\"outlinewidth\":0.0,\"ticks\":\"\"},\"colorscale\":[[0.0,\"#0d0887\"],[0.1111111111111111,\"#46039f\"],[0.2222222222222222,\"#7201a8\"],[0.3333333333333333,\"#9c179e\"],[0.4444444444444444,\"#bd3786\"],[0.5555555555555556,\"#d8576b\"],[0.6666666666666666,\"#ed7953\"],[0.7777777777777778,\"#fb9f3a\"],[0.8888888888888888,\"#fdca26\"],[1.0,\"#f0f921\"]]}],\"contourcarpet\":[{\"colorbar\":{\"outlinewidth\":0.0,\"ticks\":\"\"}}],\"heatmap\":[{\"colorbar\":{\"outlinewidth\":0.0,\"ticks\":\"\"},\"colorscale\":[[0.0,\"#0d0887\"],[0.1111111111111111,\"#46039f\"],[0.2222222222222222,\"#7201a8\"],[0.3333333333333333,\"#9c179e\"],[0.4444444444444444,\"#bd3786\"],[0.5555555555555556,\"#d8576b\"],[0.6666666666666666,\"#ed7953\"],[0.7777777777777778,\"#fb9f3a\"],[0.8888888888888888,\"#fdca26\"],[1.0,\"#f0f921\"]]}],\"heatmapgl\":[{\"colorbar\":{\"outlinewidth\":0.0,\"ticks\":\"\"},\"colorscale\":[[0.0,\"#0d0887\"],[0.1111111111111111,\"#46039f\"],[0.2222222222222222,\"#7201a8\"],[0.3333333333333333,\"#9c179e\"],[0.4444444444444444,\"#bd3786\"],[0.5555555555555556,\"#d8576b\"],[0.6666666666666666,\"#ed7953\"],[0.7777777777777778,\"#fb9f3a\"],[0.8888888888888888,\"#fdca26\"],[1.0,\"#f0f921\"]]}],\"histogram\":[{\"marker\":{\"pattern\":{\"fillmode\":\"overlay\",\"size\":10,\"solidity\":0.2}}}],\"histogram2d\":[{\"colorbar\":{\"outlinewidth\":0.0,\"ticks\":\"\"},\"colorscale\":[[0.0,\"#0d0887\"],[0.1111111111111111,\"#46039f\"],[0.2222222222222222,\"#7201a8\"],[0.3333333333333333,\"#9c179e\"],[0.4444444444444444,\"#bd3786\"],[0.5555555555555556,\"#d8576b\"],[0.6666666666666666,\"#ed7953\"],[0.7777777777777778,\"#fb9f3a\"],[0.8888888888888888,\"#fdca26\"],[1.0,\"#f0f921\"]]}],\"histogram2dcontour\":[{\"colorbar\":{\"outlinewidth\":0.0,\"ticks\":\"\"},\"colorscale\":[[0.0,\"#0d0887\"],[0.1111111111111111,\"#46039f\"],[0.2222222222222222,\"#7201a8\"],[0.3333333333333333,\"#9c179e\"],[0.4444444444444444,\"#bd3786\"],[0.5555555555555556,\"#d8576b\"],[0.6666666666666666,\"#ed7953\"],[0.7777777777777778,\"#fb9f3a\"],[0.8888888888888888,\"#fdca26\"],[1.0,\"#f0f921\"]]}],\"mesh3d\":[{\"colorbar\":{\"outlinewidth\":0.0,\"ticks\":\"\"}}],\"parcoords\":[{\"line\":{\"colorbar\":{\"outlinewidth\":0.0,\"ticks\":\"\"}}}],\"pie\":[{\"automargin\":true}],\"scatter\":[{\"marker\":{\"colorbar\":{\"outlinewidth\":0.0,\"ticks\":\"\"}}}],\"scatter3d\":[{\"marker\":{\"colorbar\":{\"outlinewidth\":0.0,\"ticks\":\"\"}},\"line\":{\"colorbar\":{\"outlinewidth\":0.0,\"ticks\":\"\"}}}],\"scattercarpet\":[{\"marker\":{\"colorbar\":{\"outlinewidth\":0.0,\"ticks\":\"\"}}}],\"scattergeo\":[{\"marker\":{\"colorbar\":{\"outlinewidth\":0.0,\"ticks\":\"\"}}}],\"scattergl\":[{\"marker\":{\"colorbar\":{\"outlinewidth\":0.0,\"ticks\":\"\"}}}],\"scattermapbox\":[{\"marker\":{\"colorbar\":{\"outlinewidth\":0.0,\"ticks\":\"\"}}}],\"scatterpolar\":[{\"marker\":{\"colorbar\":{\"outlinewidth\":0.0,\"ticks\":\"\"}}}],\"scatterpolargl\":[{\"marker\":{\"colorbar\":{\"outlinewidth\":0.0,\"ticks\":\"\"}}}],\"scatterternary\":[{\"marker\":{\"colorbar\":{\"outlinewidth\":0.0,\"ticks\":\"\"}}}],\"surface\":[{\"colorbar\":{\"outlinewidth\":0.0,\"ticks\":\"\"},\"colorscale\":[[0.0,\"#0d0887\"],[0.1111111111111111,\"#46039f\"],[0.2222222222222222,\"#7201a8\"],[0.3333333333333333,\"#9c179e\"],[0.4444444444444444,\"#bd3786\"],[0.5555555555555556,\"#d8576b\"],[0.6666666666666666,\"#ed7953\"],[0.7777777777777778,\"#fb9f3a\"],[0.8888888888888888,\"#fdca26\"],[1.0,\"#f0f921\"]]}],\"table\":[{\"cells\":{\"fill\":{\"color\":\"rgba(235, 240, 248, 1.0)\"},\"line\":{\"color\":\"rgba(255, 255, 255, 1.0)\"}},\"header\":{\"fill\":{\"color\":\"rgba(200, 212, 227, 1.0)\"},\"line\":{\"color\":\"rgba(255, 255, 255, 1.0)\"}}}]}},\"xaxis\":{\"title\":{\"text\":\"Trial\"},\"showgrid\":false},\"yaxis\":{\"title\":{\"text\":\"Metric\"},\"showgrid\":false}};\r\n",
              "            var config = {\"responsive\":true};\r\n",
              "            Plotly.newPlot('6a26b6e9-3ba1-4c76-9726-285bfaa259f3', data, layout, config);\r\n",
              "});\r\n",
              "            };\r\n",
              "            if ((typeof(requirejs) !==  typeof(Function)) || (typeof(requirejs.config) !== typeof(Function))) {\r\n",
              "                var script = document.createElement(\"script\");\r\n",
              "                script.setAttribute(\"src\", \"https://cdnjs.cloudflare.com/ajax/libs/require.js/2.3.6/require.min.js\");\r\n",
              "                script.onload = function(){\r\n",
              "                    renderPlotly_6a26b6e93ba14c769726285bfaa259f3();\r\n",
              "                };\r\n",
              "                document.getElementsByTagName(\"head\")[0].appendChild(script);\r\n",
              "            }\r\n",
              "            else {\r\n",
              "                renderPlotly_6a26b6e93ba14c769726285bfaa259f3();\r\n",
              "            }\r\n",
              "</script>\r\n",
              "\n",
              "    \n",
              "</div>    \n",
              "<div><h3>All Trials Table</h3></div><table id=\"table_638321912548101167\"><thead><tr><th><i>index</i></th><th>Trial</th><th>Metric</th><th>Trainer</th><th>Parameters</th></tr></thead><tbody><tr><td><i><div class=\"dni-plaintext\"><pre>0</pre></div></i></td><td><div class=\"dni-plaintext\"><pre>0</pre></div></td><td><div class=\"dni-plaintext\"><pre>0.9191953</pre></div></td><td>ReplaceMissingValues=&gt;OneHotEncoding=&gt;Concatenate=&gt;FastForestRegression</td><td>{&quot;_pipeline_&quot;:{&quot;_SCHEMA_&quot;:&quot;e0 * e1 * e3 * e5&quot;,&quot;e0&quot;:{&quot;OutputColumnNames&quot;:[&quot;rate_code&quot;,&quot;passenger_count&quot;,&quot;trip_time_in_secs&quot;,&quot;trip_distance&quot;],&quot;InputColumnNames&quot;:[&quot;rate_code&quot;,&quot;passenger_count&quot;,&quot;trip_time_in_secs&quot;,&quot;trip_distance&quot;]},&quot;e1&quot;:{&quot;OutputColumnNames&quot;:[&quot;vendor_id&quot;,&quot;payment_type&quot;],&quot;InputColumnNames&quot;:[&quot;vendor_id&quot;,&quot;payment_type&quot;]},&quot;e3&quot;:{&quot;InputColumnNames&quot;:[&quot;rate_code&quot;,&quot;passenger_count&quot;,&quot;trip_time_in_secs&quot;,&quot;trip_distance&quot;,&quot;vendor_id&quot;,&quot;payment_type&quot;],&quot;OutputColumnName&quot;:&quot;Features&quot;},&quot;e5&quot;:{&quot;NumberOfTrees&quot;:4,&quot;NumberOfLeaves&quot;:4,&quot;FeatureFraction&quot;:1,&quot;LabelColumnName&quot;:&quot;fare_amount&quot;,&quot;FeatureColumnName&quot;:&quot;Features&quot;}},&quot;_SCHEMA_&quot;:&quot;e0 * e1 * e3 * e4&quot;,&quot;e0&quot;:{&quot;OutputColumnNames&quot;:[&quot;rate_code&quot;,&quot;passenger_count&quot;,&quot;trip_time_in_secs&quot;,&quot;trip_distance&quot;],&quot;InputColumnNames&quot;:[&quot;rate_code&quot;,&quot;passenger_count&quot;,&quot;trip_time_in_secs&quot;,&quot;trip_distance&quot;]},&quot;e1&quot;:{&quot;OutputColumnNames&quot;:[&quot;vendor_id&quot;,&quot;payment_type&quot;],&quot;InputColumnNames&quot;:[&quot;vendor_id&quot;,&quot;payment_type&quot;]},&quot;e2&quot;:{&quot;OutputColumnNames&quot;:[&quot;vendor_id&quot;,&quot;payment_type&quot;],&quot;InputColumnNames&quot;:[&quot;vendor_id&quot;,&quot;payment_type&quot;]},&quot;e3&quot;:{&quot;InputColumnNames&quot;:[&quot;rate_code&quot;,&quot;passenger_count&quot;,&quot;trip_time_in_secs&quot;,&quot;trip_distance&quot;,&quot;vendor_id&quot;,&quot;payment_type&quot;],&quot;OutputColumnName&quot;:&quot;Features&quot;},&quot;e4&quot;:{&quot;NumberOfLeaves&quot;:4,&quot;MinimumExampleCountPerLeaf&quot;:20,&quot;NumberOfTrees&quot;:4,&quot;MaximumBinCountPerFeature&quot;:255,&quot;FeatureFraction&quot;:1,&quot;LearningRate&quot;:0.09999999999999998,&quot;LabelColumnName&quot;:&quot;fare_amount&quot;,&quot;FeatureColumnName&quot;:&quot;Features&quot;,&quot;DiskTranspose&quot;:false},&quot;e5&quot;:{&quot;NumberOfTrees&quot;:4,&quot;NumberOfLeaves&quot;:4,&quot;FeatureFraction&quot;:1,&quot;LabelColumnName&quot;:&quot;fare_amount&quot;,&quot;FeatureColumnName&quot;:&quot;Features&quot;},&quot;e6&quot;:{&quot;NumberOfLeaves&quot;:4,&quot;MinimumExampleCountPerLeaf&quot;:20,&quot;LearningRate&quot;:1,&quot;NumberOfTrees&quot;:4,&quot;SubsampleFraction&quot;:1,&quot;MaximumBinCountPerFeature&quot;:255,&quot;FeatureFraction&quot;:1,&quot;L1Regularization&quot;:2E-10,&quot;L2Regularization&quot;:1,&quot;LabelColumnName&quot;:&quot;fare_amount&quot;,&quot;FeatureColumnName&quot;:&quot;Features&quot;},&quot;e7&quot;:{&quot;L1Regularization&quot;:1,&quot;L2Regularization&quot;:1,&quot;LabelColumnName&quot;:&quot;fare_amount&quot;,&quot;FeatureColumnName&quot;:&quot;Features&quot;},&quot;e8&quot;:{&quot;L1Regularization&quot;:1,&quot;L2Regularization&quot;:0.1,&quot;LabelColumnName&quot;:&quot;fare_amount&quot;,&quot;FeatureColumnName&quot;:&quot;Features&quot;}}</td></tr><tr><td><i><div class=\"dni-plaintext\"><pre>1</pre></div></i></td><td><div class=\"dni-plaintext\"><pre>1</pre></div></td><td><div class=\"dni-plaintext\"><pre>0.6837143</pre></div></td><td>ReplaceMissingValues=&gt;OneHotEncoding=&gt;Concatenate=&gt;SdcaRegression</td><td>{&quot;_pipeline_&quot;:{&quot;_SCHEMA_&quot;:&quot;e0 * e1 * e3 * e8&quot;,&quot;e0&quot;:{&quot;OutputColumnNames&quot;:[&quot;rate_code&quot;,&quot;passenger_count&quot;,&quot;trip_time_in_secs&quot;,&quot;trip_distance&quot;],&quot;InputColumnNames&quot;:[&quot;rate_code&quot;,&quot;passenger_count&quot;,&quot;trip_time_in_secs&quot;,&quot;trip_distance&quot;]},&quot;e1&quot;:{&quot;OutputColumnNames&quot;:[&quot;vendor_id&quot;,&quot;payment_type&quot;],&quot;InputColumnNames&quot;:[&quot;vendor_id&quot;,&quot;payment_type&quot;]},&quot;e3&quot;:{&quot;InputColumnNames&quot;:[&quot;rate_code&quot;,&quot;passenger_count&quot;,&quot;trip_time_in_secs&quot;,&quot;trip_distance&quot;,&quot;vendor_id&quot;,&quot;payment_type&quot;],&quot;OutputColumnName&quot;:&quot;Features&quot;},&quot;e8&quot;:{&quot;L1Regularization&quot;:1,&quot;L2Regularization&quot;:0.1,&quot;LabelColumnName&quot;:&quot;fare_amount&quot;,&quot;FeatureColumnName&quot;:&quot;Features&quot;}},&quot;_SCHEMA_&quot;:&quot;e0 * e1 * e3 * e4&quot;,&quot;e0&quot;:{&quot;OutputColumnNames&quot;:[&quot;rate_code&quot;,&quot;passenger_count&quot;,&quot;trip_time_in_secs&quot;,&quot;trip_distance&quot;],&quot;InputColumnNames&quot;:[&quot;rate_code&quot;,&quot;passenger_count&quot;,&quot;trip_time_in_secs&quot;,&quot;trip_distance&quot;]},&quot;e1&quot;:{&quot;OutputColumnNames&quot;:[&quot;vendor_id&quot;,&quot;payment_type&quot;],&quot;InputColumnNames&quot;:[&quot;vendor_id&quot;,&quot;payment_type&quot;]},&quot;e2&quot;:{&quot;OutputColumnNames&quot;:[&quot;vendor_id&quot;,&quot;payment_type&quot;],&quot;InputColumnNames&quot;:[&quot;vendor_id&quot;,&quot;payment_type&quot;]},&quot;e3&quot;:{&quot;InputColumnNames&quot;:[&quot;rate_code&quot;,&quot;passenger_count&quot;,&quot;trip_time_in_secs&quot;,&quot;trip_distance&quot;,&quot;vendor_id&quot;,&quot;payment_type&quot;],&quot;OutputColumnName&quot;:&quot;Features&quot;},&quot;e4&quot;:{&quot;NumberOfLeaves&quot;:4,&quot;MinimumExampleCountPerLeaf&quot;:20,&quot;NumberOfTrees&quot;:4,&quot;MaximumBinCountPerFeature&quot;:255,&quot;FeatureFraction&quot;:1,&quot;LearningRate&quot;:0.09999999999999998,&quot;LabelColumnName&quot;:&quot;fare_amount&quot;,&quot;FeatureColumnName&quot;:&quot;Features&quot;,&quot;DiskTranspose&quot;:false},&quot;e5&quot;:{&quot;NumberOfTrees&quot;:4,&quot;NumberOfLeaves&quot;:4,&quot;FeatureFraction&quot;:1,&quot;LabelColumnName&quot;:&quot;fare_amount&quot;,&quot;FeatureColumnName&quot;:&quot;Features&quot;},&quot;e6&quot;:{&quot;NumberOfLeaves&quot;:4,&quot;MinimumExampleCountPerLeaf&quot;:20,&quot;LearningRate&quot;:1,&quot;NumberOfTrees&quot;:4,&quot;SubsampleFraction&quot;:1,&quot;MaximumBinCountPerFeature&quot;:255,&quot;FeatureFraction&quot;:1,&quot;L1Regularization&quot;:2E-10,&quot;L2Regularization&quot;:1,&quot;LabelColumnName&quot;:&quot;fare_amount&quot;,&quot;FeatureColumnName&quot;:&quot;Features&quot;},&quot;e7&quot;:{&quot;L1Regularization&quot;:1,&quot;L2Regularization&quot;:1,&quot;LabelColumnName&quot;:&quot;fare_amount&quot;,&quot;FeatureColumnName&quot;:&quot;Features&quot;},&quot;e8&quot;:{&quot;L1Regularization&quot;:1,&quot;L2Regularization&quot;:0.1,&quot;LabelColumnName&quot;:&quot;fare_amount&quot;,&quot;FeatureColumnName&quot;:&quot;Features&quot;}}</td></tr><tr><td><i><div class=\"dni-plaintext\"><pre>2</pre></div></i></td><td><div class=\"dni-plaintext\"><pre>2</pre></div></td><td><div class=\"dni-plaintext\"><pre>-0.20007557</pre></div></td><td>ReplaceMissingValues=&gt;OneHotEncoding=&gt;Concatenate=&gt;FastTreeRegression</td><td>{&quot;_pipeline_&quot;:{&quot;_SCHEMA_&quot;:&quot;e0 * e1 * e3 * e4&quot;,&quot;e0&quot;:{&quot;OutputColumnNames&quot;:[&quot;rate_code&quot;,&quot;passenger_count&quot;,&quot;trip_time_in_secs&quot;,&quot;trip_distance&quot;],&quot;InputColumnNames&quot;:[&quot;rate_code&quot;,&quot;passenger_count&quot;,&quot;trip_time_in_secs&quot;,&quot;trip_distance&quot;]},&quot;e1&quot;:{&quot;OutputColumnNames&quot;:[&quot;vendor_id&quot;,&quot;payment_type&quot;],&quot;InputColumnNames&quot;:[&quot;vendor_id&quot;,&quot;payment_type&quot;]},&quot;e3&quot;:{&quot;InputColumnNames&quot;:[&quot;rate_code&quot;,&quot;passenger_count&quot;,&quot;trip_time_in_secs&quot;,&quot;trip_distance&quot;,&quot;vendor_id&quot;,&quot;payment_type&quot;],&quot;OutputColumnName&quot;:&quot;Features&quot;},&quot;e4&quot;:{&quot;NumberOfLeaves&quot;:4,&quot;MinimumExampleCountPerLeaf&quot;:20,&quot;NumberOfTrees&quot;:4,&quot;MaximumBinCountPerFeature&quot;:254,&quot;FeatureFraction&quot;:1,&quot;LearningRate&quot;:0.09999999999999998,&quot;LabelColumnName&quot;:&quot;fare_amount&quot;,&quot;FeatureColumnName&quot;:&quot;Features&quot;,&quot;DiskTranspose&quot;:false}},&quot;_SCHEMA_&quot;:&quot;e0 * e1 * e3 * e4&quot;,&quot;e0&quot;:{&quot;OutputColumnNames&quot;:[&quot;rate_code&quot;,&quot;passenger_count&quot;,&quot;trip_time_in_secs&quot;,&quot;trip_distance&quot;],&quot;InputColumnNames&quot;:[&quot;rate_code&quot;,&quot;passenger_count&quot;,&quot;trip_time_in_secs&quot;,&quot;trip_distance&quot;]},&quot;e1&quot;:{&quot;OutputColumnNames&quot;:[&quot;vendor_id&quot;,&quot;payment_type&quot;],&quot;InputColumnNames&quot;:[&quot;vendor_id&quot;,&quot;payment_type&quot;]},&quot;e2&quot;:{&quot;OutputColumnNames&quot;:[&quot;vendor_id&quot;,&quot;payment_type&quot;],&quot;InputColumnNames&quot;:[&quot;vendor_id&quot;,&quot;payment_type&quot;]},&quot;e3&quot;:{&quot;InputColumnNames&quot;:[&quot;rate_code&quot;,&quot;passenger_count&quot;,&quot;trip_time_in_secs&quot;,&quot;trip_distance&quot;,&quot;vendor_id&quot;,&quot;payment_type&quot;],&quot;OutputColumnName&quot;:&quot;Features&quot;},&quot;e4&quot;:{&quot;NumberOfLeaves&quot;:4,&quot;MinimumExampleCountPerLeaf&quot;:20,&quot;NumberOfTrees&quot;:4,&quot;MaximumBinCountPerFeature&quot;:255,&quot;FeatureFraction&quot;:1,&quot;LearningRate&quot;:0.09999999999999998,&quot;LabelColumnName&quot;:&quot;fare_amount&quot;,&quot;FeatureColumnName&quot;:&quot;Features&quot;,&quot;DiskTranspose&quot;:false},&quot;e5&quot;:{&quot;NumberOfTrees&quot;:4,&quot;NumberOfLeaves&quot;:4,&quot;FeatureFraction&quot;:1,&quot;LabelColumnName&quot;:&quot;fare_amount&quot;,&quot;FeatureColumnName&quot;:&quot;Features&quot;},&quot;e6&quot;:{&quot;NumberOfLeaves&quot;:4,&quot;MinimumExampleCountPerLeaf&quot;:20,&quot;LearningRate&quot;:1,&quot;NumberOfTrees&quot;:4,&quot;SubsampleFraction&quot;:1,&quot;MaximumBinCountPerFeature&quot;:255,&quot;FeatureFraction&quot;:1,&quot;L1Regularization&quot;:2E-10,&quot;L2Regularization&quot;:1,&quot;LabelColumnName&quot;:&quot;fare_amount&quot;,&quot;FeatureColumnName&quot;:&quot;Features&quot;},&quot;e7&quot;:{&quot;L1Regularization&quot;:1,&quot;L2Regularization&quot;:1,&quot;LabelColumnName&quot;:&quot;fare_amount&quot;,&quot;FeatureColumnName&quot;:&quot;Features&quot;},&quot;e8&quot;:{&quot;L1Regularization&quot;:1,&quot;L2Regularization&quot;:0.1,&quot;LabelColumnName&quot;:&quot;fare_amount&quot;,&quot;FeatureColumnName&quot;:&quot;Features&quot;}}</td></tr><tr><td><i><div class=\"dni-plaintext\"><pre>3</pre></div></i></td><td><div class=\"dni-plaintext\"><pre>3</pre></div></td><td><div class=\"dni-plaintext\"><pre>0.87426853</pre></div></td><td>ReplaceMissingValues=&gt;OneHotHashEncoding=&gt;Concatenate=&gt;LightGbmRegression</td><td>{&quot;_pipeline_&quot;:{&quot;_SCHEMA_&quot;:&quot;e0 * e2 * e3 * e6&quot;,&quot;e0&quot;:{&quot;OutputColumnNames&quot;:[&quot;rate_code&quot;,&quot;passenger_count&quot;,&quot;trip_time_in_secs&quot;,&quot;trip_distance&quot;],&quot;InputColumnNames&quot;:[&quot;rate_code&quot;,&quot;passenger_count&quot;,&quot;trip_time_in_secs&quot;,&quot;trip_distance&quot;]},&quot;e2&quot;:{&quot;OutputColumnNames&quot;:[&quot;vendor_id&quot;,&quot;payment_type&quot;],&quot;InputColumnNames&quot;:[&quot;vendor_id&quot;,&quot;payment_type&quot;]},&quot;e3&quot;:{&quot;InputColumnNames&quot;:[&quot;rate_code&quot;,&quot;passenger_count&quot;,&quot;trip_time_in_secs&quot;,&quot;trip_distance&quot;,&quot;vendor_id&quot;,&quot;payment_type&quot;],&quot;OutputColumnName&quot;:&quot;Features&quot;},&quot;e6&quot;:{&quot;NumberOfLeaves&quot;:4,&quot;MinimumExampleCountPerLeaf&quot;:20,&quot;LearningRate&quot;:1,&quot;NumberOfTrees&quot;:4,&quot;SubsampleFraction&quot;:1,&quot;MaximumBinCountPerFeature&quot;:254,&quot;FeatureFraction&quot;:1,&quot;L1Regularization&quot;:2E-10,&quot;L2Regularization&quot;:1,&quot;LabelColumnName&quot;:&quot;fare_amount&quot;,&quot;FeatureColumnName&quot;:&quot;Features&quot;}},&quot;_SCHEMA_&quot;:&quot;e0 * e1 * e3 * e4&quot;,&quot;e0&quot;:{&quot;OutputColumnNames&quot;:[&quot;rate_code&quot;,&quot;passenger_count&quot;,&quot;trip_time_in_secs&quot;,&quot;trip_distance&quot;],&quot;InputColumnNames&quot;:[&quot;rate_code&quot;,&quot;passenger_count&quot;,&quot;trip_time_in_secs&quot;,&quot;trip_distance&quot;]},&quot;e1&quot;:{&quot;OutputColumnNames&quot;:[&quot;vendor_id&quot;,&quot;payment_type&quot;],&quot;InputColumnNames&quot;:[&quot;vendor_id&quot;,&quot;payment_type&quot;]},&quot;e2&quot;:{&quot;OutputColumnNames&quot;:[&quot;vendor_id&quot;,&quot;payment_type&quot;],&quot;InputColumnNames&quot;:[&quot;vendor_id&quot;,&quot;payment_type&quot;]},&quot;e3&quot;:{&quot;InputColumnNames&quot;:[&quot;rate_code&quot;,&quot;passenger_count&quot;,&quot;trip_time_in_secs&quot;,&quot;trip_distance&quot;,&quot;vendor_id&quot;,&quot;payment_type&quot;],&quot;OutputColumnName&quot;:&quot;Features&quot;},&quot;e4&quot;:{&quot;NumberOfLeaves&quot;:4,&quot;MinimumExampleCountPerLeaf&quot;:20,&quot;NumberOfTrees&quot;:4,&quot;MaximumBinCountPerFeature&quot;:255,&quot;FeatureFraction&quot;:1,&quot;LearningRate&quot;:0.09999999999999998,&quot;LabelColumnName&quot;:&quot;fare_amount&quot;,&quot;FeatureColumnName&quot;:&quot;Features&quot;,&quot;DiskTranspose&quot;:false},&quot;e5&quot;:{&quot;NumberOfTrees&quot;:4,&quot;NumberOfLeaves&quot;:4,&quot;FeatureFraction&quot;:1,&quot;LabelColumnName&quot;:&quot;fare_amount&quot;,&quot;FeatureColumnName&quot;:&quot;Features&quot;},&quot;e6&quot;:{&quot;NumberOfLeaves&quot;:4,&quot;MinimumExampleCountPerLeaf&quot;:20,&quot;LearningRate&quot;:1,&quot;NumberOfTrees&quot;:4,&quot;SubsampleFraction&quot;:1,&quot;MaximumBinCountPerFeature&quot;:255,&quot;FeatureFraction&quot;:1,&quot;L1Regularization&quot;:2E-10,&quot;L2Regularization&quot;:1,&quot;LabelColumnName&quot;:&quot;fare_amount&quot;,&quot;FeatureColumnName&quot;:&quot;Features&quot;},&quot;e7&quot;:{&quot;L1Regularization&quot;:1,&quot;L2Regularization&quot;:1,&quot;LabelColumnName&quot;:&quot;fare_amount&quot;,&quot;FeatureColumnName&quot;:&quot;Features&quot;},&quot;e8&quot;:{&quot;L1Regularization&quot;:1,&quot;L2Regularization&quot;:0.1,&quot;LabelColumnName&quot;:&quot;fare_amount&quot;,&quot;FeatureColumnName&quot;:&quot;Features&quot;}}</td></tr><tr><td><i><div class=\"dni-plaintext\"><pre>4</pre></div></i></td><td><div class=\"dni-plaintext\"><pre>4</pre></div></td><td><div class=\"dni-plaintext\"><pre>0.9191953</pre></div></td><td>ReplaceMissingValues=&gt;OneHotHashEncoding=&gt;Concatenate=&gt;FastForestRegression</td><td>{&quot;_pipeline_&quot;:{&quot;_SCHEMA_&quot;:&quot;e0 * e2 * e3 * e5&quot;,&quot;e0&quot;:{&quot;OutputColumnNames&quot;:[&quot;rate_code&quot;,&quot;passenger_count&quot;,&quot;trip_time_in_secs&quot;,&quot;trip_distance&quot;],&quot;InputColumnNames&quot;:[&quot;rate_code&quot;,&quot;passenger_count&quot;,&quot;trip_time_in_secs&quot;,&quot;trip_distance&quot;]},&quot;e2&quot;:{&quot;OutputColumnNames&quot;:[&quot;vendor_id&quot;,&quot;payment_type&quot;],&quot;InputColumnNames&quot;:[&quot;vendor_id&quot;,&quot;payment_type&quot;]},&quot;e3&quot;:{&quot;InputColumnNames&quot;:[&quot;rate_code&quot;,&quot;passenger_count&quot;,&quot;trip_time_in_secs&quot;,&quot;trip_distance&quot;,&quot;vendor_id&quot;,&quot;payment_type&quot;],&quot;OutputColumnName&quot;:&quot;Features&quot;},&quot;e5&quot;:{&quot;NumberOfTrees&quot;:4,&quot;NumberOfLeaves&quot;:4,&quot;FeatureFraction&quot;:1,&quot;LabelColumnName&quot;:&quot;fare_amount&quot;,&quot;FeatureColumnName&quot;:&quot;Features&quot;}},&quot;_SCHEMA_&quot;:&quot;e0 * e1 * e3 * e4&quot;,&quot;e0&quot;:{&quot;OutputColumnNames&quot;:[&quot;rate_code&quot;,&quot;passenger_count&quot;,&quot;trip_time_in_secs&quot;,&quot;trip_distance&quot;],&quot;InputColumnNames&quot;:[&quot;rate_code&quot;,&quot;passenger_count&quot;,&quot;trip_time_in_secs&quot;,&quot;trip_distance&quot;]},&quot;e1&quot;:{&quot;OutputColumnNames&quot;:[&quot;vendor_id&quot;,&quot;payment_type&quot;],&quot;InputColumnNames&quot;:[&quot;vendor_id&quot;,&quot;payment_type&quot;]},&quot;e2&quot;:{&quot;OutputColumnNames&quot;:[&quot;vendor_id&quot;,&quot;payment_type&quot;],&quot;InputColumnNames&quot;:[&quot;vendor_id&quot;,&quot;payment_type&quot;]},&quot;e3&quot;:{&quot;InputColumnNames&quot;:[&quot;rate_code&quot;,&quot;passenger_count&quot;,&quot;trip_time_in_secs&quot;,&quot;trip_distance&quot;,&quot;vendor_id&quot;,&quot;payment_type&quot;],&quot;OutputColumnName&quot;:&quot;Features&quot;},&quot;e4&quot;:{&quot;NumberOfLeaves&quot;:4,&quot;MinimumExampleCountPerLeaf&quot;:20,&quot;NumberOfTrees&quot;:4,&quot;MaximumBinCountPerFeature&quot;:255,&quot;FeatureFraction&quot;:1,&quot;LearningRate&quot;:0.09999999999999998,&quot;LabelColumnName&quot;:&quot;fare_amount&quot;,&quot;FeatureColumnName&quot;:&quot;Features&quot;,&quot;DiskTranspose&quot;:false},&quot;e5&quot;:{&quot;NumberOfTrees&quot;:4,&quot;NumberOfLeaves&quot;:4,&quot;FeatureFraction&quot;:1,&quot;LabelColumnName&quot;:&quot;fare_amount&quot;,&quot;FeatureColumnName&quot;:&quot;Features&quot;},&quot;e6&quot;:{&quot;NumberOfLeaves&quot;:4,&quot;MinimumExampleCountPerLeaf&quot;:20,&quot;LearningRate&quot;:1,&quot;NumberOfTrees&quot;:4,&quot;SubsampleFraction&quot;:1,&quot;MaximumBinCountPerFeature&quot;:255,&quot;FeatureFraction&quot;:1,&quot;L1Regularization&quot;:2E-10,&quot;L2Regularization&quot;:1,&quot;LabelColumnName&quot;:&quot;fare_amount&quot;,&quot;FeatureColumnName&quot;:&quot;Features&quot;},&quot;e7&quot;:{&quot;L1Regularization&quot;:1,&quot;L2Regularization&quot;:1,&quot;LabelColumnName&quot;:&quot;fare_amount&quot;,&quot;FeatureColumnName&quot;:&quot;Features&quot;},&quot;e8&quot;:{&quot;L1Regularization&quot;:1,&quot;L2Regularization&quot;:0.1,&quot;LabelColumnName&quot;:&quot;fare_amount&quot;,&quot;FeatureColumnName&quot;:&quot;Features&quot;}}</td></tr><tr><td><i><div class=\"dni-plaintext\"><pre>5</pre></div></i></td><td><div class=\"dni-plaintext\"><pre>5</pre></div></td><td><div class=\"dni-plaintext\"><pre>-0.20007557</pre></div></td><td>ReplaceMissingValues=&gt;OneHotHashEncoding=&gt;Concatenate=&gt;FastTreeRegression</td><td>{&quot;_pipeline_&quot;:{&quot;_SCHEMA_&quot;:&quot;e0 * e2 * e3 * e4&quot;,&quot;e0&quot;:{&quot;OutputColumnNames&quot;:[&quot;rate_code&quot;,&quot;passenger_count&quot;,&quot;trip_time_in_secs&quot;,&quot;trip_distance&quot;],&quot;InputColumnNames&quot;:[&quot;rate_code&quot;,&quot;passenger_count&quot;,&quot;trip_time_in_secs&quot;,&quot;trip_distance&quot;]},&quot;e2&quot;:{&quot;OutputColumnNames&quot;:[&quot;vendor_id&quot;,&quot;payment_type&quot;],&quot;InputColumnNames&quot;:[&quot;vendor_id&quot;,&quot;payment_type&quot;]},&quot;e3&quot;:{&quot;InputColumnNames&quot;:[&quot;rate_code&quot;,&quot;passenger_count&quot;,&quot;trip_time_in_secs&quot;,&quot;trip_distance&quot;,&quot;vendor_id&quot;,&quot;payment_type&quot;],&quot;OutputColumnName&quot;:&quot;Features&quot;},&quot;e4&quot;:{&quot;NumberOfLeaves&quot;:4,&quot;MinimumExampleCountPerLeaf&quot;:20,&quot;NumberOfTrees&quot;:4,&quot;MaximumBinCountPerFeature&quot;:254,&quot;FeatureFraction&quot;:1,&quot;LearningRate&quot;:0.09999999999999998,&quot;LabelColumnName&quot;:&quot;fare_amount&quot;,&quot;FeatureColumnName&quot;:&quot;Features&quot;,&quot;DiskTranspose&quot;:false}},&quot;_SCHEMA_&quot;:&quot;e0 * e1 * e3 * e4&quot;,&quot;e0&quot;:{&quot;OutputColumnNames&quot;:[&quot;rate_code&quot;,&quot;passenger_count&quot;,&quot;trip_time_in_secs&quot;,&quot;trip_distance&quot;],&quot;InputColumnNames&quot;:[&quot;rate_code&quot;,&quot;passenger_count&quot;,&quot;trip_time_in_secs&quot;,&quot;trip_distance&quot;]},&quot;e1&quot;:{&quot;OutputColumnNames&quot;:[&quot;vendor_id&quot;,&quot;payment_type&quot;],&quot;InputColumnNames&quot;:[&quot;vendor_id&quot;,&quot;payment_type&quot;]},&quot;e2&quot;:{&quot;OutputColumnNames&quot;:[&quot;vendor_id&quot;,&quot;payment_type&quot;],&quot;InputColumnNames&quot;:[&quot;vendor_id&quot;,&quot;payment_type&quot;]},&quot;e3&quot;:{&quot;InputColumnNames&quot;:[&quot;rate_code&quot;,&quot;passenger_count&quot;,&quot;trip_time_in_secs&quot;,&quot;trip_distance&quot;,&quot;vendor_id&quot;,&quot;payment_type&quot;],&quot;OutputColumnName&quot;:&quot;Features&quot;},&quot;e4&quot;:{&quot;NumberOfLeaves&quot;:4,&quot;MinimumExampleCountPerLeaf&quot;:20,&quot;NumberOfTrees&quot;:4,&quot;MaximumBinCountPerFeature&quot;:255,&quot;FeatureFraction&quot;:1,&quot;LearningRate&quot;:0.09999999999999998,&quot;LabelColumnName&quot;:&quot;fare_amount&quot;,&quot;FeatureColumnName&quot;:&quot;Features&quot;,&quot;DiskTranspose&quot;:false},&quot;e5&quot;:{&quot;NumberOfTrees&quot;:4,&quot;NumberOfLeaves&quot;:4,&quot;FeatureFraction&quot;:1,&quot;LabelColumnName&quot;:&quot;fare_amount&quot;,&quot;FeatureColumnName&quot;:&quot;Features&quot;},&quot;e6&quot;:{&quot;NumberOfLeaves&quot;:4,&quot;MinimumExampleCountPerLeaf&quot;:20,&quot;LearningRate&quot;:1,&quot;NumberOfTrees&quot;:4,&quot;SubsampleFraction&quot;:1,&quot;MaximumBinCountPerFeature&quot;:255,&quot;FeatureFraction&quot;:1,&quot;L1Regularization&quot;:2E-10,&quot;L2Regularization&quot;:1,&quot;LabelColumnName&quot;:&quot;fare_amount&quot;,&quot;FeatureColumnName&quot;:&quot;Features&quot;},&quot;e7&quot;:{&quot;L1Regularization&quot;:1,&quot;L2Regularization&quot;:1,&quot;LabelColumnName&quot;:&quot;fare_amount&quot;,&quot;FeatureColumnName&quot;:&quot;Features&quot;},&quot;e8&quot;:{&quot;L1Regularization&quot;:1,&quot;L2Regularization&quot;:0.1,&quot;LabelColumnName&quot;:&quot;fare_amount&quot;,&quot;FeatureColumnName&quot;:&quot;Features&quot;}}</td></tr><tr><td><i><div class=\"dni-plaintext\"><pre>6</pre></div></i></td><td><div class=\"dni-plaintext\"><pre>6</pre></div></td><td><div class=\"dni-plaintext\"><pre>-2.4756217</pre></div></td><td>ReplaceMissingValues=&gt;OneHotEncoding=&gt;Concatenate=&gt;LbfgsPoissonRegressionRegression</td><td>{&quot;_pipeline_&quot;:{&quot;_SCHEMA_&quot;:&quot;e0 * e1 * e3 * e7&quot;,&quot;e0&quot;:{&quot;OutputColumnNames&quot;:[&quot;rate_code&quot;,&quot;passenger_count&quot;,&quot;trip_time_in_secs&quot;,&quot;trip_distance&quot;],&quot;InputColumnNames&quot;:[&quot;rate_code&quot;,&quot;passenger_count&quot;,&quot;trip_time_in_secs&quot;,&quot;trip_distance&quot;]},&quot;e1&quot;:{&quot;OutputColumnNames&quot;:[&quot;vendor_id&quot;,&quot;payment_type&quot;],&quot;InputColumnNames&quot;:[&quot;vendor_id&quot;,&quot;payment_type&quot;]},&quot;e3&quot;:{&quot;InputColumnNames&quot;:[&quot;rate_code&quot;,&quot;passenger_count&quot;,&quot;trip_time_in_secs&quot;,&quot;trip_distance&quot;,&quot;vendor_id&quot;,&quot;payment_type&quot;],&quot;OutputColumnName&quot;:&quot;Features&quot;},&quot;e7&quot;:{&quot;L1Regularization&quot;:1,&quot;L2Regularization&quot;:1,&quot;LabelColumnName&quot;:&quot;fare_amount&quot;,&quot;FeatureColumnName&quot;:&quot;Features&quot;}},&quot;_SCHEMA_&quot;:&quot;e0 * e1 * e3 * e4&quot;,&quot;e0&quot;:{&quot;OutputColumnNames&quot;:[&quot;rate_code&quot;,&quot;passenger_count&quot;,&quot;trip_time_in_secs&quot;,&quot;trip_distance&quot;],&quot;InputColumnNames&quot;:[&quot;rate_code&quot;,&quot;passenger_count&quot;,&quot;trip_time_in_secs&quot;,&quot;trip_distance&quot;]},&quot;e1&quot;:{&quot;OutputColumnNames&quot;:[&quot;vendor_id&quot;,&quot;payment_type&quot;],&quot;InputColumnNames&quot;:[&quot;vendor_id&quot;,&quot;payment_type&quot;]},&quot;e2&quot;:{&quot;OutputColumnNames&quot;:[&quot;vendor_id&quot;,&quot;payment_type&quot;],&quot;InputColumnNames&quot;:[&quot;vendor_id&quot;,&quot;payment_type&quot;]},&quot;e3&quot;:{&quot;InputColumnNames&quot;:[&quot;rate_code&quot;,&quot;passenger_count&quot;,&quot;trip_time_in_secs&quot;,&quot;trip_distance&quot;,&quot;vendor_id&quot;,&quot;payment_type&quot;],&quot;OutputColumnName&quot;:&quot;Features&quot;},&quot;e4&quot;:{&quot;NumberOfLeaves&quot;:4,&quot;MinimumExampleCountPerLeaf&quot;:20,&quot;NumberOfTrees&quot;:4,&quot;MaximumBinCountPerFeature&quot;:255,&quot;FeatureFraction&quot;:1,&quot;LearningRate&quot;:0.09999999999999998,&quot;LabelColumnName&quot;:&quot;fare_amount&quot;,&quot;FeatureColumnName&quot;:&quot;Features&quot;,&quot;DiskTranspose&quot;:false},&quot;e5&quot;:{&quot;NumberOfTrees&quot;:4,&quot;NumberOfLeaves&quot;:4,&quot;FeatureFraction&quot;:1,&quot;LabelColumnName&quot;:&quot;fare_amount&quot;,&quot;FeatureColumnName&quot;:&quot;Features&quot;},&quot;e6&quot;:{&quot;NumberOfLeaves&quot;:4,&quot;MinimumExampleCountPerLeaf&quot;:20,&quot;LearningRate&quot;:1,&quot;NumberOfTrees&quot;:4,&quot;SubsampleFraction&quot;:1,&quot;MaximumBinCountPerFeature&quot;:255,&quot;FeatureFraction&quot;:1,&quot;L1Regularization&quot;:2E-10,&quot;L2Regularization&quot;:1,&quot;LabelColumnName&quot;:&quot;fare_amount&quot;,&quot;FeatureColumnName&quot;:&quot;Features&quot;},&quot;e7&quot;:{&quot;L1Regularization&quot;:1,&quot;L2Regularization&quot;:1,&quot;LabelColumnName&quot;:&quot;fare_amount&quot;,&quot;FeatureColumnName&quot;:&quot;Features&quot;},&quot;e8&quot;:{&quot;L1Regularization&quot;:1,&quot;L2Regularization&quot;:0.1,&quot;LabelColumnName&quot;:&quot;fare_amount&quot;,&quot;FeatureColumnName&quot;:&quot;Features&quot;}}</td></tr><tr><td><i><div class=\"dni-plaintext\"><pre>7</pre></div></i></td><td><div class=\"dni-plaintext\"><pre>7</pre></div></td><td><div class=\"dni-plaintext\"><pre>0.91369754</pre></div></td><td>ReplaceMissingValues=&gt;OneHotHashEncoding=&gt;Concatenate=&gt;FastForestRegression</td><td>{&quot;_pipeline_&quot;:{&quot;_SCHEMA_&quot;:&quot;e0 * e2 * e3 * e5&quot;,&quot;e0&quot;:{&quot;OutputColumnNames&quot;:[&quot;rate_code&quot;,&quot;passenger_count&quot;,&quot;trip_time_in_secs&quot;,&quot;trip_distance&quot;],&quot;InputColumnNames&quot;:[&quot;rate_code&quot;,&quot;passenger_count&quot;,&quot;trip_time_in_secs&quot;,&quot;trip_distance&quot;]},&quot;e2&quot;:{&quot;OutputColumnNames&quot;:[&quot;vendor_id&quot;,&quot;payment_type&quot;],&quot;InputColumnNames&quot;:[&quot;vendor_id&quot;,&quot;payment_type&quot;]},&quot;e3&quot;:{&quot;InputColumnNames&quot;:[&quot;rate_code&quot;,&quot;passenger_count&quot;,&quot;trip_time_in_secs&quot;,&quot;trip_distance&quot;,&quot;vendor_id&quot;,&quot;payment_type&quot;],&quot;OutputColumnName&quot;:&quot;Features&quot;},&quot;e5&quot;:{&quot;NumberOfTrees&quot;:5,&quot;NumberOfLeaves&quot;:4,&quot;FeatureFraction&quot;:0.9202097,&quot;LabelColumnName&quot;:&quot;fare_amount&quot;,&quot;FeatureColumnName&quot;:&quot;Features&quot;}},&quot;_SCHEMA_&quot;:&quot;e0 * e1 * e3 * e4&quot;,&quot;e0&quot;:{&quot;OutputColumnNames&quot;:[&quot;rate_code&quot;,&quot;passenger_count&quot;,&quot;trip_time_in_secs&quot;,&quot;trip_distance&quot;],&quot;InputColumnNames&quot;:[&quot;rate_code&quot;,&quot;passenger_count&quot;,&quot;trip_time_in_secs&quot;,&quot;trip_distance&quot;]},&quot;e1&quot;:{&quot;OutputColumnNames&quot;:[&quot;vendor_id&quot;,&quot;payment_type&quot;],&quot;InputColumnNames&quot;:[&quot;vendor_id&quot;,&quot;payment_type&quot;]},&quot;e2&quot;:{&quot;OutputColumnNames&quot;:[&quot;vendor_id&quot;,&quot;payment_type&quot;],&quot;InputColumnNames&quot;:[&quot;vendor_id&quot;,&quot;payment_type&quot;]},&quot;e3&quot;:{&quot;InputColumnNames&quot;:[&quot;rate_code&quot;,&quot;passenger_count&quot;,&quot;trip_time_in_secs&quot;,&quot;trip_distance&quot;,&quot;vendor_id&quot;,&quot;payment_type&quot;],&quot;OutputColumnName&quot;:&quot;Features&quot;},&quot;e4&quot;:{&quot;NumberOfLeaves&quot;:4,&quot;MinimumExampleCountPerLeaf&quot;:20,&quot;NumberOfTrees&quot;:4,&quot;MaximumBinCountPerFeature&quot;:255,&quot;FeatureFraction&quot;:1,&quot;LearningRate&quot;:0.09999999999999998,&quot;LabelColumnName&quot;:&quot;fare_amount&quot;,&quot;FeatureColumnName&quot;:&quot;Features&quot;,&quot;DiskTranspose&quot;:false},&quot;e5&quot;:{&quot;NumberOfTrees&quot;:4,&quot;NumberOfLeaves&quot;:4,&quot;FeatureFraction&quot;:1,&quot;LabelColumnName&quot;:&quot;fare_amount&quot;,&quot;FeatureColumnName&quot;:&quot;Features&quot;},&quot;e6&quot;:{&quot;NumberOfLeaves&quot;:4,&quot;MinimumExampleCountPerLeaf&quot;:20,&quot;LearningRate&quot;:1,&quot;NumberOfTrees&quot;:4,&quot;SubsampleFraction&quot;:1,&quot;MaximumBinCountPerFeature&quot;:255,&quot;FeatureFraction&quot;:1,&quot;L1Regularization&quot;:2E-10,&quot;L2Regularization&quot;:1,&quot;LabelColumnName&quot;:&quot;fare_amount&quot;,&quot;FeatureColumnName&quot;:&quot;Features&quot;},&quot;e7&quot;:{&quot;L1Regularization&quot;:1,&quot;L2Regularization&quot;:1,&quot;LabelColumnName&quot;:&quot;fare_amount&quot;,&quot;FeatureColumnName&quot;:&quot;Features&quot;},&quot;e8&quot;:{&quot;L1Regularization&quot;:1,&quot;L2Regularization&quot;:0.1,&quot;LabelColumnName&quot;:&quot;fare_amount&quot;,&quot;FeatureColumnName&quot;:&quot;Features&quot;}}</td></tr><tr><td><i><div class=\"dni-plaintext\"><pre>8</pre></div></i></td><td><div class=\"dni-plaintext\"><pre>8</pre></div></td><td><div class=\"dni-plaintext\"><pre>0.68685144</pre></div></td><td>ReplaceMissingValues=&gt;OneHotHashEncoding=&gt;Concatenate=&gt;SdcaRegression</td><td>{&quot;_pipeline_&quot;:{&quot;_SCHEMA_&quot;:&quot;e0 * e2 * e3 * e8&quot;,&quot;e0&quot;:{&quot;OutputColumnNames&quot;:[&quot;rate_code&quot;,&quot;passenger_count&quot;,&quot;trip_time_in_secs&quot;,&quot;trip_distance&quot;],&quot;InputColumnNames&quot;:[&quot;rate_code&quot;,&quot;passenger_count&quot;,&quot;trip_time_in_secs&quot;,&quot;trip_distance&quot;]},&quot;e2&quot;:{&quot;OutputColumnNames&quot;:[&quot;vendor_id&quot;,&quot;payment_type&quot;],&quot;InputColumnNames&quot;:[&quot;vendor_id&quot;,&quot;payment_type&quot;]},&quot;e3&quot;:{&quot;InputColumnNames&quot;:[&quot;rate_code&quot;,&quot;passenger_count&quot;,&quot;trip_time_in_secs&quot;,&quot;trip_distance&quot;,&quot;vendor_id&quot;,&quot;payment_type&quot;],&quot;OutputColumnName&quot;:&quot;Features&quot;},&quot;e8&quot;:{&quot;L1Regularization&quot;:1,&quot;L2Regularization&quot;:0.1,&quot;LabelColumnName&quot;:&quot;fare_amount&quot;,&quot;FeatureColumnName&quot;:&quot;Features&quot;}},&quot;_SCHEMA_&quot;:&quot;e0 * e1 * e3 * e4&quot;,&quot;e0&quot;:{&quot;OutputColumnNames&quot;:[&quot;rate_code&quot;,&quot;passenger_count&quot;,&quot;trip_time_in_secs&quot;,&quot;trip_distance&quot;],&quot;InputColumnNames&quot;:[&quot;rate_code&quot;,&quot;passenger_count&quot;,&quot;trip_time_in_secs&quot;,&quot;trip_distance&quot;]},&quot;e1&quot;:{&quot;OutputColumnNames&quot;:[&quot;vendor_id&quot;,&quot;payment_type&quot;],&quot;InputColumnNames&quot;:[&quot;vendor_id&quot;,&quot;payment_type&quot;]},&quot;e2&quot;:{&quot;OutputColumnNames&quot;:[&quot;vendor_id&quot;,&quot;payment_type&quot;],&quot;InputColumnNames&quot;:[&quot;vendor_id&quot;,&quot;payment_type&quot;]},&quot;e3&quot;:{&quot;InputColumnNames&quot;:[&quot;rate_code&quot;,&quot;passenger_count&quot;,&quot;trip_time_in_secs&quot;,&quot;trip_distance&quot;,&quot;vendor_id&quot;,&quot;payment_type&quot;],&quot;OutputColumnName&quot;:&quot;Features&quot;},&quot;e4&quot;:{&quot;NumberOfLeaves&quot;:4,&quot;MinimumExampleCountPerLeaf&quot;:20,&quot;NumberOfTrees&quot;:4,&quot;MaximumBinCountPerFeature&quot;:255,&quot;FeatureFraction&quot;:1,&quot;LearningRate&quot;:0.09999999999999998,&quot;LabelColumnName&quot;:&quot;fare_amount&quot;,&quot;FeatureColumnName&quot;:&quot;Features&quot;,&quot;DiskTranspose&quot;:false},&quot;e5&quot;:{&quot;NumberOfTrees&quot;:4,&quot;NumberOfLeaves&quot;:4,&quot;FeatureFraction&quot;:1,&quot;LabelColumnName&quot;:&quot;fare_amount&quot;,&quot;FeatureColumnName&quot;:&quot;Features&quot;},&quot;e6&quot;:{&quot;NumberOfLeaves&quot;:4,&quot;MinimumExampleCountPerLeaf&quot;:20,&quot;LearningRate&quot;:1,&quot;NumberOfTrees&quot;:4,&quot;SubsampleFraction&quot;:1,&quot;MaximumBinCountPerFeature&quot;:255,&quot;FeatureFraction&quot;:1,&quot;L1Regularization&quot;:2E-10,&quot;L2Regularization&quot;:1,&quot;LabelColumnName&quot;:&quot;fare_amount&quot;,&quot;FeatureColumnName&quot;:&quot;Features&quot;},&quot;e7&quot;:{&quot;L1Regularization&quot;:1,&quot;L2Regularization&quot;:1,&quot;LabelColumnName&quot;:&quot;fare_amount&quot;,&quot;FeatureColumnName&quot;:&quot;Features&quot;},&quot;e8&quot;:{&quot;L1Regularization&quot;:1,&quot;L2Regularization&quot;:0.1,&quot;LabelColumnName&quot;:&quot;fare_amount&quot;,&quot;FeatureColumnName&quot;:&quot;Features&quot;}}</td></tr><tr><td><i><div class=\"dni-plaintext\"><pre>9</pre></div></i></td><td><div class=\"dni-plaintext\"><pre>9</pre></div></td><td><div class=\"dni-plaintext\"><pre>0.87429875</pre></div></td><td>ReplaceMissingValues=&gt;OneHotEncoding=&gt;Concatenate=&gt;LightGbmRegression</td><td>{&quot;_pipeline_&quot;:{&quot;_SCHEMA_&quot;:&quot;e0 * e1 * e3 * e6&quot;,&quot;e0&quot;:{&quot;OutputColumnNames&quot;:[&quot;rate_code&quot;,&quot;passenger_count&quot;,&quot;trip_time_in_secs&quot;,&quot;trip_distance&quot;],&quot;InputColumnNames&quot;:[&quot;rate_code&quot;,&quot;passenger_count&quot;,&quot;trip_time_in_secs&quot;,&quot;trip_distance&quot;]},&quot;e1&quot;:{&quot;OutputColumnNames&quot;:[&quot;vendor_id&quot;,&quot;payment_type&quot;],&quot;InputColumnNames&quot;:[&quot;vendor_id&quot;,&quot;payment_type&quot;]},&quot;e3&quot;:{&quot;InputColumnNames&quot;:[&quot;rate_code&quot;,&quot;passenger_count&quot;,&quot;trip_time_in_secs&quot;,&quot;trip_distance&quot;,&quot;vendor_id&quot;,&quot;payment_type&quot;],&quot;OutputColumnName&quot;:&quot;Features&quot;},&quot;e6&quot;:{&quot;NumberOfLeaves&quot;:4,&quot;MinimumExampleCountPerLeaf&quot;:20,&quot;LearningRate&quot;:1,&quot;NumberOfTrees&quot;:4,&quot;SubsampleFraction&quot;:1,&quot;MaximumBinCountPerFeature&quot;:254,&quot;FeatureFraction&quot;:1,&quot;L1Regularization&quot;:2E-10,&quot;L2Regularization&quot;:1,&quot;LabelColumnName&quot;:&quot;fare_amount&quot;,&quot;FeatureColumnName&quot;:&quot;Features&quot;}},&quot;_SCHEMA_&quot;:&quot;e0 * e1 * e3 * e4&quot;,&quot;e0&quot;:{&quot;OutputColumnNames&quot;:[&quot;rate_code&quot;,&quot;passenger_count&quot;,&quot;trip_time_in_secs&quot;,&quot;trip_distance&quot;],&quot;InputColumnNames&quot;:[&quot;rate_code&quot;,&quot;passenger_count&quot;,&quot;trip_time_in_secs&quot;,&quot;trip_distance&quot;]},&quot;e1&quot;:{&quot;OutputColumnNames&quot;:[&quot;vendor_id&quot;,&quot;payment_type&quot;],&quot;InputColumnNames&quot;:[&quot;vendor_id&quot;,&quot;payment_type&quot;]},&quot;e2&quot;:{&quot;OutputColumnNames&quot;:[&quot;vendor_id&quot;,&quot;payment_type&quot;],&quot;InputColumnNames&quot;:[&quot;vendor_id&quot;,&quot;payment_type&quot;]},&quot;e3&quot;:{&quot;InputColumnNames&quot;:[&quot;rate_code&quot;,&quot;passenger_count&quot;,&quot;trip_time_in_secs&quot;,&quot;trip_distance&quot;,&quot;vendor_id&quot;,&quot;payment_type&quot;],&quot;OutputColumnName&quot;:&quot;Features&quot;},&quot;e4&quot;:{&quot;NumberOfLeaves&quot;:4,&quot;MinimumExampleCountPerLeaf&quot;:20,&quot;NumberOfTrees&quot;:4,&quot;MaximumBinCountPerFeature&quot;:255,&quot;FeatureFraction&quot;:1,&quot;LearningRate&quot;:0.09999999999999998,&quot;LabelColumnName&quot;:&quot;fare_amount&quot;,&quot;FeatureColumnName&quot;:&quot;Features&quot;,&quot;DiskTranspose&quot;:false},&quot;e5&quot;:{&quot;NumberOfTrees&quot;:4,&quot;NumberOfLeaves&quot;:4,&quot;FeatureFraction&quot;:1,&quot;LabelColumnName&quot;:&quot;fare_amount&quot;,&quot;FeatureColumnName&quot;:&quot;Features&quot;},&quot;e6&quot;:{&quot;NumberOfLeaves&quot;:4,&quot;MinimumExampleCountPerLeaf&quot;:20,&quot;LearningRate&quot;:1,&quot;NumberOfTrees&quot;:4,&quot;SubsampleFraction&quot;:1,&quot;MaximumBinCountPerFeature&quot;:255,&quot;FeatureFraction&quot;:1,&quot;L1Regularization&quot;:2E-10,&quot;L2Regularization&quot;:1,&quot;LabelColumnName&quot;:&quot;fare_amount&quot;,&quot;FeatureColumnName&quot;:&quot;Features&quot;},&quot;e7&quot;:{&quot;L1Regularization&quot;:1,&quot;L2Regularization&quot;:1,&quot;LabelColumnName&quot;:&quot;fare_amount&quot;,&quot;FeatureColumnName&quot;:&quot;Features&quot;},&quot;e8&quot;:{&quot;L1Regularization&quot;:1,&quot;L2Regularization&quot;:0.1,&quot;LabelColumnName&quot;:&quot;fare_amount&quot;,&quot;FeatureColumnName&quot;:&quot;Features&quot;}}</td></tr><tr><td><i><div class=\"dni-plaintext\"><pre>10</pre></div></i></td><td><div class=\"dni-plaintext\"><pre>10</pre></div></td><td><div class=\"dni-plaintext\"><pre>-2.4838917</pre></div></td><td>ReplaceMissingValues=&gt;OneHotHashEncoding=&gt;Concatenate=&gt;LbfgsPoissonRegressionRegression</td><td>{&quot;_pipeline_&quot;:{&quot;_SCHEMA_&quot;:&quot;e0 * e2 * e3 * e7&quot;,&quot;e0&quot;:{&quot;OutputColumnNames&quot;:[&quot;rate_code&quot;,&quot;passenger_count&quot;,&quot;trip_time_in_secs&quot;,&quot;trip_distance&quot;],&quot;InputColumnNames&quot;:[&quot;rate_code&quot;,&quot;passenger_count&quot;,&quot;trip_time_in_secs&quot;,&quot;trip_distance&quot;]},&quot;e2&quot;:{&quot;OutputColumnNames&quot;:[&quot;vendor_id&quot;,&quot;payment_type&quot;],&quot;InputColumnNames&quot;:[&quot;vendor_id&quot;,&quot;payment_type&quot;]},&quot;e3&quot;:{&quot;InputColumnNames&quot;:[&quot;rate_code&quot;,&quot;passenger_count&quot;,&quot;trip_time_in_secs&quot;,&quot;trip_distance&quot;,&quot;vendor_id&quot;,&quot;payment_type&quot;],&quot;OutputColumnName&quot;:&quot;Features&quot;},&quot;e7&quot;:{&quot;L1Regularization&quot;:1,&quot;L2Regularization&quot;:1,&quot;LabelColumnName&quot;:&quot;fare_amount&quot;,&quot;FeatureColumnName&quot;:&quot;Features&quot;}},&quot;_SCHEMA_&quot;:&quot;e0 * e1 * e3 * e4&quot;,&quot;e0&quot;:{&quot;OutputColumnNames&quot;:[&quot;rate_code&quot;,&quot;passenger_count&quot;,&quot;trip_time_in_secs&quot;,&quot;trip_distance&quot;],&quot;InputColumnNames&quot;:[&quot;rate_code&quot;,&quot;passenger_count&quot;,&quot;trip_time_in_secs&quot;,&quot;trip_distance&quot;]},&quot;e1&quot;:{&quot;OutputColumnNames&quot;:[&quot;vendor_id&quot;,&quot;payment_type&quot;],&quot;InputColumnNames&quot;:[&quot;vendor_id&quot;,&quot;payment_type&quot;]},&quot;e2&quot;:{&quot;OutputColumnNames&quot;:[&quot;vendor_id&quot;,&quot;payment_type&quot;],&quot;InputColumnNames&quot;:[&quot;vendor_id&quot;,&quot;payment_type&quot;]},&quot;e3&quot;:{&quot;InputColumnNames&quot;:[&quot;rate_code&quot;,&quot;passenger_count&quot;,&quot;trip_time_in_secs&quot;,&quot;trip_distance&quot;,&quot;vendor_id&quot;,&quot;payment_type&quot;],&quot;OutputColumnName&quot;:&quot;Features&quot;},&quot;e4&quot;:{&quot;NumberOfLeaves&quot;:4,&quot;MinimumExampleCountPerLeaf&quot;:20,&quot;NumberOfTrees&quot;:4,&quot;MaximumBinCountPerFeature&quot;:255,&quot;FeatureFraction&quot;:1,&quot;LearningRate&quot;:0.09999999999999998,&quot;LabelColumnName&quot;:&quot;fare_amount&quot;,&quot;FeatureColumnName&quot;:&quot;Features&quot;,&quot;DiskTranspose&quot;:false},&quot;e5&quot;:{&quot;NumberOfTrees&quot;:4,&quot;NumberOfLeaves&quot;:4,&quot;FeatureFraction&quot;:1,&quot;LabelColumnName&quot;:&quot;fare_amount&quot;,&quot;FeatureColumnName&quot;:&quot;Features&quot;},&quot;e6&quot;:{&quot;NumberOfLeaves&quot;:4,&quot;MinimumExampleCountPerLeaf&quot;:20,&quot;LearningRate&quot;:1,&quot;NumberOfTrees&quot;:4,&quot;SubsampleFraction&quot;:1,&quot;MaximumBinCountPerFeature&quot;:255,&quot;FeatureFraction&quot;:1,&quot;L1Regularization&quot;:2E-10,&quot;L2Regularization&quot;:1,&quot;LabelColumnName&quot;:&quot;fare_amount&quot;,&quot;FeatureColumnName&quot;:&quot;Features&quot;},&quot;e7&quot;:{&quot;L1Regularization&quot;:1,&quot;L2Regularization&quot;:1,&quot;LabelColumnName&quot;:&quot;fare_amount&quot;,&quot;FeatureColumnName&quot;:&quot;Features&quot;},&quot;e8&quot;:{&quot;L1Regularization&quot;:1,&quot;L2Regularization&quot;:0.1,&quot;LabelColumnName&quot;:&quot;fare_amount&quot;,&quot;FeatureColumnName&quot;:&quot;Features&quot;}}</td></tr><tr><td><i><div class=\"dni-plaintext\"><pre>11</pre></div></i></td><td><div class=\"dni-plaintext\"><pre>11</pre></div></td><td><div class=\"dni-plaintext\"><pre>0.87334675</pre></div></td><td>ReplaceMissingValues=&gt;OneHotHashEncoding=&gt;Concatenate=&gt;LightGbmRegression</td><td>{&quot;_pipeline_&quot;:{&quot;_SCHEMA_&quot;:&quot;e0 * e2 * e3 * e6&quot;,&quot;e0&quot;:{&quot;OutputColumnNames&quot;:[&quot;rate_code&quot;,&quot;passenger_count&quot;,&quot;trip_time_in_secs&quot;,&quot;trip_distance&quot;],&quot;InputColumnNames&quot;:[&quot;rate_code&quot;,&quot;passenger_count&quot;,&quot;trip_time_in_secs&quot;,&quot;trip_distance&quot;]},&quot;e2&quot;:{&quot;OutputColumnNames&quot;:[&quot;vendor_id&quot;,&quot;payment_type&quot;],&quot;InputColumnNames&quot;:[&quot;vendor_id&quot;,&quot;payment_type&quot;]},&quot;e3&quot;:{&quot;InputColumnNames&quot;:[&quot;rate_code&quot;,&quot;passenger_count&quot;,&quot;trip_time_in_secs&quot;,&quot;trip_distance&quot;,&quot;vendor_id&quot;,&quot;payment_type&quot;],&quot;OutputColumnName&quot;:&quot;Features&quot;},&quot;e6&quot;:{&quot;NumberOfLeaves&quot;:4,&quot;MinimumExampleCountPerLeaf&quot;:20,&quot;LearningRate&quot;:0.9999997766729865,&quot;NumberOfTrees&quot;:4,&quot;SubsampleFraction&quot;:0.9999997766729865,&quot;MaximumBinCountPerFeature&quot;:312,&quot;FeatureFraction&quot;:0.99999999,&quot;L1Regularization&quot;:2E-10,&quot;L2Regularization&quot;:0.9999997766729865,&quot;LabelColumnName&quot;:&quot;fare_amount&quot;,&quot;FeatureColumnName&quot;:&quot;Features&quot;}},&quot;_SCHEMA_&quot;:&quot;e0 * e1 * e3 * e4&quot;,&quot;e0&quot;:{&quot;OutputColumnNames&quot;:[&quot;rate_code&quot;,&quot;passenger_count&quot;,&quot;trip_time_in_secs&quot;,&quot;trip_distance&quot;],&quot;InputColumnNames&quot;:[&quot;rate_code&quot;,&quot;passenger_count&quot;,&quot;trip_time_in_secs&quot;,&quot;trip_distance&quot;]},&quot;e1&quot;:{&quot;OutputColumnNames&quot;:[&quot;vendor_id&quot;,&quot;payment_type&quot;],&quot;InputColumnNames&quot;:[&quot;vendor_id&quot;,&quot;payment_type&quot;]},&quot;e2&quot;:{&quot;OutputColumnNames&quot;:[&quot;vendor_id&quot;,&quot;payment_type&quot;],&quot;InputColumnNames&quot;:[&quot;vendor_id&quot;,&quot;payment_type&quot;]},&quot;e3&quot;:{&quot;InputColumnNames&quot;:[&quot;rate_code&quot;,&quot;passenger_count&quot;,&quot;trip_time_in_secs&quot;,&quot;trip_distance&quot;,&quot;vendor_id&quot;,&quot;payment_type&quot;],&quot;OutputColumnName&quot;:&quot;Features&quot;},&quot;e4&quot;:{&quot;NumberOfLeaves&quot;:4,&quot;MinimumExampleCountPerLeaf&quot;:20,&quot;NumberOfTrees&quot;:4,&quot;MaximumBinCountPerFeature&quot;:255,&quot;FeatureFraction&quot;:1,&quot;LearningRate&quot;:0.09999999999999998,&quot;LabelColumnName&quot;:&quot;fare_amount&quot;,&quot;FeatureColumnName&quot;:&quot;Features&quot;,&quot;DiskTranspose&quot;:false},&quot;e5&quot;:{&quot;NumberOfTrees&quot;:4,&quot;NumberOfLeaves&quot;:4,&quot;FeatureFraction&quot;:1,&quot;LabelColumnName&quot;:&quot;fare_amount&quot;,&quot;FeatureColumnName&quot;:&quot;Features&quot;},&quot;e6&quot;:{&quot;NumberOfLeaves&quot;:4,&quot;MinimumExampleCountPerLeaf&quot;:20,&quot;LearningRate&quot;:1,&quot;NumberOfTrees&quot;:4,&quot;SubsampleFraction&quot;:1,&quot;MaximumBinCountPerFeature&quot;:255,&quot;FeatureFraction&quot;:1,&quot;L1Regularization&quot;:2E-10,&quot;L2Regularization&quot;:1,&quot;LabelColumnName&quot;:&quot;fare_amount&quot;,&quot;FeatureColumnName&quot;:&quot;Features&quot;},&quot;e7&quot;:{&quot;L1Regularization&quot;:1,&quot;L2Regularization&quot;:1,&quot;LabelColumnName&quot;:&quot;fare_amount&quot;,&quot;FeatureColumnName&quot;:&quot;Features&quot;},&quot;e8&quot;:{&quot;L1Regularization&quot;:1,&quot;L2Regularization&quot;:0.1,&quot;LabelColumnName&quot;:&quot;fare_amount&quot;,&quot;FeatureColumnName&quot;:&quot;Features&quot;}}</td></tr><tr><td><i><div class=\"dni-plaintext\"><pre>12</pre></div></i></td><td><div class=\"dni-plaintext\"><pre>12</pre></div></td><td><div class=\"dni-plaintext\"><pre>0.9191953</pre></div></td><td>ReplaceMissingValues=&gt;OneHotHashEncoding=&gt;Concatenate=&gt;FastForestRegression</td><td>{&quot;_pipeline_&quot;:{&quot;_SCHEMA_&quot;:&quot;e0 * e2 * e3 * e5&quot;,&quot;e0&quot;:{&quot;OutputColumnNames&quot;:[&quot;rate_code&quot;,&quot;passenger_count&quot;,&quot;trip_time_in_secs&quot;,&quot;trip_distance&quot;],&quot;InputColumnNames&quot;:[&quot;rate_code&quot;,&quot;passenger_count&quot;,&quot;trip_time_in_secs&quot;,&quot;trip_distance&quot;]},&quot;e2&quot;:{&quot;OutputColumnNames&quot;:[&quot;vendor_id&quot;,&quot;payment_type&quot;],&quot;InputColumnNames&quot;:[&quot;vendor_id&quot;,&quot;payment_type&quot;]},&quot;e3&quot;:{&quot;InputColumnNames&quot;:[&quot;rate_code&quot;,&quot;passenger_count&quot;,&quot;trip_time_in_secs&quot;,&quot;trip_distance&quot;,&quot;vendor_id&quot;,&quot;payment_type&quot;],&quot;OutputColumnName&quot;:&quot;Features&quot;},&quot;e5&quot;:{&quot;NumberOfTrees&quot;:4,&quot;NumberOfLeaves&quot;:5,&quot;FeatureFraction&quot;:1,&quot;LabelColumnName&quot;:&quot;fare_amount&quot;,&quot;FeatureColumnName&quot;:&quot;Features&quot;}},&quot;_SCHEMA_&quot;:&quot;e0 * e1 * e3 * e4&quot;,&quot;e0&quot;:{&quot;OutputColumnNames&quot;:[&quot;rate_code&quot;,&quot;passenger_count&quot;,&quot;trip_time_in_secs&quot;,&quot;trip_distance&quot;],&quot;InputColumnNames&quot;:[&quot;rate_code&quot;,&quot;passenger_count&quot;,&quot;trip_time_in_secs&quot;,&quot;trip_distance&quot;]},&quot;e1&quot;:{&quot;OutputColumnNames&quot;:[&quot;vendor_id&quot;,&quot;payment_type&quot;],&quot;InputColumnNames&quot;:[&quot;vendor_id&quot;,&quot;payment_type&quot;]},&quot;e2&quot;:{&quot;OutputColumnNames&quot;:[&quot;vendor_id&quot;,&quot;payment_type&quot;],&quot;InputColumnNames&quot;:[&quot;vendor_id&quot;,&quot;payment_type&quot;]},&quot;e3&quot;:{&quot;InputColumnNames&quot;:[&quot;rate_code&quot;,&quot;passenger_count&quot;,&quot;trip_time_in_secs&quot;,&quot;trip_distance&quot;,&quot;vendor_id&quot;,&quot;payment_type&quot;],&quot;OutputColumnName&quot;:&quot;Features&quot;},&quot;e4&quot;:{&quot;NumberOfLeaves&quot;:4,&quot;MinimumExampleCountPerLeaf&quot;:20,&quot;NumberOfTrees&quot;:4,&quot;MaximumBinCountPerFeature&quot;:255,&quot;FeatureFraction&quot;:1,&quot;LearningRate&quot;:0.09999999999999998,&quot;LabelColumnName&quot;:&quot;fare_amount&quot;,&quot;FeatureColumnName&quot;:&quot;Features&quot;,&quot;DiskTranspose&quot;:false},&quot;e5&quot;:{&quot;NumberOfTrees&quot;:4,&quot;NumberOfLeaves&quot;:4,&quot;FeatureFraction&quot;:1,&quot;LabelColumnName&quot;:&quot;fare_amount&quot;,&quot;FeatureColumnName&quot;:&quot;Features&quot;},&quot;e6&quot;:{&quot;NumberOfLeaves&quot;:4,&quot;MinimumExampleCountPerLeaf&quot;:20,&quot;LearningRate&quot;:1,&quot;NumberOfTrees&quot;:4,&quot;SubsampleFraction&quot;:1,&quot;MaximumBinCountPerFeature&quot;:255,&quot;FeatureFraction&quot;:1,&quot;L1Regularization&quot;:2E-10,&quot;L2Regularization&quot;:1,&quot;LabelColumnName&quot;:&quot;fare_amount&quot;,&quot;FeatureColumnName&quot;:&quot;Features&quot;},&quot;e7&quot;:{&quot;L1Regularization&quot;:1,&quot;L2Regularization&quot;:1,&quot;LabelColumnName&quot;:&quot;fare_amount&quot;,&quot;FeatureColumnName&quot;:&quot;Features&quot;},&quot;e8&quot;:{&quot;L1Regularization&quot;:1,&quot;L2Regularization&quot;:0.1,&quot;LabelColumnName&quot;:&quot;fare_amount&quot;,&quot;FeatureColumnName&quot;:&quot;Features&quot;}}</td></tr><tr><td><i><div class=\"dni-plaintext\"><pre>13</pre></div></i></td><td><div class=\"dni-plaintext\"><pre>13</pre></div></td><td><div class=\"dni-plaintext\"><pre>0.9191953</pre></div></td><td>ReplaceMissingValues=&gt;OneHotHashEncoding=&gt;Concatenate=&gt;FastForestRegression</td><td>{&quot;_pipeline_&quot;:{&quot;_SCHEMA_&quot;:&quot;e0 * e2 * e3 * e5&quot;,&quot;e0&quot;:{&quot;OutputColumnNames&quot;:[&quot;rate_code&quot;,&quot;passenger_count&quot;,&quot;trip_time_in_secs&quot;,&quot;trip_distance&quot;],&quot;InputColumnNames&quot;:[&quot;rate_code&quot;,&quot;passenger_count&quot;,&quot;trip_time_in_secs&quot;,&quot;trip_distance&quot;]},&quot;e2&quot;:{&quot;OutputColumnNames&quot;:[&quot;vendor_id&quot;,&quot;payment_type&quot;],&quot;InputColumnNames&quot;:[&quot;vendor_id&quot;,&quot;payment_type&quot;]},&quot;e3&quot;:{&quot;InputColumnNames&quot;:[&quot;rate_code&quot;,&quot;passenger_count&quot;,&quot;trip_time_in_secs&quot;,&quot;trip_distance&quot;,&quot;vendor_id&quot;,&quot;payment_type&quot;],&quot;OutputColumnName&quot;:&quot;Features&quot;},&quot;e5&quot;:{&quot;NumberOfTrees&quot;:4,&quot;NumberOfLeaves&quot;:7,&quot;FeatureFraction&quot;:1,&quot;LabelColumnName&quot;:&quot;fare_amount&quot;,&quot;FeatureColumnName&quot;:&quot;Features&quot;}},&quot;_SCHEMA_&quot;:&quot;e0 * e1 * e3 * e4&quot;,&quot;e0&quot;:{&quot;OutputColumnNames&quot;:[&quot;rate_code&quot;,&quot;passenger_count&quot;,&quot;trip_time_in_secs&quot;,&quot;trip_distance&quot;],&quot;InputColumnNames&quot;:[&quot;rate_code&quot;,&quot;passenger_count&quot;,&quot;trip_time_in_secs&quot;,&quot;trip_distance&quot;]},&quot;e1&quot;:{&quot;OutputColumnNames&quot;:[&quot;vendor_id&quot;,&quot;payment_type&quot;],&quot;InputColumnNames&quot;:[&quot;vendor_id&quot;,&quot;payment_type&quot;]},&quot;e2&quot;:{&quot;OutputColumnNames&quot;:[&quot;vendor_id&quot;,&quot;payment_type&quot;],&quot;InputColumnNames&quot;:[&quot;vendor_id&quot;,&quot;payment_type&quot;]},&quot;e3&quot;:{&quot;InputColumnNames&quot;:[&quot;rate_code&quot;,&quot;passenger_count&quot;,&quot;trip_time_in_secs&quot;,&quot;trip_distance&quot;,&quot;vendor_id&quot;,&quot;payment_type&quot;],&quot;OutputColumnName&quot;:&quot;Features&quot;},&quot;e4&quot;:{&quot;NumberOfLeaves&quot;:4,&quot;MinimumExampleCountPerLeaf&quot;:20,&quot;NumberOfTrees&quot;:4,&quot;MaximumBinCountPerFeature&quot;:255,&quot;FeatureFraction&quot;:1,&quot;LearningRate&quot;:0.09999999999999998,&quot;LabelColumnName&quot;:&quot;fare_amount&quot;,&quot;FeatureColumnName&quot;:&quot;Features&quot;,&quot;DiskTranspose&quot;:false},&quot;e5&quot;:{&quot;NumberOfTrees&quot;:4,&quot;NumberOfLeaves&quot;:4,&quot;FeatureFraction&quot;:1,&quot;LabelColumnName&quot;:&quot;fare_amount&quot;,&quot;FeatureColumnName&quot;:&quot;Features&quot;},&quot;e6&quot;:{&quot;NumberOfLeaves&quot;:4,&quot;MinimumExampleCountPerLeaf&quot;:20,&quot;LearningRate&quot;:1,&quot;NumberOfTrees&quot;:4,&quot;SubsampleFraction&quot;:1,&quot;MaximumBinCountPerFeature&quot;:255,&quot;FeatureFraction&quot;:1,&quot;L1Regularization&quot;:2E-10,&quot;L2Regularization&quot;:1,&quot;LabelColumnName&quot;:&quot;fare_amount&quot;,&quot;FeatureColumnName&quot;:&quot;Features&quot;},&quot;e7&quot;:{&quot;L1Regularization&quot;:1,&quot;L2Regularization&quot;:1,&quot;LabelColumnName&quot;:&quot;fare_amount&quot;,&quot;FeatureColumnName&quot;:&quot;Features&quot;},&quot;e8&quot;:{&quot;L1Regularization&quot;:1,&quot;L2Regularization&quot;:0.1,&quot;LabelColumnName&quot;:&quot;fare_amount&quot;,&quot;FeatureColumnName&quot;:&quot;Features&quot;}}</td></tr><tr><td><i><div class=\"dni-plaintext\"><pre>14</pre></div></i></td><td><div class=\"dni-plaintext\"><pre>14</pre></div></td><td><div class=\"dni-plaintext\"><pre>0.9191953</pre></div></td><td>ReplaceMissingValues=&gt;OneHotHashEncoding=&gt;Concatenate=&gt;FastForestRegression</td><td>{&quot;_pipeline_&quot;:{&quot;_SCHEMA_&quot;:&quot;e0 * e2 * e3 * e5&quot;,&quot;e0&quot;:{&quot;OutputColumnNames&quot;:[&quot;rate_code&quot;,&quot;passenger_count&quot;,&quot;trip_time_in_secs&quot;,&quot;trip_distance&quot;],&quot;InputColumnNames&quot;:[&quot;rate_code&quot;,&quot;passenger_count&quot;,&quot;trip_time_in_secs&quot;,&quot;trip_distance&quot;]},&quot;e2&quot;:{&quot;OutputColumnNames&quot;:[&quot;vendor_id&quot;,&quot;payment_type&quot;],&quot;InputColumnNames&quot;:[&quot;vendor_id&quot;,&quot;payment_type&quot;]},&quot;e3&quot;:{&quot;InputColumnNames&quot;:[&quot;rate_code&quot;,&quot;passenger_count&quot;,&quot;trip_time_in_secs&quot;,&quot;trip_distance&quot;,&quot;vendor_id&quot;,&quot;payment_type&quot;],&quot;OutputColumnName&quot;:&quot;Features&quot;},&quot;e5&quot;:{&quot;NumberOfTrees&quot;:4,&quot;NumberOfLeaves&quot;:4,&quot;FeatureFraction&quot;:0.99078816,&quot;LabelColumnName&quot;:&quot;fare_amount&quot;,&quot;FeatureColumnName&quot;:&quot;Features&quot;}},&quot;_SCHEMA_&quot;:&quot;e0 * e1 * e3 * e4&quot;,&quot;e0&quot;:{&quot;OutputColumnNames&quot;:[&quot;rate_code&quot;,&quot;passenger_count&quot;,&quot;trip_time_in_secs&quot;,&quot;trip_distance&quot;],&quot;InputColumnNames&quot;:[&quot;rate_code&quot;,&quot;passenger_count&quot;,&quot;trip_time_in_secs&quot;,&quot;trip_distance&quot;]},&quot;e1&quot;:{&quot;OutputColumnNames&quot;:[&quot;vendor_id&quot;,&quot;payment_type&quot;],&quot;InputColumnNames&quot;:[&quot;vendor_id&quot;,&quot;payment_type&quot;]},&quot;e2&quot;:{&quot;OutputColumnNames&quot;:[&quot;vendor_id&quot;,&quot;payment_type&quot;],&quot;InputColumnNames&quot;:[&quot;vendor_id&quot;,&quot;payment_type&quot;]},&quot;e3&quot;:{&quot;InputColumnNames&quot;:[&quot;rate_code&quot;,&quot;passenger_count&quot;,&quot;trip_time_in_secs&quot;,&quot;trip_distance&quot;,&quot;vendor_id&quot;,&quot;payment_type&quot;],&quot;OutputColumnName&quot;:&quot;Features&quot;},&quot;e4&quot;:{&quot;NumberOfLeaves&quot;:4,&quot;MinimumExampleCountPerLeaf&quot;:20,&quot;NumberOfTrees&quot;:4,&quot;MaximumBinCountPerFeature&quot;:255,&quot;FeatureFraction&quot;:1,&quot;LearningRate&quot;:0.09999999999999998,&quot;LabelColumnName&quot;:&quot;fare_amount&quot;,&quot;FeatureColumnName&quot;:&quot;Features&quot;,&quot;DiskTranspose&quot;:false},&quot;e5&quot;:{&quot;NumberOfTrees&quot;:4,&quot;NumberOfLeaves&quot;:4,&quot;FeatureFraction&quot;:1,&quot;LabelColumnName&quot;:&quot;fare_amount&quot;,&quot;FeatureColumnName&quot;:&quot;Features&quot;},&quot;e6&quot;:{&quot;NumberOfLeaves&quot;:4,&quot;MinimumExampleCountPerLeaf&quot;:20,&quot;LearningRate&quot;:1,&quot;NumberOfTrees&quot;:4,&quot;SubsampleFraction&quot;:1,&quot;MaximumBinCountPerFeature&quot;:255,&quot;FeatureFraction&quot;:1,&quot;L1Regularization&quot;:2E-10,&quot;L2Regularization&quot;:1,&quot;LabelColumnName&quot;:&quot;fare_amount&quot;,&quot;FeatureColumnName&quot;:&quot;Features&quot;},&quot;e7&quot;:{&quot;L1Regularization&quot;:1,&quot;L2Regularization&quot;:1,&quot;LabelColumnName&quot;:&quot;fare_amount&quot;,&quot;FeatureColumnName&quot;:&quot;Features&quot;},&quot;e8&quot;:{&quot;L1Regularization&quot;:1,&quot;L2Regularization&quot;:0.1,&quot;LabelColumnName&quot;:&quot;fare_amount&quot;,&quot;FeatureColumnName&quot;:&quot;Features&quot;}}</td></tr><tr><td><i><div class=\"dni-plaintext\"><pre>15</pre></div></i></td><td><div class=\"dni-plaintext\"><pre>15</pre></div></td><td><div class=\"dni-plaintext\"><pre>0.9191953</pre></div></td><td>ReplaceMissingValues=&gt;OneHotHashEncoding=&gt;Concatenate=&gt;FastForestRegression</td><td>{&quot;_pipeline_&quot;:{&quot;_SCHEMA_&quot;:&quot;e0 * e2 * e3 * e5&quot;,&quot;e0&quot;:{&quot;OutputColumnNames&quot;:[&quot;rate_code&quot;,&quot;passenger_count&quot;,&quot;trip_time_in_secs&quot;,&quot;trip_distance&quot;],&quot;InputColumnNames&quot;:[&quot;rate_code&quot;,&quot;passenger_count&quot;,&quot;trip_time_in_secs&quot;,&quot;trip_distance&quot;]},&quot;e2&quot;:{&quot;OutputColumnNames&quot;:[&quot;vendor_id&quot;,&quot;payment_type&quot;],&quot;InputColumnNames&quot;:[&quot;vendor_id&quot;,&quot;payment_type&quot;]},&quot;e3&quot;:{&quot;InputColumnNames&quot;:[&quot;rate_code&quot;,&quot;passenger_count&quot;,&quot;trip_time_in_secs&quot;,&quot;trip_distance&quot;,&quot;vendor_id&quot;,&quot;payment_type&quot;],&quot;OutputColumnName&quot;:&quot;Features&quot;},&quot;e5&quot;:{&quot;NumberOfTrees&quot;:4,&quot;NumberOfLeaves&quot;:5,&quot;FeatureFraction&quot;:1,&quot;LabelColumnName&quot;:&quot;fare_amount&quot;,&quot;FeatureColumnName&quot;:&quot;Features&quot;}},&quot;_SCHEMA_&quot;:&quot;e0 * e1 * e3 * e4&quot;,&quot;e0&quot;:{&quot;OutputColumnNames&quot;:[&quot;rate_code&quot;,&quot;passenger_count&quot;,&quot;trip_time_in_secs&quot;,&quot;trip_distance&quot;],&quot;InputColumnNames&quot;:[&quot;rate_code&quot;,&quot;passenger_count&quot;,&quot;trip_time_in_secs&quot;,&quot;trip_distance&quot;]},&quot;e1&quot;:{&quot;OutputColumnNames&quot;:[&quot;vendor_id&quot;,&quot;payment_type&quot;],&quot;InputColumnNames&quot;:[&quot;vendor_id&quot;,&quot;payment_type&quot;]},&quot;e2&quot;:{&quot;OutputColumnNames&quot;:[&quot;vendor_id&quot;,&quot;payment_type&quot;],&quot;InputColumnNames&quot;:[&quot;vendor_id&quot;,&quot;payment_type&quot;]},&quot;e3&quot;:{&quot;InputColumnNames&quot;:[&quot;rate_code&quot;,&quot;passenger_count&quot;,&quot;trip_time_in_secs&quot;,&quot;trip_distance&quot;,&quot;vendor_id&quot;,&quot;payment_type&quot;],&quot;OutputColumnName&quot;:&quot;Features&quot;},&quot;e4&quot;:{&quot;NumberOfLeaves&quot;:4,&quot;MinimumExampleCountPerLeaf&quot;:20,&quot;NumberOfTrees&quot;:4,&quot;MaximumBinCountPerFeature&quot;:255,&quot;FeatureFraction&quot;:1,&quot;LearningRate&quot;:0.09999999999999998,&quot;LabelColumnName&quot;:&quot;fare_amount&quot;,&quot;FeatureColumnName&quot;:&quot;Features&quot;,&quot;DiskTranspose&quot;:false},&quot;e5&quot;:{&quot;NumberOfTrees&quot;:4,&quot;NumberOfLeaves&quot;:4,&quot;FeatureFraction&quot;:1,&quot;LabelColumnName&quot;:&quot;fare_amount&quot;,&quot;FeatureColumnName&quot;:&quot;Features&quot;},&quot;e6&quot;:{&quot;NumberOfLeaves&quot;:4,&quot;MinimumExampleCountPerLeaf&quot;:20,&quot;LearningRate&quot;:1,&quot;NumberOfTrees&quot;:4,&quot;SubsampleFraction&quot;:1,&quot;MaximumBinCountPerFeature&quot;:255,&quot;FeatureFraction&quot;:1,&quot;L1Regularization&quot;:2E-10,&quot;L2Regularization&quot;:1,&quot;LabelColumnName&quot;:&quot;fare_amount&quot;,&quot;FeatureColumnName&quot;:&quot;Features&quot;},&quot;e7&quot;:{&quot;L1Regularization&quot;:1,&quot;L2Regularization&quot;:1,&quot;LabelColumnName&quot;:&quot;fare_amount&quot;,&quot;FeatureColumnName&quot;:&quot;Features&quot;},&quot;e8&quot;:{&quot;L1Regularization&quot;:1,&quot;L2Regularization&quot;:0.1,&quot;LabelColumnName&quot;:&quot;fare_amount&quot;,&quot;FeatureColumnName&quot;:&quot;Features&quot;}}</td></tr><tr><td><i><div class=\"dni-plaintext\"><pre>16</pre></div></i></td><td><div class=\"dni-plaintext\"><pre>16</pre></div></td><td><div class=\"dni-plaintext\"><pre>0.92274743</pre></div></td><td>ReplaceMissingValues=&gt;OneHotEncoding=&gt;Concatenate=&gt;FastForestRegression</td><td>{&quot;_pipeline_&quot;:{&quot;_SCHEMA_&quot;:&quot;e0 * e1 * e3 * e5&quot;,&quot;e0&quot;:{&quot;OutputColumnNames&quot;:[&quot;rate_code&quot;,&quot;passenger_count&quot;,&quot;trip_time_in_secs&quot;,&quot;trip_distance&quot;],&quot;InputColumnNames&quot;:[&quot;rate_code&quot;,&quot;passenger_count&quot;,&quot;trip_time_in_secs&quot;,&quot;trip_distance&quot;]},&quot;e1&quot;:{&quot;OutputColumnNames&quot;:[&quot;vendor_id&quot;,&quot;payment_type&quot;],&quot;InputColumnNames&quot;:[&quot;vendor_id&quot;,&quot;payment_type&quot;]},&quot;e3&quot;:{&quot;InputColumnNames&quot;:[&quot;rate_code&quot;,&quot;passenger_count&quot;,&quot;trip_time_in_secs&quot;,&quot;trip_distance&quot;,&quot;vendor_id&quot;,&quot;payment_type&quot;],&quot;OutputColumnName&quot;:&quot;Features&quot;},&quot;e5&quot;:{&quot;NumberOfTrees&quot;:8,&quot;NumberOfLeaves&quot;:4,&quot;FeatureFraction&quot;:1,&quot;LabelColumnName&quot;:&quot;fare_amount&quot;,&quot;FeatureColumnName&quot;:&quot;Features&quot;}},&quot;_SCHEMA_&quot;:&quot;e0 * e1 * e3 * e4&quot;,&quot;e0&quot;:{&quot;OutputColumnNames&quot;:[&quot;rate_code&quot;,&quot;passenger_count&quot;,&quot;trip_time_in_secs&quot;,&quot;trip_distance&quot;],&quot;InputColumnNames&quot;:[&quot;rate_code&quot;,&quot;passenger_count&quot;,&quot;trip_time_in_secs&quot;,&quot;trip_distance&quot;]},&quot;e1&quot;:{&quot;OutputColumnNames&quot;:[&quot;vendor_id&quot;,&quot;payment_type&quot;],&quot;InputColumnNames&quot;:[&quot;vendor_id&quot;,&quot;payment_type&quot;]},&quot;e2&quot;:{&quot;OutputColumnNames&quot;:[&quot;vendor_id&quot;,&quot;payment_type&quot;],&quot;InputColumnNames&quot;:[&quot;vendor_id&quot;,&quot;payment_type&quot;]},&quot;e3&quot;:{&quot;InputColumnNames&quot;:[&quot;rate_code&quot;,&quot;passenger_count&quot;,&quot;trip_time_in_secs&quot;,&quot;trip_distance&quot;,&quot;vendor_id&quot;,&quot;payment_type&quot;],&quot;OutputColumnName&quot;:&quot;Features&quot;},&quot;e4&quot;:{&quot;NumberOfLeaves&quot;:4,&quot;MinimumExampleCountPerLeaf&quot;:20,&quot;NumberOfTrees&quot;:4,&quot;MaximumBinCountPerFeature&quot;:255,&quot;FeatureFraction&quot;:1,&quot;LearningRate&quot;:0.09999999999999998,&quot;LabelColumnName&quot;:&quot;fare_amount&quot;,&quot;FeatureColumnName&quot;:&quot;Features&quot;,&quot;DiskTranspose&quot;:false},&quot;e5&quot;:{&quot;NumberOfTrees&quot;:4,&quot;NumberOfLeaves&quot;:4,&quot;FeatureFraction&quot;:1,&quot;LabelColumnName&quot;:&quot;fare_amount&quot;,&quot;FeatureColumnName&quot;:&quot;Features&quot;},&quot;e6&quot;:{&quot;NumberOfLeaves&quot;:4,&quot;MinimumExampleCountPerLeaf&quot;:20,&quot;LearningRate&quot;:1,&quot;NumberOfTrees&quot;:4,&quot;SubsampleFraction&quot;:1,&quot;MaximumBinCountPerFeature&quot;:255,&quot;FeatureFraction&quot;:1,&quot;L1Regularization&quot;:2E-10,&quot;L2Regularization&quot;:1,&quot;LabelColumnName&quot;:&quot;fare_amount&quot;,&quot;FeatureColumnName&quot;:&quot;Features&quot;},&quot;e7&quot;:{&quot;L1Regularization&quot;:1,&quot;L2Regularization&quot;:1,&quot;LabelColumnName&quot;:&quot;fare_amount&quot;,&quot;FeatureColumnName&quot;:&quot;Features&quot;},&quot;e8&quot;:{&quot;L1Regularization&quot;:1,&quot;L2Regularization&quot;:0.1,&quot;LabelColumnName&quot;:&quot;fare_amount&quot;,&quot;FeatureColumnName&quot;:&quot;Features&quot;}}</td></tr><tr><td><i><div class=\"dni-plaintext\"><pre>17</pre></div></i></td><td><div class=\"dni-plaintext\"><pre>17</pre></div></td><td><div class=\"dni-plaintext\"><pre>0.8748201</pre></div></td><td>ReplaceMissingValues=&gt;OneHotEncoding=&gt;Concatenate=&gt;LightGbmRegression</td><td>{&quot;_pipeline_&quot;:{&quot;_SCHEMA_&quot;:&quot;e0 * e1 * e3 * e6&quot;,&quot;e0&quot;:{&quot;OutputColumnNames&quot;:[&quot;rate_code&quot;,&quot;passenger_count&quot;,&quot;trip_time_in_secs&quot;,&quot;trip_distance&quot;],&quot;InputColumnNames&quot;:[&quot;rate_code&quot;,&quot;passenger_count&quot;,&quot;trip_time_in_secs&quot;,&quot;trip_distance&quot;]},&quot;e1&quot;:{&quot;OutputColumnNames&quot;:[&quot;vendor_id&quot;,&quot;payment_type&quot;],&quot;InputColumnNames&quot;:[&quot;vendor_id&quot;,&quot;payment_type&quot;]},&quot;e3&quot;:{&quot;InputColumnNames&quot;:[&quot;rate_code&quot;,&quot;passenger_count&quot;,&quot;trip_time_in_secs&quot;,&quot;trip_distance&quot;,&quot;vendor_id&quot;,&quot;payment_type&quot;],&quot;OutputColumnName&quot;:&quot;Features&quot;},&quot;e6&quot;:{&quot;NumberOfLeaves&quot;:4,&quot;MinimumExampleCountPerLeaf&quot;:20,&quot;LearningRate&quot;:0.9999997766729865,&quot;NumberOfTrees&quot;:4,&quot;SubsampleFraction&quot;:0.9999997766729865,&quot;MaximumBinCountPerFeature&quot;:241,&quot;FeatureFraction&quot;:0.9605546365905755,&quot;L1Regularization&quot;:2.8520566875236585E-10,&quot;L2Regularization&quot;:0.508650930657593,&quot;LabelColumnName&quot;:&quot;fare_amount&quot;,&quot;FeatureColumnName&quot;:&quot;Features&quot;}},&quot;_SCHEMA_&quot;:&quot;e0 * e1 * e3 * e4&quot;,&quot;e0&quot;:{&quot;OutputColumnNames&quot;:[&quot;rate_code&quot;,&quot;passenger_count&quot;,&quot;trip_time_in_secs&quot;,&quot;trip_distance&quot;],&quot;InputColumnNames&quot;:[&quot;rate_code&quot;,&quot;passenger_count&quot;,&quot;trip_time_in_secs&quot;,&quot;trip_distance&quot;]},&quot;e1&quot;:{&quot;OutputColumnNames&quot;:[&quot;vendor_id&quot;,&quot;payment_type&quot;],&quot;InputColumnNames&quot;:[&quot;vendor_id&quot;,&quot;payment_type&quot;]},&quot;e2&quot;:{&quot;OutputColumnNames&quot;:[&quot;vendor_id&quot;,&quot;payment_type&quot;],&quot;InputColumnNames&quot;:[&quot;vendor_id&quot;,&quot;payment_type&quot;]},&quot;e3&quot;:{&quot;InputColumnNames&quot;:[&quot;rate_code&quot;,&quot;passenger_count&quot;,&quot;trip_time_in_secs&quot;,&quot;trip_distance&quot;,&quot;vendor_id&quot;,&quot;payment_type&quot;],&quot;OutputColumnName&quot;:&quot;Features&quot;},&quot;e4&quot;:{&quot;NumberOfLeaves&quot;:4,&quot;MinimumExampleCountPerLeaf&quot;:20,&quot;NumberOfTrees&quot;:4,&quot;MaximumBinCountPerFeature&quot;:255,&quot;FeatureFraction&quot;:1,&quot;LearningRate&quot;:0.09999999999999998,&quot;LabelColumnName&quot;:&quot;fare_amount&quot;,&quot;FeatureColumnName&quot;:&quot;Features&quot;,&quot;DiskTranspose&quot;:false},&quot;e5&quot;:{&quot;NumberOfTrees&quot;:4,&quot;NumberOfLeaves&quot;:4,&quot;FeatureFraction&quot;:1,&quot;LabelColumnName&quot;:&quot;fare_amount&quot;,&quot;FeatureColumnName&quot;:&quot;Features&quot;},&quot;e6&quot;:{&quot;NumberOfLeaves&quot;:4,&quot;MinimumExampleCountPerLeaf&quot;:20,&quot;LearningRate&quot;:1,&quot;NumberOfTrees&quot;:4,&quot;SubsampleFraction&quot;:1,&quot;MaximumBinCountPerFeature&quot;:255,&quot;FeatureFraction&quot;:1,&quot;L1Regularization&quot;:2E-10,&quot;L2Regularization&quot;:1,&quot;LabelColumnName&quot;:&quot;fare_amount&quot;,&quot;FeatureColumnName&quot;:&quot;Features&quot;},&quot;e7&quot;:{&quot;L1Regularization&quot;:1,&quot;L2Regularization&quot;:1,&quot;LabelColumnName&quot;:&quot;fare_amount&quot;,&quot;FeatureColumnName&quot;:&quot;Features&quot;},&quot;e8&quot;:{&quot;L1Regularization&quot;:1,&quot;L2Regularization&quot;:0.1,&quot;LabelColumnName&quot;:&quot;fare_amount&quot;,&quot;FeatureColumnName&quot;:&quot;Features&quot;}}</td></tr></tbody></table><style>\r\n",
              ".dni-code-hint {\r\n",
              "    font-style: italic;\r\n",
              "    overflow: hidden;\r\n",
              "    white-space: nowrap;\r\n",
              "}\r\n",
              ".dni-treeview {\r\n",
              "    white-space: nowrap;\r\n",
              "}\r\n",
              ".dni-treeview td {\r\n",
              "    vertical-align: top;\r\n",
              "    text-align: start;\r\n",
              "}\r\n",
              "details.dni-treeview {\r\n",
              "    padding-left: 1em;\r\n",
              "}\r\n",
              "table td {\r\n",
              "    text-align: start;\r\n",
              "}\r\n",
              "table tr { \r\n",
              "    vertical-align: top; \r\n",
              "    margin: 0em 0px;\r\n",
              "}\r\n",
              "table tr td pre \r\n",
              "{ \r\n",
              "    vertical-align: top !important; \r\n",
              "    margin: 0em 0px !important;\r\n",
              "} \r\n",
              "table th {\r\n",
              "    text-align: start;\r\n",
              "}\r\n",
              "</style>"
            ]
          },
          "metadata": {},
          "output_type": "display_data"
        }
      ],
      "source": [
        "//Load File\n",
        "var trainDataPath = EnsureDataSetDownloaded(\"taxi-fare.csv\");\n",
        "var df = DataFrame.LoadCsv(trainDataPath);\n",
        "var mlContext = new MLContext();\n",
        "\n",
        "// Append the trainer to the data processing pipeline\n",
        "var pipeline = mlContext.Auto().Featurizer(df, excludeColumns: new[]{\"fare_amount\"})\n",
        "                 .Append(mlContext.Auto().Regression(labelColumnName: \"fare_amount\"));\n",
        "\n",
        "// Configure AutoML\n",
        "var trainTestSplit = mlContext.Data.TrainTestSplit(df, 0.2);\n",
        "var validateTestSplit = mlContext.Data.TrainTestSplit(trainTestSplit.TestSet, 0.5);\n",
        "var monitor = new NotebookMonitor(pipeline);\n",
        "\n",
        " var experiment = mlContext.Auto().CreateExperiment()\n",
        "                    .SetPipeline(pipeline)\n",
        "                    .SetTrainingTimeInSeconds(50)\n",
        "                    .SetDataset(trainTestSplit.TrainSet, validateTestSplit.TrainSet)\n",
        "                    .SetRegressionMetric(RegressionMetric.RSquared, \"fare_amount\", \"Score\")\n",
        "\t\t\t\t\t.SetMonitor(monitor);\n",
        "\n",
        "\t\t\t\t\t// Configure Visualizer\t\t\t\n",
        "monitor.SetUpdate(monitor.Display());\n",
        "\n",
        "// Start Experiment\n",
        "var result = await experiment.RunAsync();"
      ]
    },
    {
      "cell_type": "markdown",
      "metadata": {},
      "source": [
        "## Consume the model"
      ]
    },
    {
      "cell_type": "code",
      "execution_count": 18,
      "metadata": {
        "dotnet_interactive": {
          "language": "csharp"
        },
        "vscode": {
          "languageId": "polyglot-notebook"
        }
      },
      "outputs": [
        {
          "data": {
            "text/html": [
              "<div class=\"dni-plaintext\"><pre>[ 8.5999565 ]</pre></div><style>\r\n",
              ".dni-code-hint {\r\n",
              "    font-style: italic;\r\n",
              "    overflow: hidden;\r\n",
              "    white-space: nowrap;\r\n",
              "}\r\n",
              ".dni-treeview {\r\n",
              "    white-space: nowrap;\r\n",
              "}\r\n",
              ".dni-treeview td {\r\n",
              "    vertical-align: top;\r\n",
              "    text-align: start;\r\n",
              "}\r\n",
              "details.dni-treeview {\r\n",
              "    padding-left: 1em;\r\n",
              "}\r\n",
              "table td {\r\n",
              "    text-align: start;\r\n",
              "}\r\n",
              "table tr { \r\n",
              "    vertical-align: top; \r\n",
              "    margin: 0em 0px;\r\n",
              "}\r\n",
              "table tr td pre \r\n",
              "{ \r\n",
              "    vertical-align: top !important; \r\n",
              "    margin: 0em 0px !important;\r\n",
              "} \r\n",
              "table th {\r\n",
              "    text-align: start;\r\n",
              "}\r\n",
              "</style>"
            ]
          },
          "metadata": {},
          "output_type": "display_data"
        }
      ],
      "source": [
        "// Define sample data\n",
        "var data  = new DataFrame(new StringDataFrameColumn(\"vendor_id\"), new PrimitiveDataFrameColumn<float>(\"rate_code\"), new PrimitiveDataFrameColumn<float>(\"passenger_count\"), new PrimitiveDataFrameColumn<float>(\"trip_time_in_secs\"), new PrimitiveDataFrameColumn<float>(\"trip_distance\"),new StringDataFrameColumn(\"payment_type\"));\n",
        "data.Append(new List<KeyValuePair<string,object>>()\n",
        "{\n",
        "\tnew KeyValuePair<string,object>(\"vendor_id\",@\"CMT\"),\n",
        "\tnew KeyValuePair<string,object>(\"rate_code\",1F),\n",
        "\tnew KeyValuePair<string,object>(\"passenger_count\",1F),\n",
        "\tnew KeyValuePair<string, object> (\"trip_time_in_secs\",474F),\n",
        "\tnew KeyValuePair<string, object> (\"trip_distance\",1.5F),\n",
        "\tnew KeyValuePair<string, object> (\"payment_type\",@\"payment_type\")\n",
        "},true);\n",
        "var model = result.Model;\n",
        "\n",
        "//Use the model to transform the sample data.\n",
        "var output = model.Transform(data);\n",
        "\n",
        "// Get the predicted score with the sample data.\n",
        "var predictedScore = output.GetColumn<float>(\"Score\");\n",
        "predictedScore\n",
        "\t\t\t\n",
        "\t\t\t"
      ]
    },
    {
      "cell_type": "markdown",
      "metadata": {},
      "source": [
        "## Evaluate model"
      ]
    },
    {
      "cell_type": "code",
      "execution_count": 19,
      "metadata": {
        "dotnet_interactive": {
          "language": "csharp"
        },
        "vscode": {
          "languageId": "polyglot-notebook"
        }
      },
      "outputs": [
        {
          "data": {
            "text/html": [
              "<details open=\"open\" class=\"dni-treeview\"><summary><span class=\"dni-code-hint\"><code>Microsoft.ML.Data.RegressionMetrics</code></span></summary><div><table><thead><tr></tr></thead><tbody><tr><td>MeanAbsoluteError</td><td><div class=\"dni-plaintext\"><pre>0.8986130748998551</pre></div></td></tr><tr><td>MeanSquaredError</td><td><div class=\"dni-plaintext\"><pre>7.677836035532971</pre></div></td></tr><tr><td>RootMeanSquaredError</td><td><div class=\"dni-plaintext\"><pre>2.770890837895454</pre></div></td></tr><tr><td>LossFunction</td><td><div class=\"dni-plaintext\"><pre>7.677836067929183</pre></div></td></tr><tr><td>RSquared</td><td><div class=\"dni-plaintext\"><pre>0.9168392253985385</pre></div></td></tr></tbody></table></div></details><style>\r\n",
              ".dni-code-hint {\r\n",
              "    font-style: italic;\r\n",
              "    overflow: hidden;\r\n",
              "    white-space: nowrap;\r\n",
              "}\r\n",
              ".dni-treeview {\r\n",
              "    white-space: nowrap;\r\n",
              "}\r\n",
              ".dni-treeview td {\r\n",
              "    vertical-align: top;\r\n",
              "    text-align: start;\r\n",
              "}\r\n",
              "details.dni-treeview {\r\n",
              "    padding-left: 1em;\r\n",
              "}\r\n",
              "table td {\r\n",
              "    text-align: start;\r\n",
              "}\r\n",
              "table tr { \r\n",
              "    vertical-align: top; \r\n",
              "    margin: 0em 0px;\r\n",
              "}\r\n",
              "table tr td pre \r\n",
              "{ \r\n",
              "    vertical-align: top !important; \r\n",
              "    margin: 0em 0px !important;\r\n",
              "} \r\n",
              "table th {\r\n",
              "    text-align: start;\r\n",
              "}\r\n",
              "</style>"
            ]
          },
          "metadata": {},
          "output_type": "display_data"
        }
      ],
      "source": [
        "var model = result.Model;\n",
        "var eval= model.Transform(validateTestSplit.TestSet);\n",
        "var metric=mlContext.Regression.Evaluate(eval,\"fare_amount\");\n",
        "metric\t"
      ]
    },
    {
      "cell_type": "markdown",
      "metadata": {},
      "source": [
        "\n",
        "\n",
        "The code below demonstrates several methods to explain your model, including how to get and display\n",
        "\n",
        "1. A Histogram of the distribution of number of instances\n",
        "1. A Scatter Plot\n",
        "1. Compare actual values to predicted values in a scatter plot\n",
        "1. The importance of different features"
      ]
    },
    {
      "cell_type": "code",
      "execution_count": 20,
      "metadata": {
        "dotnet_interactive": {
          "language": "csharp"
        },
        "vscode": {
          "languageId": "polyglot-notebook"
        }
      },
      "outputs": [],
      "source": [
        "using System;\n",
        "using System.Collections.Generic;\n",
        "using System.Collections.Immutable;\n",
        "using System.IO;\n",
        "using System.Linq;\n",
        "using Plotly.NET.CSharp;\n",
        "using Plotly.NET;"
      ]
    },
    {
      "cell_type": "markdown",
      "metadata": {},
      "source": [
        "## Compare Distribution of Number of Instances"
      ]
    },
    {
      "cell_type": "code",
      "execution_count": 21,
      "metadata": {
        "dotnet_interactive": {
          "language": "csharp"
        },
        "vscode": {
          "languageId": "polyglot-notebook"
        }
      },
      "outputs": [
        {
          "data": {
            "text/html": [
              "\n",
              "<div>\n",
              "    <div id=\"39f72d91-89bf-45f7-8a45-0fc794fc09d8\"><!-- Plotly chart will be drawn inside this DIV --></div>\r\n",
              "<script type=\"text/javascript\">\r\n",
              "\r\n",
              "            var renderPlotly_39f72d9189bf45f78a450fc794fc09d8 = function() {\r\n",
              "            var fsharpPlotlyRequire = requirejs.config({context:'fsharp-plotly',paths:{plotly:'https://cdn.plot.ly/plotly-2.6.3.min'}}) || require;\r\n",
              "            fsharpPlotlyRequire(['plotly'], function(Plotly) {\r\n",
              "\r\n",
              "            var data = [{\"type\":\"histogram\",\"x\":[17.5,8.0,8.5,4.5,8.5,27.5,11.5,7.5,7.5,5.0,6.0,7.0,7.0,5.5,7.0,19.0,6.0,6.5,9.0,4.5,52.0,6.5,3.5,4.5,8.5,5.5,32.0,8.5,8.5,9.0,4.0,7.0,16.0,7.5,11.5,8.0,5.5,5.0,7.0,19.5,52.0,10.0,7.0,5.0,24.5,9.5,12.5,4.0,7.0,5.5,17.5,7.0,33.5,5.5,7.0,23.0,11.5,6.5,6.5,11.5,13.0,9.0,10.5,18.5,11.0,5.5,6.5,7.0,4.5,7.5,13.0,8.0,6.5,52.0,8.5,12.0,10.0,4.0,20.0,7.0,16.0,4.5,10.0,17.5,4.5,4.5,5.5,5.0,8.0,15.0,6.0,13.0,23.5,7.0,4.5,4.0,6.5,8.0,6.5,7.5,10.5,7.0,11.5,5.5,8.5,6.0,21.0,5.5,19.0,3.5,5.5,31.0,12.0,11.0,17.0,7.0,5.0,8.5,12.0,5.0,11.5,7.0,11.5,15.0,4.0,12.5,15.5,28.5,6.5,31.5,13.5,6.0,8.0,5.5,6.5,7.5,5.5,9.0,20.5,12.0,8.0,7.5,16.0,9.5,15.0,7.0,3.5,8.0,7.0,12.5,13.5,14.0,4.5,7.5,5.0,6.0,9.0,8.5,4.0,22.0,5.0,9.5,7.0,4.5,8.5,7.5,5.0,4.0,5.5,10.5,7.0,8.0,4.0,8.5,14.5,5.0,3.0,29.5,11.5,10.0,6.0,7.0,10.0,16.0,9.5,6.5,7.5,11.5,5.0,11.0,9.0,11.0,11.0,4.5,6.5,16.5,2.5,5.5,6.5,15.0,9.0,10.5,10.0,52.0,11.0,11.5,6.0,8.5,9.0,7.0,4.5,13.0,5.0,5.5,5.5,7.0,17.0,8.5,71.0,5.0,6.5,9.5,8.5,11.5,13.5,6.5,34.0,4.0,8.5,8.0,9.5,9.0,5.0,8.0,7.5,52.0,22.0,8.5,7.0,15.5,10.0,8.5,9.0,17.0,5.5,20.5,8.5,10.0,10.0,4.0,7.5,3.0,20.5,8.5,6.5,14.5,8.0,11.0,7.5,11.0,12.0,7.5,13.0,6.5,9.0,5.0,10.5,11.5,6.5,7.0,6.5,12.0,62.0,5.0,11.5,16.0,6.5,12.0,11.0,7.5,5.0,8.5,10.5,6.0,6.0,9.5,13.0,3.5,11.5,12.5,13.0,6.0,17.0,9.0,52.0,14.5,6.5,6.0,5.0,29.5,3.5,19.5,5.5,5.0,13.5,11.0,5.0,8.5,8.5,11.0,10.0,6.5,6.5,16.5,8.0,10.0,13.5,20.0,15.5,4.5,10.5,8.5,8.0,3.0,8.5,14.5,8.5,4.5,9.0,5.5,7.5,8.0,6.5,4.0,9.5,9.0,15.5,19.5,18.0,6.0,14.0,6.0,9.5,4.0,5.0,4.0,5.5,3.5,6.5,52.0,20.5,17.0,8.0,7.5,8.0,13.0,7.0,10.0,23.5,4.5,8.5,14.0,4.5,8.5,13.5,9.5,4.0,11.0,5.5,6.5,6.5,5.5,7.0,12.5,25.5,9.0,6.0,5.5,7.0,7.0,6.5,8.5,11.5,4.5,13.0,13.5,5.5,8.5,7.5,7.5,12.0,6.5,11.0,2.5,9.0,5.0,11.0,7.0,5.0,18.0,5.0,6.0,10.5,5.5,10.0,17.0,8.0,4.5,9.5,11.0,31.5,6.5,8.0,7.0,7.5,11.0,11.0,27.0,8.0,12.5,7.0,11.5,7.0,7.0,11.5,3.5,18.5,6.0,8.0,5.0,7.5,8.0,12.5,13.5,10.0,6.5,9.0,6.0,6.0,4.0,8.0,7.5,9.0,5.0,7.0,7.0,7.0,4.0,4.0,5.5,22.0,8.5,11.5,7.0,10.0,5.5,10.5,8.0,13.0,9.0,9.0,15.5,6.5,7.0,4.0,6.0,6.0,9.0,9.0,9.5,6.5,12.5,11.5,8.0,5.5,8.5,9.5,5.0,5.0,8.0,7.0,7.0,9.5,7.0,8.5,7.5,17.5,12.0,4.0,8.0,8.0,10.5,7.5,16.0,8.5,8.5,23.0,5.5,10.0,8.0,9.0,4.0,8.0,7.0,8.5,9.0,19.5,9.0,9.5,9.0,52.0,7.0,7.5,11.5,8.5,6.0,4.5,8.0,8.0,24.0,7.5,6.0,9.0,6.0,7.5,7.0,18.0,32.5,3.5,8.5,6.5,7.0,3.5,7.0,7.0,10.5,4.5,19.5,7.5,9.5,12.5,7.5,6.0,6.0,11.0,6.5,4.5,6.5,6.5,8.5,9.5,10.0,8.0,9.5,12.5,10.5,12.5,10.5,13.0,13.5,15.5,5.5,7.5,7.0,9.5,3.0,8.5,17.5,8.0,5.5,12.0,12.5,4.0,9.5,7.0,13.0,5.0,10.0,4.0,5.0,12.0,10.0,9.5,4.5,7.0,4.0,10.5,9.5,4.0,14.0,7.5,4.0,11.5,4.5,24.0,29.5,9.5,17.5,13.5,10.5,6.0,8.0,13.0,6.0,7.5,5.0,3.5,10.0,6.0,6.5,11.5,35.0,5.5,11.5,12.0,8.0,17.5,5.0,6.5,6.5,5.0,13.0,11.0,32.5,12.0,11.0,7.5,8.0,11.5,6.0,11.0,15.0,13.0,9.5,25.0,9.5,7.0,4.5,6.5,10.0,7.0,7.0,26.5,7.5,10.0,7.0,10.0,11.5,4.0,8.0,12.0,4.0,5.5,9.5,15.5,7.0,15.5,3.5,2.5,9.0,5.0,6.0,5.5,30.5,3.0,16.0,7.0,5.5,39.5,35.0,5.5,3.5,8.5,12.0,8.0,7.0,7.5,7.5,14.5,7.0,20.5,21.5,6.0,6.5,6.5,8.0,13.5,5.5,39.0,6.0,17.0,12.5,24.5,11.0,10.0,7.0,15.5,9.5,22.0,17.0,8.0,22.0,7.0,8.0,15.5,12.0,3.0,9.0,14.5,16.5,6.5,13.5,7.5,25.5,13.0,14.0,15.5,5.5,5.0,14.5,9.0,5.0,6.5,4.5,8.5,14.0,40.0,5.0,10.5,6.0,8.0,34.0,11.0,6.5,6.0,9.0,7.0,10.5,15.0,8.0,4.5,11.0,6.0,10.5,12.0,17.0,5.0,5.0,11.5,24.5,52.0,4.5,4.0,6.0,14.0,5.0,8.0,12.0,5.0,14.0,7.0,14.0,7.0,9.5,9.5,12.0,20.0,6.0,12.5,7.5,4.5,25.5,4.5,14.0,10.0,12.5,7.5,9.0,6.5,8.5,4.0,8.5,4.0,7.0,37.5,20.0,15.5,5.0,8.5,7.5,15.5,13.5,6.5,8.5,3.5,8.5,7.5,6.5,5.5,18.0,7.0,16.0,28.0,9.5,15.0,6.5,31.5,5.0,30.5,5.5,11.0,14.5,10.5,7.0,34.0,10.0,9.0,11.5,5.0,2.5,5.0,8.5,4.5,11.0,6.0,23.5,11.5,2.5,9.5,11.5,24.5,25.0,14.0,11.5,9.0,10.5,15.5,26.5,15.0,6.0,11.5,9.5,25.0,9.5,6.0,6.5,6.5,4.0,6.5,13.5,10.5,9.0,9.0,4.0,4.5,8.5,13.5,5.0,19.0,15.5,9.0,4.5,17.5,7.0,34.5,10.0,21.0,11.0,10.0,19.5,15.5,7.5,5.0,7.5,5.5,13.5,8.5,15.0,5.5,5.0,11.0,6.5,4.0,4.0,8.5,8.0,6.0,8.5,17.0,9.5,26.5,4.0,5.0,6.5,7.0,8.5,28.5,5.0,7.0,7.0,4.5,10.5,13.5,8.0,4.5,15.0,7.5,11.0,5.5,6.5,19.5,5.0,6.5,4.5,8.0,14.0,9.0,24.0,6.5,13.0,5.0,12.0,4.5,8.0,32.5,21.5,6.5,5.0,2.5,16.5,9.5,8.5,8.5,10.5,7.0,13.0,15.0,6.5,13.0,5.5,13.0,8.0,24.5,12.0,7.5,8.0,7.5,11.0,11.0,9.5,7.0,4.0,6.5,14.5,10.0,8.5,7.0,6.5,5.5,14.0,3.5,11.0,8.0,7.0,12.0,5.0,6.5,8.5,14.0,6.0,10.0,14.0,11.0,12.0,4.5,6.0,16.0,19.0,16.0,8.0,6.0,7.0,22.5,3.5,7.5,7.0,5.5,11.5,4.0,8.5,14.5,11.5,5.5,11.5,6.0,11.0,9.5,19.5,9.5,8.5],\"marker\":{}}];\r\n",
              "            var layout = {\"width\":600,\"height\":600,\"template\":{\"layout\":{\"title\":{\"x\":0.05},\"font\":{\"color\":\"rgba(42, 63, 95, 1.0)\"},\"paper_bgcolor\":\"rgba(255, 255, 255, 1.0)\",\"plot_bgcolor\":\"rgba(229, 236, 246, 1.0)\",\"autotypenumbers\":\"strict\",\"colorscale\":{\"diverging\":[[0.0,\"#8e0152\"],[0.1,\"#c51b7d\"],[0.2,\"#de77ae\"],[0.3,\"#f1b6da\"],[0.4,\"#fde0ef\"],[0.5,\"#f7f7f7\"],[0.6,\"#e6f5d0\"],[0.7,\"#b8e186\"],[0.8,\"#7fbc41\"],[0.9,\"#4d9221\"],[1.0,\"#276419\"]],\"sequential\":[[0.0,\"#0d0887\"],[0.1111111111111111,\"#46039f\"],[0.2222222222222222,\"#7201a8\"],[0.3333333333333333,\"#9c179e\"],[0.4444444444444444,\"#bd3786\"],[0.5555555555555556,\"#d8576b\"],[0.6666666666666666,\"#ed7953\"],[0.7777777777777778,\"#fb9f3a\"],[0.8888888888888888,\"#fdca26\"],[1.0,\"#f0f921\"]],\"sequentialminus\":[[0.0,\"#0d0887\"],[0.1111111111111111,\"#46039f\"],[0.2222222222222222,\"#7201a8\"],[0.3333333333333333,\"#9c179e\"],[0.4444444444444444,\"#bd3786\"],[0.5555555555555556,\"#d8576b\"],[0.6666666666666666,\"#ed7953\"],[0.7777777777777778,\"#fb9f3a\"],[0.8888888888888888,\"#fdca26\"],[1.0,\"#f0f921\"]]},\"hovermode\":\"closest\",\"hoverlabel\":{\"align\":\"left\"},\"coloraxis\":{\"colorbar\":{\"outlinewidth\":0.0,\"ticks\":\"\"}},\"geo\":{\"showland\":true,\"landcolor\":\"rgba(229, 236, 246, 1.0)\",\"showlakes\":true,\"lakecolor\":\"rgba(255, 255, 255, 1.0)\",\"subunitcolor\":\"rgba(255, 255, 255, 1.0)\",\"bgcolor\":\"rgba(255, 255, 255, 1.0)\"},\"mapbox\":{\"style\":\"light\"},\"polar\":{\"bgcolor\":\"rgba(229, 236, 246, 1.0)\",\"radialaxis\":{\"linecolor\":\"rgba(255, 255, 255, 1.0)\",\"gridcolor\":\"rgba(255, 255, 255, 1.0)\",\"ticks\":\"\"},\"angularaxis\":{\"linecolor\":\"rgba(255, 255, 255, 1.0)\",\"gridcolor\":\"rgba(255, 255, 255, 1.0)\",\"ticks\":\"\"}},\"scene\":{\"xaxis\":{\"ticks\":\"\",\"linecolor\":\"rgba(255, 255, 255, 1.0)\",\"gridcolor\":\"rgba(255, 255, 255, 1.0)\",\"gridwidth\":2.0,\"zerolinecolor\":\"rgba(255, 255, 255, 1.0)\",\"backgroundcolor\":\"rgba(229, 236, 246, 1.0)\",\"showbackground\":true},\"yaxis\":{\"ticks\":\"\",\"linecolor\":\"rgba(255, 255, 255, 1.0)\",\"gridcolor\":\"rgba(255, 255, 255, 1.0)\",\"gridwidth\":2.0,\"zerolinecolor\":\"rgba(255, 255, 255, 1.0)\",\"backgroundcolor\":\"rgba(229, 236, 246, 1.0)\",\"showbackground\":true},\"zaxis\":{\"ticks\":\"\",\"linecolor\":\"rgba(255, 255, 255, 1.0)\",\"gridcolor\":\"rgba(255, 255, 255, 1.0)\",\"gridwidth\":2.0,\"zerolinecolor\":\"rgba(255, 255, 255, 1.0)\",\"backgroundcolor\":\"rgba(229, 236, 246, 1.0)\",\"showbackground\":true}},\"ternary\":{\"aaxis\":{\"ticks\":\"\",\"linecolor\":\"rgba(255, 255, 255, 1.0)\",\"gridcolor\":\"rgba(255, 255, 255, 1.0)\"},\"baxis\":{\"ticks\":\"\",\"linecolor\":\"rgba(255, 255, 255, 1.0)\",\"gridcolor\":\"rgba(255, 255, 255, 1.0)\"},\"caxis\":{\"ticks\":\"\",\"linecolor\":\"rgba(255, 255, 255, 1.0)\",\"gridcolor\":\"rgba(255, 255, 255, 1.0)\"},\"bgcolor\":\"rgba(229, 236, 246, 1.0)\"},\"xaxis\":{\"title\":{\"standoff\":15},\"ticks\":\"\",\"automargin\":true,\"linecolor\":\"rgba(255, 255, 255, 1.0)\",\"gridcolor\":\"rgba(255, 255, 255, 1.0)\",\"zerolinecolor\":\"rgba(255, 255, 255, 1.0)\",\"zerolinewidth\":2.0},\"yaxis\":{\"title\":{\"standoff\":15},\"ticks\":\"\",\"automargin\":true,\"linecolor\":\"rgba(255, 255, 255, 1.0)\",\"gridcolor\":\"rgba(255, 255, 255, 1.0)\",\"zerolinecolor\":\"rgba(255, 255, 255, 1.0)\",\"zerolinewidth\":2.0},\"annotationdefaults\":{\"arrowcolor\":\"#2a3f5f\",\"arrowhead\":0,\"arrowwidth\":1},\"shapedefaults\":{\"line\":{\"color\":\"rgba(42, 63, 95, 1.0)\"}},\"colorway\":[\"rgba(99, 110, 250, 1.0)\",\"rgba(239, 85, 59, 1.0)\",\"rgba(0, 204, 150, 1.0)\",\"rgba(171, 99, 250, 1.0)\",\"rgba(255, 161, 90, 1.0)\",\"rgba(25, 211, 243, 1.0)\",\"rgba(255, 102, 146, 1.0)\",\"rgba(182, 232, 128, 1.0)\",\"rgba(255, 151, 255, 1.0)\",\"rgba(254, 203, 82, 1.0)\"]},\"data\":{\"bar\":[{\"marker\":{\"line\":{\"color\":\"rgba(229, 236, 246, 1.0)\",\"width\":0.5},\"pattern\":{\"fillmode\":\"overlay\",\"size\":10,\"solidity\":0.2}},\"error_x\":{\"color\":\"rgba(42, 63, 95, 1.0)\"},\"error_y\":{\"color\":\"rgba(42, 63, 95, 1.0)\"}}],\"barpolar\":[{\"marker\":{\"line\":{\"color\":\"rgba(229, 236, 246, 1.0)\",\"width\":0.5},\"pattern\":{\"fillmode\":\"overlay\",\"size\":10,\"solidity\":0.2}}}],\"carpet\":[{\"aaxis\":{\"linecolor\":\"rgba(255, 255, 255, 1.0)\",\"gridcolor\":\"rgba(255, 255, 255, 1.0)\",\"endlinecolor\":\"rgba(42, 63, 95, 1.0)\",\"minorgridcolor\":\"rgba(255, 255, 255, 1.0)\",\"startlinecolor\":\"rgba(42, 63, 95, 1.0)\"},\"baxis\":{\"linecolor\":\"rgba(255, 255, 255, 1.0)\",\"gridcolor\":\"rgba(255, 255, 255, 1.0)\",\"endlinecolor\":\"rgba(42, 63, 95, 1.0)\",\"minorgridcolor\":\"rgba(255, 255, 255, 1.0)\",\"startlinecolor\":\"rgba(42, 63, 95, 1.0)\"}}],\"choropleth\":[{\"colorbar\":{\"outlinewidth\":0.0,\"ticks\":\"\"},\"colorscale\":[[0.0,\"#0d0887\"],[0.1111111111111111,\"#46039f\"],[0.2222222222222222,\"#7201a8\"],[0.3333333333333333,\"#9c179e\"],[0.4444444444444444,\"#bd3786\"],[0.5555555555555556,\"#d8576b\"],[0.6666666666666666,\"#ed7953\"],[0.7777777777777778,\"#fb9f3a\"],[0.8888888888888888,\"#fdca26\"],[1.0,\"#f0f921\"]]}],\"contour\":[{\"colorbar\":{\"outlinewidth\":0.0,\"ticks\":\"\"},\"colorscale\":[[0.0,\"#0d0887\"],[0.1111111111111111,\"#46039f\"],[0.2222222222222222,\"#7201a8\"],[0.3333333333333333,\"#9c179e\"],[0.4444444444444444,\"#bd3786\"],[0.5555555555555556,\"#d8576b\"],[0.6666666666666666,\"#ed7953\"],[0.7777777777777778,\"#fb9f3a\"],[0.8888888888888888,\"#fdca26\"],[1.0,\"#f0f921\"]]}],\"contourcarpet\":[{\"colorbar\":{\"outlinewidth\":0.0,\"ticks\":\"\"}}],\"heatmap\":[{\"colorbar\":{\"outlinewidth\":0.0,\"ticks\":\"\"},\"colorscale\":[[0.0,\"#0d0887\"],[0.1111111111111111,\"#46039f\"],[0.2222222222222222,\"#7201a8\"],[0.3333333333333333,\"#9c179e\"],[0.4444444444444444,\"#bd3786\"],[0.5555555555555556,\"#d8576b\"],[0.6666666666666666,\"#ed7953\"],[0.7777777777777778,\"#fb9f3a\"],[0.8888888888888888,\"#fdca26\"],[1.0,\"#f0f921\"]]}],\"heatmapgl\":[{\"colorbar\":{\"outlinewidth\":0.0,\"ticks\":\"\"},\"colorscale\":[[0.0,\"#0d0887\"],[0.1111111111111111,\"#46039f\"],[0.2222222222222222,\"#7201a8\"],[0.3333333333333333,\"#9c179e\"],[0.4444444444444444,\"#bd3786\"],[0.5555555555555556,\"#d8576b\"],[0.6666666666666666,\"#ed7953\"],[0.7777777777777778,\"#fb9f3a\"],[0.8888888888888888,\"#fdca26\"],[1.0,\"#f0f921\"]]}],\"histogram\":[{\"marker\":{\"pattern\":{\"fillmode\":\"overlay\",\"size\":10,\"solidity\":0.2}}}],\"histogram2d\":[{\"colorbar\":{\"outlinewidth\":0.0,\"ticks\":\"\"},\"colorscale\":[[0.0,\"#0d0887\"],[0.1111111111111111,\"#46039f\"],[0.2222222222222222,\"#7201a8\"],[0.3333333333333333,\"#9c179e\"],[0.4444444444444444,\"#bd3786\"],[0.5555555555555556,\"#d8576b\"],[0.6666666666666666,\"#ed7953\"],[0.7777777777777778,\"#fb9f3a\"],[0.8888888888888888,\"#fdca26\"],[1.0,\"#f0f921\"]]}],\"histogram2dcontour\":[{\"colorbar\":{\"outlinewidth\":0.0,\"ticks\":\"\"},\"colorscale\":[[0.0,\"#0d0887\"],[0.1111111111111111,\"#46039f\"],[0.2222222222222222,\"#7201a8\"],[0.3333333333333333,\"#9c179e\"],[0.4444444444444444,\"#bd3786\"],[0.5555555555555556,\"#d8576b\"],[0.6666666666666666,\"#ed7953\"],[0.7777777777777778,\"#fb9f3a\"],[0.8888888888888888,\"#fdca26\"],[1.0,\"#f0f921\"]]}],\"mesh3d\":[{\"colorbar\":{\"outlinewidth\":0.0,\"ticks\":\"\"}}],\"parcoords\":[{\"line\":{\"colorbar\":{\"outlinewidth\":0.0,\"ticks\":\"\"}}}],\"pie\":[{\"automargin\":true}],\"scatter\":[{\"marker\":{\"colorbar\":{\"outlinewidth\":0.0,\"ticks\":\"\"}}}],\"scatter3d\":[{\"marker\":{\"colorbar\":{\"outlinewidth\":0.0,\"ticks\":\"\"}},\"line\":{\"colorbar\":{\"outlinewidth\":0.0,\"ticks\":\"\"}}}],\"scattercarpet\":[{\"marker\":{\"colorbar\":{\"outlinewidth\":0.0,\"ticks\":\"\"}}}],\"scattergeo\":[{\"marker\":{\"colorbar\":{\"outlinewidth\":0.0,\"ticks\":\"\"}}}],\"scattergl\":[{\"marker\":{\"colorbar\":{\"outlinewidth\":0.0,\"ticks\":\"\"}}}],\"scattermapbox\":[{\"marker\":{\"colorbar\":{\"outlinewidth\":0.0,\"ticks\":\"\"}}}],\"scatterpolar\":[{\"marker\":{\"colorbar\":{\"outlinewidth\":0.0,\"ticks\":\"\"}}}],\"scatterpolargl\":[{\"marker\":{\"colorbar\":{\"outlinewidth\":0.0,\"ticks\":\"\"}}}],\"scatterternary\":[{\"marker\":{\"colorbar\":{\"outlinewidth\":0.0,\"ticks\":\"\"}}}],\"surface\":[{\"colorbar\":{\"outlinewidth\":0.0,\"ticks\":\"\"},\"colorscale\":[[0.0,\"#0d0887\"],[0.1111111111111111,\"#46039f\"],[0.2222222222222222,\"#7201a8\"],[0.3333333333333333,\"#9c179e\"],[0.4444444444444444,\"#bd3786\"],[0.5555555555555556,\"#d8576b\"],[0.6666666666666666,\"#ed7953\"],[0.7777777777777778,\"#fb9f3a\"],[0.8888888888888888,\"#fdca26\"],[1.0,\"#f0f921\"]]}],\"table\":[{\"cells\":{\"fill\":{\"color\":\"rgba(235, 240, 248, 1.0)\"},\"line\":{\"color\":\"rgba(255, 255, 255, 1.0)\"}},\"header\":{\"fill\":{\"color\":\"rgba(200, 212, 227, 1.0)\"},\"line\":{\"color\":\"rgba(255, 255, 255, 1.0)\"}}}]}},\"xaxis\":{\"title\":{\"text\":\"fare_amount\"}},\"yaxis\":{\"title\":{\"text\":\"Number of Instances\"}}};\r\n",
              "            var config = {\"responsive\":true};\r\n",
              "            Plotly.newPlot('39f72d91-89bf-45f7-8a45-0fc794fc09d8', data, layout, config);\r\n",
              "});\r\n",
              "            };\r\n",
              "            if ((typeof(requirejs) !==  typeof(Function)) || (typeof(requirejs.config) !== typeof(Function))) {\r\n",
              "                var script = document.createElement(\"script\");\r\n",
              "                script.setAttribute(\"src\", \"https://cdnjs.cloudflare.com/ajax/libs/require.js/2.3.6/require.min.js\");\r\n",
              "                script.onload = function(){\r\n",
              "                    renderPlotly_39f72d9189bf45f78a450fc794fc09d8();\r\n",
              "                };\r\n",
              "                document.getElementsByTagName(\"head\")[0].appendChild(script);\r\n",
              "            }\r\n",
              "            else {\r\n",
              "                renderPlotly_39f72d9189bf45f78a450fc794fc09d8();\r\n",
              "            }\r\n",
              "</script>\r\n",
              "\n",
              "    \n",
              "</div>    \n"
            ]
          },
          "metadata": {},
          "output_type": "display_data"
        }
      ],
      "source": [
        "// Extract some data into arrays for plotting\n",
        "\n",
        "int numberOfRows = 1000;\n",
        "\n",
        "// Columns was determined by inputted data\n",
        "float[] fare_amount = df.GetColumn<float>(\"fare_amount\").Take(numberOfRows).ToArray();\n",
        "\n",
        "// Distribution of Number of Instances\n",
        "\n",
        "Plotly.NET.Chart2D.Chart.Histogram<float,float, string>(fare_amount)\n",
        ".WithXAxisStyle<float, float, string>(TitleText: \"fare_amount\")\n",
        ".WithYAxisStyle<float, float, string>(TitleText: \"Number of Instances\")"
      ]
    },
    {
      "cell_type": "markdown",
      "metadata": {},
      "source": [
        "## Compare actual values to predicted values in a scatter plot"
      ]
    },
    {
      "cell_type": "code",
      "execution_count": 22,
      "metadata": {
        "dotnet_interactive": {
          "language": "csharp"
        },
        "vscode": {
          "languageId": "polyglot-notebook"
        }
      },
      "outputs": [
        {
          "data": {
            "text/html": [
              "\n",
              "<div>\n",
              "    <div id=\"8a66e34c-f1ce-4ede-b236-56a456481340\"><!-- Plotly chart will be drawn inside this DIV --></div>\r\n",
              "<script type=\"text/javascript\">\r\n",
              "\r\n",
              "            var renderPlotly_8a66e34cf1ce4edeb23656a456481340 = function() {\r\n",
              "            var fsharpPlotlyRequire = requirejs.config({context:'fsharp-plotly',paths:{plotly:'https://cdn.plot.ly/plotly-2.6.3.min'}}) || require;\r\n",
              "            fsharpPlotlyRequire(['plotly'], function(Plotly) {\r\n",
              "\r\n",
              "            var data = [{\"type\":\"scatter\",\"mode\":\"markers\",\"x\":[17.5,8.0,8.5,4.5,8.5,27.5,11.5,7.5,7.5,5.0,6.0,7.0,7.0,5.5,7.0,19.0,6.0,6.5,9.0,4.5,52.0,6.5,3.5,4.5,8.5,5.5,32.0,8.5,8.5,9.0,4.0,7.0,16.0,7.5,11.5,8.0,5.5,5.0,7.0,19.5,52.0,10.0,7.0,5.0,24.5,9.5,12.5,4.0,7.0,5.5,17.5,7.0,33.5,5.5,7.0,23.0,11.5,6.5,6.5,11.5,13.0,9.0,10.5,18.5,11.0,5.5,6.5,7.0,4.5,7.5,13.0,8.0,6.5,52.0,8.5,12.0,10.0,4.0,20.0,7.0,16.0,4.5,10.0,17.5,4.5,4.5,5.5,5.0,8.0,15.0,6.0,13.0,23.5,7.0,4.5,4.0,6.5,8.0,6.5,7.5,10.5,7.0,11.5,5.5,8.5,6.0,21.0,5.5,19.0,3.5,5.5,31.0,12.0,11.0,17.0,7.0,5.0,8.5,12.0,5.0,11.5,7.0,11.5,15.0,4.0,12.5,15.5,28.5,6.5,31.5,13.5,6.0,8.0,5.5,6.5,7.5,5.5,9.0,20.5,12.0,8.0,7.5,16.0,9.5,15.0,7.0,3.5,8.0,7.0,12.5,13.5,14.0,4.5,7.5,5.0,6.0,9.0,8.5,4.0,22.0,5.0,9.5,7.0,4.5,8.5,7.5,5.0,4.0,5.5,10.5,7.0,8.0,4.0,8.5,14.5,5.0,3.0,29.5,11.5,10.0,6.0,7.0,10.0,16.0,9.5,6.5,7.5,11.5,5.0,11.0,9.0,11.0,11.0,4.5,6.5,16.5,2.5,5.5,6.5,15.0,9.0,10.5,10.0,52.0,11.0,11.5,6.0,8.5,9.0,7.0,4.5,13.0,5.0,5.5,5.5,7.0,17.0,8.5,71.0,5.0,6.5,9.5,8.5,11.5,13.5,6.5,34.0,4.0,8.5,8.0,9.5,9.0,5.0,8.0,7.5,52.0,22.0,8.5,7.0,15.5,10.0,8.5,9.0,17.0,5.5,20.5,8.5,10.0,10.0,4.0,7.5,3.0,20.5,8.5,6.5,14.5,8.0,11.0,7.5,11.0,12.0,7.5,13.0,6.5,9.0,5.0,10.5,11.5,6.5,7.0,6.5,12.0,62.0,5.0,11.5,16.0,6.5,12.0,11.0,7.5,5.0,8.5,10.5,6.0,6.0,9.5,13.0,3.5,11.5,12.5,13.0,6.0,17.0,9.0,52.0,14.5,6.5,6.0,5.0,29.5,3.5,19.5,5.5,5.0,13.5,11.0,5.0,8.5,8.5,11.0,10.0,6.5,6.5,16.5,8.0,10.0,13.5,20.0,15.5,4.5,10.5,8.5,8.0,3.0,8.5,14.5,8.5,4.5,9.0,5.5,7.5,8.0,6.5,4.0,9.5,9.0,15.5,19.5,18.0,6.0,14.0,6.0,9.5,4.0,5.0,4.0,5.5,3.5,6.5,52.0,20.5,17.0,8.0,7.5,8.0,13.0,7.0,10.0,23.5,4.5,8.5,14.0,4.5,8.5,13.5,9.5,4.0,11.0,5.5,6.5,6.5,5.5,7.0,12.5,25.5,9.0,6.0,5.5,7.0,7.0,6.5,8.5,11.5,4.5,13.0,13.5,5.5,8.5,7.5,7.5,12.0,6.5,11.0,2.5,9.0,5.0,11.0,7.0,5.0,18.0,5.0,6.0,10.5,5.5,10.0,17.0,8.0,4.5,9.5,11.0,31.5,6.5,8.0,7.0,7.5,11.0,11.0,27.0,8.0,12.5,7.0,11.5,7.0,7.0,11.5,3.5,18.5,6.0,8.0,5.0,7.5,8.0,12.5,13.5,10.0,6.5,9.0,6.0,6.0,4.0,8.0,7.5,9.0,5.0,7.0,7.0,7.0,4.0,4.0,5.5,22.0,8.5,11.5,7.0,10.0,5.5,10.5,8.0,13.0,9.0,9.0,15.5,6.5,7.0,4.0,6.0,6.0,9.0,9.0,9.5,6.5,12.5,11.5,8.0,5.5,8.5,9.5,5.0,5.0,8.0,7.0,7.0,9.5,7.0,8.5,7.5,17.5,12.0,4.0,8.0,8.0,10.5,7.5,16.0,8.5,8.5,23.0,5.5,10.0,8.0,9.0,4.0,8.0,7.0,8.5,9.0,19.5,9.0,9.5,9.0,52.0,7.0,7.5,11.5,8.5,6.0,4.5,8.0,8.0,24.0,7.5,6.0,9.0,6.0,7.5,7.0,18.0,32.5,3.5,8.5,6.5,7.0,3.5,7.0,7.0,10.5,4.5,19.5,7.5,9.5,12.5,7.5,6.0,6.0,11.0,6.5,4.5,6.5,6.5,8.5,9.5,10.0,8.0,9.5,12.5,10.5,12.5,10.5,13.0,13.5,15.5,5.5,7.5,7.0,9.5,3.0,8.5,17.5,8.0,5.5,12.0,12.5,4.0,9.5,7.0,13.0,5.0,10.0,4.0,5.0,12.0,10.0,9.5,4.5,7.0,4.0,10.5,9.5,4.0,14.0,7.5,4.0,11.5,4.5,24.0,29.5,9.5,17.5,13.5,10.5,6.0,8.0,13.0,6.0,7.5,5.0,3.5,10.0,6.0,6.5,11.5,35.0,5.5,11.5,12.0,8.0,17.5,5.0,6.5,6.5,5.0,13.0,11.0,32.5,12.0,11.0,7.5,8.0,11.5,6.0,11.0,15.0,13.0,9.5,25.0,9.5,7.0,4.5,6.5,10.0,7.0,7.0,26.5,7.5,10.0,7.0,10.0,11.5,4.0,8.0,12.0,4.0,5.5,9.5,15.5,7.0,15.5,3.5,2.5,9.0,5.0,6.0,5.5,30.5,3.0,16.0,7.0,5.5,39.5,35.0,5.5,3.5,8.5,12.0,8.0,7.0,7.5,7.5,14.5,7.0,20.5,21.5,6.0,6.5,6.5,8.0,13.5,5.5,39.0,6.0,17.0,12.5,24.5,11.0,10.0,7.0,15.5,9.5,22.0,17.0,8.0,22.0,7.0,8.0,15.5,12.0,3.0,9.0,14.5,16.5,6.5,13.5,7.5,25.5,13.0,14.0,15.5,5.5,5.0,14.5,9.0,5.0,6.5,4.5,8.5,14.0,40.0,5.0,10.5,6.0,8.0,34.0,11.0,6.5,6.0,9.0,7.0,10.5,15.0,8.0,4.5,11.0,6.0,10.5,12.0,17.0,5.0,5.0,11.5,24.5,52.0,4.5,4.0,6.0,14.0,5.0,8.0,12.0,5.0,14.0,7.0,14.0,7.0,9.5,9.5,12.0,20.0,6.0,12.5,7.5,4.5,25.5,4.5,14.0,10.0,12.5,7.5,9.0,6.5,8.5,4.0,8.5,4.0,7.0,37.5,20.0,15.5,5.0,8.5,7.5,15.5,13.5,6.5,8.5,3.5,8.5,7.5,6.5,5.5,18.0,7.0,16.0,28.0,9.5,15.0,6.5,31.5,5.0,30.5,5.5,11.0,14.5,10.5,7.0,34.0,10.0,9.0,11.5,5.0,2.5,5.0,8.5,4.5,11.0,6.0,23.5,11.5,2.5,9.5,11.5,24.5,25.0,14.0,11.5,9.0,10.5,15.5,26.5,15.0,6.0,11.5,9.5,25.0,9.5,6.0,6.5,6.5,4.0,6.5,13.5,10.5,9.0,9.0,4.0,4.5,8.5,13.5,5.0,19.0,15.5,9.0,4.5,17.5,7.0,34.5,10.0,21.0,11.0,10.0,19.5,15.5,7.5,5.0,7.5,5.5,13.5,8.5,15.0,5.5,5.0,11.0,6.5,4.0,4.0,8.5,8.0,6.0,8.5,17.0,9.5,26.5,4.0,5.0,6.5,7.0,8.5,28.5,5.0,7.0,7.0,4.5,10.5,13.5,8.0,4.5,15.0,7.5,11.0,5.5,6.5,19.5,5.0,6.5,4.5,8.0,14.0,9.0,24.0,6.5,13.0,5.0,12.0,4.5,8.0,32.5,21.5,6.5,5.0,2.5,16.5,9.5,8.5,8.5,10.5,7.0,13.0,15.0,6.5,13.0,5.5,13.0,8.0,24.5,12.0,7.5,8.0,7.5,11.0,11.0,9.5,7.0,4.0,6.5,14.5,10.0,8.5,7.0,6.5,5.5,14.0,3.5,11.0,8.0,7.0,12.0,5.0,6.5,8.5,14.0,6.0,10.0,14.0,11.0,12.0,4.5,6.0,16.0,19.0,16.0,8.0,6.0,7.0,22.5,3.5,7.5,7.0,5.5,11.5,4.0,8.5,14.5,11.5,5.5,11.5,6.0,11.0,9.5,19.5,9.5,8.5],\"y\":[15.867293,8.5999565,8.629998,5.038987,8.629998,31.464779,10.749694,7.218782,6.993902,5.038987,6.3884997,7.859462,6.7916484,5.9458113,6.6392007,17.976332,5.760128,6.7916484,8.8322525,5.038987,49.664433,8.045145,5.038987,5.038987,8.397702,5.2246704,32.355415,8.397702,8.629998,8.5999565,5.038987,7.218782,15.218903,8.397702,10.832839,8.397702,5.760128,5.2246704,6.8662243,19.848791,51.868248,8.8322525,8.397702,5.038987,22.72017,8.8322525,10.749694,5.038987,6.6392007,5.760128,15.867293,6.6392007,33.826374,5.69511,6.7916484,24.957317,11.777256,6.3884997,5.9458113,11.777256,13.377506,10.749694,10.749694,17.976332,9.1375265,5.9180603,6.540947,6.993902,5.2246704,6.993902,12.935596,8.5999565,6.6392007,51.868248,8.5999565,10.749694,10.749694,5.038987,19.034311,6.6392007,15.318056,5.038987,9.1375265,16.775902,5.038987,5.2246704,5.69511,5.5094266,8.397702,15.112031,5.9458113,12.935596,20.226498,6.993902,5.2246704,5.038987,6.7916484,8.5999565,6.6392007,8.5999565,10.749694,8.045145,10.749694,5.760128,8.629998,6.6392007,23.94634,5.9180603,15.867293,5.038987,5.2246704,32.205692,10.749694,10.749694,15.867293,6.6392007,5.2246704,7.421036,10.749694,5.038987,11.777256,6.7916484,10.749694,14.492016,5.038987,10.749694,14.3825865,25.704231,7.859462,32.870422,13.377506,5.9458113,8.397702,5.2246704,6.6392007,8.045145,5.69511,8.8322525,19.848791,11.086433,8.5999565,6.993902,12.742676,9.686808,15.318056,6.7916484,5.038987,8.5999565,6.7916484,12.6506195,13.110627,13.798241,5.038987,8.045145,5.038987,5.9458113,8.5999565,8.5999565,5.038987,20.226498,5.2246704,9.1375265,6.7916484,5.038987,8.629998,8.045145,5.2246704,5.038987,5.760128,10.749694,6.7916484,6.993902,5.038987,6.993902,12.238796,5.5094266,5.038987,27.17154,10.749694,10.749694,5.9458113,6.6392007,8.5999565,16.103222,8.5999565,6.6392007,8.045145,10.749694,5.760128,10.749694,8.8322525,10.749694,11.227975,5.2246704,6.6392007,16.106941,12.238796,5.2246704,6.6392007,15.218903,8.5999565,9.1375265,8.8322525,51.868248,11.086433,10.749694,5.9458113,8.5999565,9.1375265,6.6392007,5.038987,12.935596,5.038987,5.5094266,5.69511,6.7916484,15.867293,9.1375265,65.44757,5.2246704,6.6392007,8.8322525,8.5999565,10.749694,13.377506,6.6392007,32.870422,5.038987,8.5999565,8.5999565,9.686808,9.1375265,5.2246704,6.523463,6.993902,51.868248,19.687803,7.421036,8.045145,15.318056,10.749694,8.5999565,8.5999565,17.779959,5.760128,20.226498,9.1375265,10.749694,10.749694,5.038987,8.5999565,5.038987,19.687803,8.629998,6.6392007,13.98399,8.5999565,10.749694,8.397702,10.749694,10.749694,6.993902,12.6506195,7.859462,10.392242,5.038987,9.686808,10.749694,6.6392007,6.7916484,6.540947,12.6506195,65.44757,5.038987,10.749694,16.106941,6.993902,11.777256,10.749694,8.045145,5.5094266,8.629998,10.749694,5.9458113,6.6392007,9.686808,10.749694,5.038987,10.749694,10.832839,12.609034,5.9458113,15.582316,9.1375265,51.868248,14.3825865,5.9458113,6.3884997,5.2246704,26.20671,5.038987,19.034311,5.760128,5.038987,13.618652,10.832839,5.038987,8.5999565,8.5999565,11.086433,9.035464,6.6392007,6.6392007,15.867293,8.397702,8.8322525,13.618652,20.226498,15.582316,5.038987,10.749694,8.629998,8.5999565,5.038987,9.1375265,15.218903,8.5999565,5.038987,9.1375265,5.760128,8.397702,8.045145,6.7916484,5.038987,9.1375265,8.5999565,14.209284,17.976332,15.107755,5.760128,14.3825865,6.6392007,9.686808,5.038987,5.2246704,5.038987,5.9180603,5.038987,5.9458113,51.868248,23.94634,16.775902,8.5999565,8.045145,8.629998,12.609034,8.045145,10.749694,24.882809,5.038987,8.5999565,13.071353,5.038987,8.629998,14.492016,10.749694,5.038987,10.749694,6.6392007,6.6392007,6.6392007,5.760128,6.6392007,10.749694,24.957317,8.5999565,6.3884997,5.69511,8.045145,8.045145,6.7916484,7.421036,11.793291,5.038987,12.6506195,11.290758,5.2246704,8.5999565,8.045145,8.045145,11.777256,9.1375265,10.749694,5.038987,8.8322525,5.2246704,11.318729,6.7916484,5.038987,15.867293,5.038987,6.6392007,10.749694,5.2246704,9.1375265,12.238796,8.397702,5.2246704,9.1375265,10.749694,32.870422,6.0705075,8.045145,8.045145,6.7916484,10.749694,10.749694,27.17154,8.5999565,10.749694,6.7916484,10.749694,8.045145,8.045145,10.749694,5.038987,17.976332,6.3884997,8.5999565,5.5094266,8.045145,7.421036,10.749694,11.290758,8.5999565,5.9458113,10.392242,5.760128,6.3884997,5.038987,8.5999565,8.397702,9.686808,5.5094266,8.045145,6.7916484,6.8662243,5.038987,5.038987,5.9180603,22.181473,8.5999565,10.749694,8.045145,10.749694,5.69511,9.1375265,8.629998,12.609034,8.8322525,9.686808,15.867293,6.6392007,6.7916484,5.038987,6.3884997,5.9180603,8.5999565,8.5999565,8.5999565,6.6392007,10.832839,10.749694,8.397702,5.5094266,6.993902,9.1375265,5.2246704,5.038987,8.629998,6.6392007,6.6392007,8.5999565,8.045145,8.5999565,8.045145,15.867293,11.777256,5.038987,6.993902,8.629998,10.749694,6.993902,16.107761,8.5999565,8.8322525,22.181473,5.760128,8.5999565,8.397702,8.8322525,5.038987,8.5999565,8.045145,8.5999565,8.5999565,19.848791,8.5999565,9.686808,9.1375265,51.868248,7.218782,6.993902,10.749694,8.8322525,5.9458113,5.038987,8.397702,8.5999565,24.882809,8.045145,5.760128,9.686808,6.3884997,8.045145,6.993902,17.6379,32.355415,5.038987,8.629998,6.6392007,8.045145,5.038987,6.6392007,6.993902,9.573034,5.038987,17.976332,6.7916484,10.749694,12.238796,8.045145,5.9458113,6.3884997,10.749694,6.7916484,5.038987,6.3884997,6.6392007,8.8322525,9.686808,10.749694,8.045145,8.8322525,13.377506,11.086433,10.749694,10.749694,13.618652,13.618652,15.867293,5.9180603,8.045145,6.993902,8.8322525,5.038987,8.5999565,17.779959,8.5999565,5.9458113,12.078268,12.6506195,5.038987,9.1375265,7.859462,12.6506195,5.9180603,10.749694,5.038987,5.9180603,10.749694,10.749694,9.686808,5.2246704,7.218782,5.038987,9.686808,10.886324,5.038987,14.159717,8.397702,5.038987,10.749694,5.038987,24.882809,30.180706,10.392242,15.867293,10.749694,11.318729,5.9458113,9.1375265,11.777256,6.3884997,8.045145,5.038987,5.038987,9.686808,5.760128,8.045145,12.6506195,32.870422,5.2246704,10.749694,10.832839,8.397702,15.867293,5.038987,6.6392007,5.9458113,5.038987,12.238796,11.227975,32.205692,12.101337,11.318729,8.045145,8.045145,11.777256,6.0705075,11.318729,12.742676,12.609034,8.5999565,24.882809,8.5999565,6.7916484,5.038987,6.540947,9.26776,6.7916484,8.045145,25.459797,7.421036,10.749694,6.993902,8.5999565,11.227975,5.038987,6.993902,10.749694,5.038987,6.3884997,8.8322525,15.107755,6.6392007,12.238796,5.038987,5.038987,8.5999565,5.038987,5.9180603,5.69511,32.205692,5.038987,16.103222,8.045145,6.3884997,36.003357,33.919704,5.2246704,5.038987,8.5999565,12.6506195,8.045145,6.993902,6.993902,8.045145,14.776993,8.045145,19.232983,23.94634,5.9458113,5.760128,6.6392007,8.5999565,12.078268,5.69511,39.1771,6.0705075,16.417305,12.6506195,24.882809,11.227975,10.886324,6.993902,15.218903,10.749694,19.687803,16.579918,6.993902,23.94634,6.993902,8.5999565,12.238796,11.290758,5.9180603,8.5999565,14.776993,16.103222,6.6392007,12.935596,6.993902,25.629725,12.609034,12.935596,15.867293,5.9180603,5.2246704,15.107755,6.993902,5.5094266,6.6392007,5.038987,8.5999565,13.377506,41.232437,5.2246704,11.086433,6.3884997,8.045145,32.407455,9.686808,6.6392007,5.760128,10.749694,6.7916484,10.749694,15.582316,8.629998,5.038987,10.749694,6.0705075,11.086433,10.832839,15.867293,5.2246704,5.9180603,9.686808,24.882809,34.582798,5.038987,5.038987,6.3884997,13.482396,5.2246704,8.629998,10.749694,5.5094266,13.98399,6.993902,12.6506195,6.6392007,11.086433,7.6564336,12.6506195,19.232983,6.6392007,12.6506195,6.993902,5.038987,25.468246,5.038987,12.238796,9.1375265,11.793291,6.993902,8.8322525,6.540947,8.5999565,5.038987,8.397702,5.038987,6.7916484,34.58444,19.232983,15.107755,5.038987,6.993902,8.397702,15.582316,12.238796,6.6392007,8.629998,5.038987,8.629998,6.993902,6.6392007,5.5094266,15.867293,6.7916484,17.976332,30.180706,8.5999565,15.582316,6.0705075,32.205692,5.760128,32.205692,5.69511,10.749694,14.159717,10.749694,6.6392007,32.870422,10.749694,10.749694,10.749694,5.9458113,39.271816,5.2246704,8.5999565,5.038987,11.318729,5.9180603,23.94634,11.086433,5.038987,10.749694,10.749694,24.882809,24.957317,14.3825865,10.122315,9.686808,10.749694,15.107755,25.468246,15.318056,6.0705075,11.777256,8.8322525,17.779959,9.686808,5.760128,6.3884997,6.7916484,5.038987,6.6392007,14.159717,9.1375265,8.5999565,8.5999565,5.038987,5.038987,8.5999565,13.767373,5.2246704,19.687803,16.103222,8.5999565,5.038987,17.976332,6.7916484,32.870422,11.086433,19.280298,11.318729,9.1375265,19.034311,15.218903,8.397702,5.2246704,8.045145,5.69511,13.377506,6.993902,16.579918,5.9180603,5.2246704,11.086433,5.9458113,5.038987,5.038987,8.8322525,6.993902,6.0705075,8.5999565,16.107761,8.5999565,24.957317,5.038987,5.2246704,6.523463,6.6392007,8.5999565,26.774061,5.2246704,8.045145,6.7916484,5.038987,10.749694,12.935596,8.5999565,5.038987,13.377506,6.993902,11.318729,5.2246704,6.540947,19.232983,5.2246704,6.7916484,5.038987,8.5999565,13.377506,7.6564336,24.957317,6.6392007,12.386315,5.2246704,10.832839,5.038987,8.397702,32.205692,19.687803,6.6392007,5.2246704,5.038987,15.867293,8.5999565,8.629998,8.397702,9.1375265,6.7916484,12.6506195,15.582316,5.9458113,12.935596,5.69511,12.6506195,8.397702,24.957317,10.749694,6.993902,8.5999565,8.397702,11.318729,11.086433,8.5999565,6.993902,5.038987,6.7916484,15.764375,8.5999565,8.629998,6.993902,6.7916484,5.5094266,13.482396,5.038987,9.573034,8.5999565,8.045145,11.777256,5.038987,7.859462,8.5999565,14.773184,6.540947,9.035464,13.767373,10.122315,12.6506195,5.2246704,6.3884997,15.867293,19.232983,15.582316,8.045145,5.9458113,6.993902,24.957317,5.038987,8.397702,6.993902,6.0705075,12.101337,5.038987,6.993902,13.377506,11.793291,5.5094266,11.086433,6.3884997,11.086433,8.5999565,21.451633,10.886324,6.993902],\"marker\":{},\"line\":{},\"name\":\"True Values, Predicted Values\",\"showlegend\":true},{\"type\":\"scatter\",\"mode\":\"lines\",\"x\":[0.0,71.0],\"y\":[0.0,71.0],\"marker\":{},\"line\":{},\"name\":\"Perfect Line\",\"showlegend\":true}];\r\n",
              "            var layout = {\"width\":600,\"height\":600,\"template\":{\"layout\":{\"title\":{\"x\":0.05},\"font\":{\"color\":\"rgba(42, 63, 95, 1.0)\"},\"paper_bgcolor\":\"rgba(255, 255, 255, 1.0)\",\"plot_bgcolor\":\"rgba(229, 236, 246, 1.0)\",\"autotypenumbers\":\"strict\",\"colorscale\":{\"diverging\":[[0.0,\"#8e0152\"],[0.1,\"#c51b7d\"],[0.2,\"#de77ae\"],[0.3,\"#f1b6da\"],[0.4,\"#fde0ef\"],[0.5,\"#f7f7f7\"],[0.6,\"#e6f5d0\"],[0.7,\"#b8e186\"],[0.8,\"#7fbc41\"],[0.9,\"#4d9221\"],[1.0,\"#276419\"]],\"sequential\":[[0.0,\"#0d0887\"],[0.1111111111111111,\"#46039f\"],[0.2222222222222222,\"#7201a8\"],[0.3333333333333333,\"#9c179e\"],[0.4444444444444444,\"#bd3786\"],[0.5555555555555556,\"#d8576b\"],[0.6666666666666666,\"#ed7953\"],[0.7777777777777778,\"#fb9f3a\"],[0.8888888888888888,\"#fdca26\"],[1.0,\"#f0f921\"]],\"sequentialminus\":[[0.0,\"#0d0887\"],[0.1111111111111111,\"#46039f\"],[0.2222222222222222,\"#7201a8\"],[0.3333333333333333,\"#9c179e\"],[0.4444444444444444,\"#bd3786\"],[0.5555555555555556,\"#d8576b\"],[0.6666666666666666,\"#ed7953\"],[0.7777777777777778,\"#fb9f3a\"],[0.8888888888888888,\"#fdca26\"],[1.0,\"#f0f921\"]]},\"hovermode\":\"closest\",\"hoverlabel\":{\"align\":\"left\"},\"coloraxis\":{\"colorbar\":{\"outlinewidth\":0.0,\"ticks\":\"\"}},\"geo\":{\"showland\":true,\"landcolor\":\"rgba(229, 236, 246, 1.0)\",\"showlakes\":true,\"lakecolor\":\"rgba(255, 255, 255, 1.0)\",\"subunitcolor\":\"rgba(255, 255, 255, 1.0)\",\"bgcolor\":\"rgba(255, 255, 255, 1.0)\"},\"mapbox\":{\"style\":\"light\"},\"polar\":{\"bgcolor\":\"rgba(229, 236, 246, 1.0)\",\"radialaxis\":{\"linecolor\":\"rgba(255, 255, 255, 1.0)\",\"gridcolor\":\"rgba(255, 255, 255, 1.0)\",\"ticks\":\"\"},\"angularaxis\":{\"linecolor\":\"rgba(255, 255, 255, 1.0)\",\"gridcolor\":\"rgba(255, 255, 255, 1.0)\",\"ticks\":\"\"}},\"scene\":{\"xaxis\":{\"ticks\":\"\",\"linecolor\":\"rgba(255, 255, 255, 1.0)\",\"gridcolor\":\"rgba(255, 255, 255, 1.0)\",\"gridwidth\":2.0,\"zerolinecolor\":\"rgba(255, 255, 255, 1.0)\",\"backgroundcolor\":\"rgba(229, 236, 246, 1.0)\",\"showbackground\":true},\"yaxis\":{\"ticks\":\"\",\"linecolor\":\"rgba(255, 255, 255, 1.0)\",\"gridcolor\":\"rgba(255, 255, 255, 1.0)\",\"gridwidth\":2.0,\"zerolinecolor\":\"rgba(255, 255, 255, 1.0)\",\"backgroundcolor\":\"rgba(229, 236, 246, 1.0)\",\"showbackground\":true},\"zaxis\":{\"ticks\":\"\",\"linecolor\":\"rgba(255, 255, 255, 1.0)\",\"gridcolor\":\"rgba(255, 255, 255, 1.0)\",\"gridwidth\":2.0,\"zerolinecolor\":\"rgba(255, 255, 255, 1.0)\",\"backgroundcolor\":\"rgba(229, 236, 246, 1.0)\",\"showbackground\":true}},\"ternary\":{\"aaxis\":{\"ticks\":\"\",\"linecolor\":\"rgba(255, 255, 255, 1.0)\",\"gridcolor\":\"rgba(255, 255, 255, 1.0)\"},\"baxis\":{\"ticks\":\"\",\"linecolor\":\"rgba(255, 255, 255, 1.0)\",\"gridcolor\":\"rgba(255, 255, 255, 1.0)\"},\"caxis\":{\"ticks\":\"\",\"linecolor\":\"rgba(255, 255, 255, 1.0)\",\"gridcolor\":\"rgba(255, 255, 255, 1.0)\"},\"bgcolor\":\"rgba(229, 236, 246, 1.0)\"},\"xaxis\":{\"title\":{\"standoff\":15},\"ticks\":\"\",\"automargin\":true,\"linecolor\":\"rgba(255, 255, 255, 1.0)\",\"gridcolor\":\"rgba(255, 255, 255, 1.0)\",\"zerolinecolor\":\"rgba(255, 255, 255, 1.0)\",\"zerolinewidth\":2.0},\"yaxis\":{\"title\":{\"standoff\":15},\"ticks\":\"\",\"automargin\":true,\"linecolor\":\"rgba(255, 255, 255, 1.0)\",\"gridcolor\":\"rgba(255, 255, 255, 1.0)\",\"zerolinecolor\":\"rgba(255, 255, 255, 1.0)\",\"zerolinewidth\":2.0},\"annotationdefaults\":{\"arrowcolor\":\"#2a3f5f\",\"arrowhead\":0,\"arrowwidth\":1},\"shapedefaults\":{\"line\":{\"color\":\"rgba(42, 63, 95, 1.0)\"}},\"colorway\":[\"rgba(99, 110, 250, 1.0)\",\"rgba(239, 85, 59, 1.0)\",\"rgba(0, 204, 150, 1.0)\",\"rgba(171, 99, 250, 1.0)\",\"rgba(255, 161, 90, 1.0)\",\"rgba(25, 211, 243, 1.0)\",\"rgba(255, 102, 146, 1.0)\",\"rgba(182, 232, 128, 1.0)\",\"rgba(255, 151, 255, 1.0)\",\"rgba(254, 203, 82, 1.0)\"]},\"data\":{\"bar\":[{\"marker\":{\"line\":{\"color\":\"rgba(229, 236, 246, 1.0)\",\"width\":0.5},\"pattern\":{\"fillmode\":\"overlay\",\"size\":10,\"solidity\":0.2}},\"error_x\":{\"color\":\"rgba(42, 63, 95, 1.0)\"},\"error_y\":{\"color\":\"rgba(42, 63, 95, 1.0)\"}}],\"barpolar\":[{\"marker\":{\"line\":{\"color\":\"rgba(229, 236, 246, 1.0)\",\"width\":0.5},\"pattern\":{\"fillmode\":\"overlay\",\"size\":10,\"solidity\":0.2}}}],\"carpet\":[{\"aaxis\":{\"linecolor\":\"rgba(255, 255, 255, 1.0)\",\"gridcolor\":\"rgba(255, 255, 255, 1.0)\",\"endlinecolor\":\"rgba(42, 63, 95, 1.0)\",\"minorgridcolor\":\"rgba(255, 255, 255, 1.0)\",\"startlinecolor\":\"rgba(42, 63, 95, 1.0)\"},\"baxis\":{\"linecolor\":\"rgba(255, 255, 255, 1.0)\",\"gridcolor\":\"rgba(255, 255, 255, 1.0)\",\"endlinecolor\":\"rgba(42, 63, 95, 1.0)\",\"minorgridcolor\":\"rgba(255, 255, 255, 1.0)\",\"startlinecolor\":\"rgba(42, 63, 95, 1.0)\"}}],\"choropleth\":[{\"colorbar\":{\"outlinewidth\":0.0,\"ticks\":\"\"},\"colorscale\":[[0.0,\"#0d0887\"],[0.1111111111111111,\"#46039f\"],[0.2222222222222222,\"#7201a8\"],[0.3333333333333333,\"#9c179e\"],[0.4444444444444444,\"#bd3786\"],[0.5555555555555556,\"#d8576b\"],[0.6666666666666666,\"#ed7953\"],[0.7777777777777778,\"#fb9f3a\"],[0.8888888888888888,\"#fdca26\"],[1.0,\"#f0f921\"]]}],\"contour\":[{\"colorbar\":{\"outlinewidth\":0.0,\"ticks\":\"\"},\"colorscale\":[[0.0,\"#0d0887\"],[0.1111111111111111,\"#46039f\"],[0.2222222222222222,\"#7201a8\"],[0.3333333333333333,\"#9c179e\"],[0.4444444444444444,\"#bd3786\"],[0.5555555555555556,\"#d8576b\"],[0.6666666666666666,\"#ed7953\"],[0.7777777777777778,\"#fb9f3a\"],[0.8888888888888888,\"#fdca26\"],[1.0,\"#f0f921\"]]}],\"contourcarpet\":[{\"colorbar\":{\"outlinewidth\":0.0,\"ticks\":\"\"}}],\"heatmap\":[{\"colorbar\":{\"outlinewidth\":0.0,\"ticks\":\"\"},\"colorscale\":[[0.0,\"#0d0887\"],[0.1111111111111111,\"#46039f\"],[0.2222222222222222,\"#7201a8\"],[0.3333333333333333,\"#9c179e\"],[0.4444444444444444,\"#bd3786\"],[0.5555555555555556,\"#d8576b\"],[0.6666666666666666,\"#ed7953\"],[0.7777777777777778,\"#fb9f3a\"],[0.8888888888888888,\"#fdca26\"],[1.0,\"#f0f921\"]]}],\"heatmapgl\":[{\"colorbar\":{\"outlinewidth\":0.0,\"ticks\":\"\"},\"colorscale\":[[0.0,\"#0d0887\"],[0.1111111111111111,\"#46039f\"],[0.2222222222222222,\"#7201a8\"],[0.3333333333333333,\"#9c179e\"],[0.4444444444444444,\"#bd3786\"],[0.5555555555555556,\"#d8576b\"],[0.6666666666666666,\"#ed7953\"],[0.7777777777777778,\"#fb9f3a\"],[0.8888888888888888,\"#fdca26\"],[1.0,\"#f0f921\"]]}],\"histogram\":[{\"marker\":{\"pattern\":{\"fillmode\":\"overlay\",\"size\":10,\"solidity\":0.2}}}],\"histogram2d\":[{\"colorbar\":{\"outlinewidth\":0.0,\"ticks\":\"\"},\"colorscale\":[[0.0,\"#0d0887\"],[0.1111111111111111,\"#46039f\"],[0.2222222222222222,\"#7201a8\"],[0.3333333333333333,\"#9c179e\"],[0.4444444444444444,\"#bd3786\"],[0.5555555555555556,\"#d8576b\"],[0.6666666666666666,\"#ed7953\"],[0.7777777777777778,\"#fb9f3a\"],[0.8888888888888888,\"#fdca26\"],[1.0,\"#f0f921\"]]}],\"histogram2dcontour\":[{\"colorbar\":{\"outlinewidth\":0.0,\"ticks\":\"\"},\"colorscale\":[[0.0,\"#0d0887\"],[0.1111111111111111,\"#46039f\"],[0.2222222222222222,\"#7201a8\"],[0.3333333333333333,\"#9c179e\"],[0.4444444444444444,\"#bd3786\"],[0.5555555555555556,\"#d8576b\"],[0.6666666666666666,\"#ed7953\"],[0.7777777777777778,\"#fb9f3a\"],[0.8888888888888888,\"#fdca26\"],[1.0,\"#f0f921\"]]}],\"mesh3d\":[{\"colorbar\":{\"outlinewidth\":0.0,\"ticks\":\"\"}}],\"parcoords\":[{\"line\":{\"colorbar\":{\"outlinewidth\":0.0,\"ticks\":\"\"}}}],\"pie\":[{\"automargin\":true}],\"scatter\":[{\"marker\":{\"colorbar\":{\"outlinewidth\":0.0,\"ticks\":\"\"}}}],\"scatter3d\":[{\"marker\":{\"colorbar\":{\"outlinewidth\":0.0,\"ticks\":\"\"}},\"line\":{\"colorbar\":{\"outlinewidth\":0.0,\"ticks\":\"\"}}}],\"scattercarpet\":[{\"marker\":{\"colorbar\":{\"outlinewidth\":0.0,\"ticks\":\"\"}}}],\"scattergeo\":[{\"marker\":{\"colorbar\":{\"outlinewidth\":0.0,\"ticks\":\"\"}}}],\"scattergl\":[{\"marker\":{\"colorbar\":{\"outlinewidth\":0.0,\"ticks\":\"\"}}}],\"scattermapbox\":[{\"marker\":{\"colorbar\":{\"outlinewidth\":0.0,\"ticks\":\"\"}}}],\"scatterpolar\":[{\"marker\":{\"colorbar\":{\"outlinewidth\":0.0,\"ticks\":\"\"}}}],\"scatterpolargl\":[{\"marker\":{\"colorbar\":{\"outlinewidth\":0.0,\"ticks\":\"\"}}}],\"scatterternary\":[{\"marker\":{\"colorbar\":{\"outlinewidth\":0.0,\"ticks\":\"\"}}}],\"surface\":[{\"colorbar\":{\"outlinewidth\":0.0,\"ticks\":\"\"},\"colorscale\":[[0.0,\"#0d0887\"],[0.1111111111111111,\"#46039f\"],[0.2222222222222222,\"#7201a8\"],[0.3333333333333333,\"#9c179e\"],[0.4444444444444444,\"#bd3786\"],[0.5555555555555556,\"#d8576b\"],[0.6666666666666666,\"#ed7953\"],[0.7777777777777778,\"#fb9f3a\"],[0.8888888888888888,\"#fdca26\"],[1.0,\"#f0f921\"]]}],\"table\":[{\"cells\":{\"fill\":{\"color\":\"rgba(235, 240, 248, 1.0)\"},\"line\":{\"color\":\"rgba(255, 255, 255, 1.0)\"}},\"header\":{\"fill\":{\"color\":\"rgba(200, 212, 227, 1.0)\"},\"line\":{\"color\":\"rgba(255, 255, 255, 1.0)\"}}}]}},\"xaxis\":{\"title\":{\"text\":\"X\"},\"showgrid\":false}};\r\n",
              "            var config = {\"responsive\":true};\r\n",
              "            Plotly.newPlot('8a66e34c-f1ce-4ede-b236-56a456481340', data, layout, config);\r\n",
              "});\r\n",
              "            };\r\n",
              "            if ((typeof(requirejs) !==  typeof(Function)) || (typeof(requirejs.config) !== typeof(Function))) {\r\n",
              "                var script = document.createElement(\"script\");\r\n",
              "                script.setAttribute(\"src\", \"https://cdnjs.cloudflare.com/ajax/libs/require.js/2.3.6/require.min.js\");\r\n",
              "                script.onload = function(){\r\n",
              "                    renderPlotly_8a66e34cf1ce4edeb23656a456481340();\r\n",
              "                };\r\n",
              "                document.getElementsByTagName(\"head\")[0].appendChild(script);\r\n",
              "            }\r\n",
              "            else {\r\n",
              "                renderPlotly_8a66e34cf1ce4edeb23656a456481340();\r\n",
              "            }\r\n",
              "</script>\r\n",
              "\n",
              "    \n",
              "</div>    \n"
            ]
          },
          "metadata": {},
          "output_type": "display_data"
        }
      ],
      "source": [
        "// Number of rows to display in charts.\n",
        "int numberOfRows = 1000;\n",
        "// Use the model to make batch predictions on training data\n",
        "var testResults = model.Transform(df);\n",
        "\n",
        "// Get the actual values from the dataset\n",
        "var trueValues = testResults.GetColumn<float>(\"fare_amount\").Take(numberOfRows);;\n",
        "\n",
        "// Get the predicted values from the test results\n",
        "var predictedValues = testResults.GetColumn<float>(\"Score\").Take(numberOfRows);\n",
        "\n",
        "var scatter = Plotly.NET.CSharp.Chart.Scatter<float, float, string>(x: trueValues, y: predictedValues, mode: Plotly.NET.StyleParam.Mode.Markers)\n",
        ".WithTraceInfo(\"True Values, Predicted Values\", ShowLegend: true);\n",
        "\n",
        "var maximumValue = Math.Max(trueValues.Max(), predictedValues.Max());\n",
        "var perfectLine = Plotly.NET.CSharp.Chart.Scatter<float, float, string>(x:new[] {0, maximumValue}, y: new[] {0, maximumValue}, mode: Plotly.NET.StyleParam.Mode.Lines)\n",
        ".WithTraceInfo(\"Perfect Line\", ShowLegend: true);\n",
        "\n",
        "\n",
        "Plotly.NET.CSharp.Chart.Combine(new []{scatter, perfectLine})\n",
        ".WithXAxisStyle<double, double, string>(TitleText: \"X\", ShowGrid: false)"
      ]
    },
    {
      "cell_type": "markdown",
      "metadata": {},
      "source": [
        "## Calculate and graph the Permutation Feature Importance (PFI)"
      ]
    },
    {
      "cell_type": "code",
      "execution_count": 23,
      "metadata": {
        "dotnet_interactive": {
          "language": "csharp"
        },
        "vscode": {
          "languageId": "polyglot-notebook"
        }
      },
      "outputs": [
        {
          "data": {
            "text/html": [
              "<table id=\"table_638321912650698484\"><thead><tr><th><i>index</i></th><th>Feature</th><th>R-Squared Impact</th></tr></thead><tbody><tr><td><i><div class=\"dni-plaintext\"><pre>0</pre></div></i></td><td>trip_distance</td><td><div class=\"dni-plaintext\"><pre>0.69333761241898</pre></div></td></tr><tr><td><i><div class=\"dni-plaintext\"><pre>1</pre></div></i></td><td>rate_code</td><td><div class=\"dni-plaintext\"><pre>0.2915977337251443</pre></div></td></tr><tr><td><i><div class=\"dni-plaintext\"><pre>2</pre></div></i></td><td>trip_time_in_secs</td><td><div class=\"dni-plaintext\"><pre>0.15290071900531021</pre></div></td></tr><tr><td><i><div class=\"dni-plaintext\"><pre>3</pre></div></i></td><td>payment_type.UNK</td><td><div class=\"dni-plaintext\"><pre>0</pre></div></td></tr><tr><td><i><div class=\"dni-plaintext\"><pre>4</pre></div></i></td><td>passenger_count</td><td><div class=\"dni-plaintext\"><pre>0</pre></div></td></tr><tr><td><i><div class=\"dni-plaintext\"><pre>5</pre></div></i></td><td>payment_type.DIS</td><td><div class=\"dni-plaintext\"><pre>0</pre></div></td></tr><tr><td><i><div class=\"dni-plaintext\"><pre>6</pre></div></i></td><td>payment_type.NOC</td><td><div class=\"dni-plaintext\"><pre>0</pre></div></td></tr><tr><td><i><div class=\"dni-plaintext\"><pre>7</pre></div></i></td><td>vendor_id.CMT</td><td><div class=\"dni-plaintext\"><pre>0</pre></div></td></tr><tr><td><i><div class=\"dni-plaintext\"><pre>8</pre></div></i></td><td>payment_type.CRD</td><td><div class=\"dni-plaintext\"><pre>0</pre></div></td></tr><tr><td><i><div class=\"dni-plaintext\"><pre>9</pre></div></i></td><td>vendor_id.VTS</td><td><div class=\"dni-plaintext\"><pre>0</pre></div></td></tr><tr><td><i><div class=\"dni-plaintext\"><pre>10</pre></div></i></td><td>payment_type.CSH</td><td><div class=\"dni-plaintext\"><pre>0</pre></div></td></tr></tbody></table><style>\r\n",
              ".dni-code-hint {\r\n",
              "    font-style: italic;\r\n",
              "    overflow: hidden;\r\n",
              "    white-space: nowrap;\r\n",
              "}\r\n",
              ".dni-treeview {\r\n",
              "    white-space: nowrap;\r\n",
              "}\r\n",
              ".dni-treeview td {\r\n",
              "    vertical-align: top;\r\n",
              "    text-align: start;\r\n",
              "}\r\n",
              "details.dni-treeview {\r\n",
              "    padding-left: 1em;\r\n",
              "}\r\n",
              "table td {\r\n",
              "    text-align: start;\r\n",
              "}\r\n",
              "table tr { \r\n",
              "    vertical-align: top; \r\n",
              "    margin: 0em 0px;\r\n",
              "}\r\n",
              "table tr td pre \r\n",
              "{ \r\n",
              "    vertical-align: top !important; \r\n",
              "    margin: 0em 0px !important;\r\n",
              "} \r\n",
              "table th {\r\n",
              "    text-align: start;\r\n",
              "}\r\n",
              "</style>"
            ]
          },
          "metadata": {},
          "output_type": "display_data"
        }
      ],
      "source": [
        "// Calculate PFI\n",
        "var preprocessedTrainData = model.Transform(df);\n",
        "\n",
        "ImmutableDictionary<string, RegressionMetricsStatistics> permutationFeatureImportance =\n",
        "    mlContext.Regression\n",
        "\t.PermutationFeatureImportance(\n",
        "                model,\n",
        "                preprocessedTrainData,\n",
        "                labelColumnName: \"fare_amount\",\n",
        "                useFeatureWeightFilter: false,\n",
        "                numberOfExamplesToUse: null,\n",
        "                permutationCount: 1);\n",
        "\n",
        "var featureImportanceMetrics =\n",
        "     permutationFeatureImportance\n",
        "     .Select((kvp) => new { kvp.Key, kvp.Value.RSquared })\n",
        "     .OrderByDescending(myFeatures => Math.Abs(myFeatures.RSquared.Mean));\n",
        "\n",
        "    \n",
        "var featureNames = new List<string>();\n",
        "var featurePFI = new List<double>();\n",
        "foreach (var feature in featureImportanceMetrics)\n",
        "{\n",
        "     featureNames.Add(feature.Key);\n",
        "     featurePFI.Add(Math.Abs(feature.RSquared.Mean));\n",
        "}\n",
        "var featureImportance = new DataFrame(new StringDataFrameColumn(\"Feature\", featureNames.ToArray() ), new DoubleDataFrameColumn(\"R-Squared Impact\",featurePFI.ToArray()));\n",
        "    \n",
        "featureImportance"
      ]
    },
    {
      "cell_type": "code",
      "execution_count": null,
      "metadata": {
        "dotnet_interactive": {
          "language": "csharp"
        },
        "vscode": {
          "languageId": "polyglot-notebook"
        }
      },
      "outputs": [
        {
          "data": {
            "text/html": [
              "\n",
              "<div>\n",
              "    <div id=\"c36e683a-2847-407d-b0f4-d47d9acd7b99\"><!-- Plotly chart will be drawn inside this DIV --></div>\r\n",
              "<script type=\"text/javascript\">\r\n",
              "\r\n",
              "            var renderPlotly_c36e683a2847407db0f4d47d9acd7b99 = function() {\r\n",
              "            var fsharpPlotlyRequire = requirejs.config({context:'fsharp-plotly',paths:{plotly:'https://cdn.plot.ly/plotly-2.6.3.min'}}) || require;\r\n",
              "            fsharpPlotlyRequire(['plotly'], function(Plotly) {\r\n",
              "\r\n",
              "            var data = [{\"type\":\"bar\",\"x\":[0.69333761241898,0.2915977337251443,0.15290071900531021,0.0,0.0,0.0,0.0,0.0,0.0,0.0,0.0],\"y\":[\"trip_distance\",\"rate_code\",\"trip_time_in_secs\",\"payment_type.UNK\",\"passenger_count\",\"payment_type.DIS\",\"payment_type.NOC\",\"vendor_id.CMT\",\"payment_type.CRD\",\"vendor_id.VTS\",\"payment_type.CSH\"],\"orientation\":\"h\",\"marker\":{\"pattern\":{}},\"name\":\"Hello from C#\",\"showlegend\":false}];\r\n",
              "            var layout = {\"width\":600,\"height\":600,\"template\":{\"layout\":{\"title\":{\"x\":0.05},\"font\":{\"color\":\"rgba(42, 63, 95, 1.0)\"},\"paper_bgcolor\":\"rgba(255, 255, 255, 1.0)\",\"plot_bgcolor\":\"rgba(229, 236, 246, 1.0)\",\"autotypenumbers\":\"strict\",\"colorscale\":{\"diverging\":[[0.0,\"#8e0152\"],[0.1,\"#c51b7d\"],[0.2,\"#de77ae\"],[0.3,\"#f1b6da\"],[0.4,\"#fde0ef\"],[0.5,\"#f7f7f7\"],[0.6,\"#e6f5d0\"],[0.7,\"#b8e186\"],[0.8,\"#7fbc41\"],[0.9,\"#4d9221\"],[1.0,\"#276419\"]],\"sequential\":[[0.0,\"#0d0887\"],[0.1111111111111111,\"#46039f\"],[0.2222222222222222,\"#7201a8\"],[0.3333333333333333,\"#9c179e\"],[0.4444444444444444,\"#bd3786\"],[0.5555555555555556,\"#d8576b\"],[0.6666666666666666,\"#ed7953\"],[0.7777777777777778,\"#fb9f3a\"],[0.8888888888888888,\"#fdca26\"],[1.0,\"#f0f921\"]],\"sequentialminus\":[[0.0,\"#0d0887\"],[0.1111111111111111,\"#46039f\"],[0.2222222222222222,\"#7201a8\"],[0.3333333333333333,\"#9c179e\"],[0.4444444444444444,\"#bd3786\"],[0.5555555555555556,\"#d8576b\"],[0.6666666666666666,\"#ed7953\"],[0.7777777777777778,\"#fb9f3a\"],[0.8888888888888888,\"#fdca26\"],[1.0,\"#f0f921\"]]},\"hovermode\":\"closest\",\"hoverlabel\":{\"align\":\"left\"},\"coloraxis\":{\"colorbar\":{\"outlinewidth\":0.0,\"ticks\":\"\"}},\"geo\":{\"showland\":true,\"landcolor\":\"rgba(229, 236, 246, 1.0)\",\"showlakes\":true,\"lakecolor\":\"rgba(255, 255, 255, 1.0)\",\"subunitcolor\":\"rgba(255, 255, 255, 1.0)\",\"bgcolor\":\"rgba(255, 255, 255, 1.0)\"},\"mapbox\":{\"style\":\"light\"},\"polar\":{\"bgcolor\":\"rgba(229, 236, 246, 1.0)\",\"radialaxis\":{\"linecolor\":\"rgba(255, 255, 255, 1.0)\",\"gridcolor\":\"rgba(255, 255, 255, 1.0)\",\"ticks\":\"\"},\"angularaxis\":{\"linecolor\":\"rgba(255, 255, 255, 1.0)\",\"gridcolor\":\"rgba(255, 255, 255, 1.0)\",\"ticks\":\"\"}},\"scene\":{\"xaxis\":{\"ticks\":\"\",\"linecolor\":\"rgba(255, 255, 255, 1.0)\",\"gridcolor\":\"rgba(255, 255, 255, 1.0)\",\"gridwidth\":2.0,\"zerolinecolor\":\"rgba(255, 255, 255, 1.0)\",\"backgroundcolor\":\"rgba(229, 236, 246, 1.0)\",\"showbackground\":true},\"yaxis\":{\"ticks\":\"\",\"linecolor\":\"rgba(255, 255, 255, 1.0)\",\"gridcolor\":\"rgba(255, 255, 255, 1.0)\",\"gridwidth\":2.0,\"zerolinecolor\":\"rgba(255, 255, 255, 1.0)\",\"backgroundcolor\":\"rgba(229, 236, 246, 1.0)\",\"showbackground\":true},\"zaxis\":{\"ticks\":\"\",\"linecolor\":\"rgba(255, 255, 255, 1.0)\",\"gridcolor\":\"rgba(255, 255, 255, 1.0)\",\"gridwidth\":2.0,\"zerolinecolor\":\"rgba(255, 255, 255, 1.0)\",\"backgroundcolor\":\"rgba(229, 236, 246, 1.0)\",\"showbackground\":true}},\"ternary\":{\"aaxis\":{\"ticks\":\"\",\"linecolor\":\"rgba(255, 255, 255, 1.0)\",\"gridcolor\":\"rgba(255, 255, 255, 1.0)\"},\"baxis\":{\"ticks\":\"\",\"linecolor\":\"rgba(255, 255, 255, 1.0)\",\"gridcolor\":\"rgba(255, 255, 255, 1.0)\"},\"caxis\":{\"ticks\":\"\",\"linecolor\":\"rgba(255, 255, 255, 1.0)\",\"gridcolor\":\"rgba(255, 255, 255, 1.0)\"},\"bgcolor\":\"rgba(229, 236, 246, 1.0)\"},\"xaxis\":{\"title\":{\"standoff\":15},\"ticks\":\"\",\"automargin\":true,\"linecolor\":\"rgba(255, 255, 255, 1.0)\",\"gridcolor\":\"rgba(255, 255, 255, 1.0)\",\"zerolinecolor\":\"rgba(255, 255, 255, 1.0)\",\"zerolinewidth\":2.0},\"yaxis\":{\"title\":{\"standoff\":15},\"ticks\":\"\",\"automargin\":true,\"linecolor\":\"rgba(255, 255, 255, 1.0)\",\"gridcolor\":\"rgba(255, 255, 255, 1.0)\",\"zerolinecolor\":\"rgba(255, 255, 255, 1.0)\",\"zerolinewidth\":2.0},\"annotationdefaults\":{\"arrowcolor\":\"#2a3f5f\",\"arrowhead\":0,\"arrowwidth\":1},\"shapedefaults\":{\"line\":{\"color\":\"rgba(42, 63, 95, 1.0)\"}},\"colorway\":[\"rgba(99, 110, 250, 1.0)\",\"rgba(239, 85, 59, 1.0)\",\"rgba(0, 204, 150, 1.0)\",\"rgba(171, 99, 250, 1.0)\",\"rgba(255, 161, 90, 1.0)\",\"rgba(25, 211, 243, 1.0)\",\"rgba(255, 102, 146, 1.0)\",\"rgba(182, 232, 128, 1.0)\",\"rgba(255, 151, 255, 1.0)\",\"rgba(254, 203, 82, 1.0)\"]},\"data\":{\"bar\":[{\"marker\":{\"line\":{\"color\":\"rgba(229, 236, 246, 1.0)\",\"width\":0.5},\"pattern\":{\"fillmode\":\"overlay\",\"size\":10,\"solidity\":0.2}},\"error_x\":{\"color\":\"rgba(42, 63, 95, 1.0)\"},\"error_y\":{\"color\":\"rgba(42, 63, 95, 1.0)\"}}],\"barpolar\":[{\"marker\":{\"line\":{\"color\":\"rgba(229, 236, 246, 1.0)\",\"width\":0.5},\"pattern\":{\"fillmode\":\"overlay\",\"size\":10,\"solidity\":0.2}}}],\"carpet\":[{\"aaxis\":{\"linecolor\":\"rgba(255, 255, 255, 1.0)\",\"gridcolor\":\"rgba(255, 255, 255, 1.0)\",\"endlinecolor\":\"rgba(42, 63, 95, 1.0)\",\"minorgridcolor\":\"rgba(255, 255, 255, 1.0)\",\"startlinecolor\":\"rgba(42, 63, 95, 1.0)\"},\"baxis\":{\"linecolor\":\"rgba(255, 255, 255, 1.0)\",\"gridcolor\":\"rgba(255, 255, 255, 1.0)\",\"endlinecolor\":\"rgba(42, 63, 95, 1.0)\",\"minorgridcolor\":\"rgba(255, 255, 255, 1.0)\",\"startlinecolor\":\"rgba(42, 63, 95, 1.0)\"}}],\"choropleth\":[{\"colorbar\":{\"outlinewidth\":0.0,\"ticks\":\"\"},\"colorscale\":[[0.0,\"#0d0887\"],[0.1111111111111111,\"#46039f\"],[0.2222222222222222,\"#7201a8\"],[0.3333333333333333,\"#9c179e\"],[0.4444444444444444,\"#bd3786\"],[0.5555555555555556,\"#d8576b\"],[0.6666666666666666,\"#ed7953\"],[0.7777777777777778,\"#fb9f3a\"],[0.8888888888888888,\"#fdca26\"],[1.0,\"#f0f921\"]]}],\"contour\":[{\"colorbar\":{\"outlinewidth\":0.0,\"ticks\":\"\"},\"colorscale\":[[0.0,\"#0d0887\"],[0.1111111111111111,\"#46039f\"],[0.2222222222222222,\"#7201a8\"],[0.3333333333333333,\"#9c179e\"],[0.4444444444444444,\"#bd3786\"],[0.5555555555555556,\"#d8576b\"],[0.6666666666666666,\"#ed7953\"],[0.7777777777777778,\"#fb9f3a\"],[0.8888888888888888,\"#fdca26\"],[1.0,\"#f0f921\"]]}],\"contourcarpet\":[{\"colorbar\":{\"outlinewidth\":0.0,\"ticks\":\"\"}}],\"heatmap\":[{\"colorbar\":{\"outlinewidth\":0.0,\"ticks\":\"\"},\"colorscale\":[[0.0,\"#0d0887\"],[0.1111111111111111,\"#46039f\"],[0.2222222222222222,\"#7201a8\"],[0.3333333333333333,\"#9c179e\"],[0.4444444444444444,\"#bd3786\"],[0.5555555555555556,\"#d8576b\"],[0.6666666666666666,\"#ed7953\"],[0.7777777777777778,\"#fb9f3a\"],[0.8888888888888888,\"#fdca26\"],[1.0,\"#f0f921\"]]}],\"heatmapgl\":[{\"colorbar\":{\"outlinewidth\":0.0,\"ticks\":\"\"},\"colorscale\":[[0.0,\"#0d0887\"],[0.1111111111111111,\"#46039f\"],[0.2222222222222222,\"#7201a8\"],[0.3333333333333333,\"#9c179e\"],[0.4444444444444444,\"#bd3786\"],[0.5555555555555556,\"#d8576b\"],[0.6666666666666666,\"#ed7953\"],[0.7777777777777778,\"#fb9f3a\"],[0.8888888888888888,\"#fdca26\"],[1.0,\"#f0f921\"]]}],\"histogram\":[{\"marker\":{\"pattern\":{\"fillmode\":\"overlay\",\"size\":10,\"solidity\":0.2}}}],\"histogram2d\":[{\"colorbar\":{\"outlinewidth\":0.0,\"ticks\":\"\"},\"colorscale\":[[0.0,\"#0d0887\"],[0.1111111111111111,\"#46039f\"],[0.2222222222222222,\"#7201a8\"],[0.3333333333333333,\"#9c179e\"],[0.4444444444444444,\"#bd3786\"],[0.5555555555555556,\"#d8576b\"],[0.6666666666666666,\"#ed7953\"],[0.7777777777777778,\"#fb9f3a\"],[0.8888888888888888,\"#fdca26\"],[1.0,\"#f0f921\"]]}],\"histogram2dcontour\":[{\"colorbar\":{\"outlinewidth\":0.0,\"ticks\":\"\"},\"colorscale\":[[0.0,\"#0d0887\"],[0.1111111111111111,\"#46039f\"],[0.2222222222222222,\"#7201a8\"],[0.3333333333333333,\"#9c179e\"],[0.4444444444444444,\"#bd3786\"],[0.5555555555555556,\"#d8576b\"],[0.6666666666666666,\"#ed7953\"],[0.7777777777777778,\"#fb9f3a\"],[0.8888888888888888,\"#fdca26\"],[1.0,\"#f0f921\"]]}],\"mesh3d\":[{\"colorbar\":{\"outlinewidth\":0.0,\"ticks\":\"\"}}],\"parcoords\":[{\"line\":{\"colorbar\":{\"outlinewidth\":0.0,\"ticks\":\"\"}}}],\"pie\":[{\"automargin\":true}],\"scatter\":[{\"marker\":{\"colorbar\":{\"outlinewidth\":0.0,\"ticks\":\"\"}}}],\"scatter3d\":[{\"marker\":{\"colorbar\":{\"outlinewidth\":0.0,\"ticks\":\"\"}},\"line\":{\"colorbar\":{\"outlinewidth\":0.0,\"ticks\":\"\"}}}],\"scattercarpet\":[{\"marker\":{\"colorbar\":{\"outlinewidth\":0.0,\"ticks\":\"\"}}}],\"scattergeo\":[{\"marker\":{\"colorbar\":{\"outlinewidth\":0.0,\"ticks\":\"\"}}}],\"scattergl\":[{\"marker\":{\"colorbar\":{\"outlinewidth\":0.0,\"ticks\":\"\"}}}],\"scattermapbox\":[{\"marker\":{\"colorbar\":{\"outlinewidth\":0.0,\"ticks\":\"\"}}}],\"scatterpolar\":[{\"marker\":{\"colorbar\":{\"outlinewidth\":0.0,\"ticks\":\"\"}}}],\"scatterpolargl\":[{\"marker\":{\"colorbar\":{\"outlinewidth\":0.0,\"ticks\":\"\"}}}],\"scatterternary\":[{\"marker\":{\"colorbar\":{\"outlinewidth\":0.0,\"ticks\":\"\"}}}],\"surface\":[{\"colorbar\":{\"outlinewidth\":0.0,\"ticks\":\"\"},\"colorscale\":[[0.0,\"#0d0887\"],[0.1111111111111111,\"#46039f\"],[0.2222222222222222,\"#7201a8\"],[0.3333333333333333,\"#9c179e\"],[0.4444444444444444,\"#bd3786\"],[0.5555555555555556,\"#d8576b\"],[0.6666666666666666,\"#ed7953\"],[0.7777777777777778,\"#fb9f3a\"],[0.8888888888888888,\"#fdca26\"],[1.0,\"#f0f921\"]]}],\"table\":[{\"cells\":{\"fill\":{\"color\":\"rgba(235, 240, 248, 1.0)\"},\"line\":{\"color\":\"rgba(255, 255, 255, 1.0)\"}},\"header\":{\"fill\":{\"color\":\"rgba(200, 212, 227, 1.0)\"},\"line\":{\"color\":\"rgba(255, 255, 255, 1.0)\"}}}]}},\"xaxis\":{\"title\":{\"text\":\"Feature\"}},\"yaxis\":{\"title\":{\"text\":\"Contribution (delta R-Squared)\"}}};\r\n",
              "            var config = {\"responsive\":true};\r\n",
              "            Plotly.newPlot('c36e683a-2847-407d-b0f4-d47d9acd7b99', data, layout, config);\r\n",
              "});\r\n",
              "            };\r\n",
              "            if ((typeof(requirejs) !==  typeof(Function)) || (typeof(requirejs.config) !== typeof(Function))) {\r\n",
              "                var script = document.createElement(\"script\");\r\n",
              "                script.setAttribute(\"src\", \"https://cdnjs.cloudflare.com/ajax/libs/require.js/2.3.6/require.min.js\");\r\n",
              "                script.onload = function(){\r\n",
              "                    renderPlotly_c36e683a2847407db0f4d47d9acd7b99();\r\n",
              "                };\r\n",
              "                document.getElementsByTagName(\"head\")[0].appendChild(script);\r\n",
              "            }\r\n",
              "            else {\r\n",
              "                renderPlotly_c36e683a2847407db0f4d47d9acd7b99();\r\n",
              "            }\r\n",
              "</script>\r\n",
              "\n",
              "    \n",
              "</div>    \n"
            ]
          },
          "metadata": {},
          "output_type": "display_data"
        }
      ],
      "source": [
        "Plotly.NET.CSharp.Chart.Bar<double, string, string>(values: featurePFI, Keys: featureNames)\n",
        ".WithTraceInfo(Name: \"Hello from C#\", ShowLegend: false)\n",
        ".WithXAxisStyle<double, double, string>(TitleText: \"Feature\")\n",
        ".WithYAxisStyle<double, double, string>(TitleText: \"Contribution (delta R-Squared)\")"
      ]
    },
    {
      "cell_type": "code",
      "execution_count": 13,
      "metadata": {
        "dotnet_interactive": {
          "language": "csharp"
        },
        "vscode": {
          "languageId": "polyglot-notebook"
        }
      },
      "outputs": [
        {
          "ename": "Error",
          "evalue": "(1,22): error CS0103: The name 'featureNames' does not exist in the current context\r\n(2,23): error CS0103: The name 'df' does not exist in the current context\r\n(2,63): error CS0103: The name 'numberOfRows' does not exist in the current context\r\n(3,22): error CS0103: The name 'df' does not exist in the current context\r\n(3,63): error CS0103: The name 'numberOfRows' does not exist in the current context",
          "output_type": "error",
          "traceback": [
            "(1,22): error CS0103: The name 'featureNames' does not exist in the current context\r\n",
            "(2,23): error CS0103: The name 'df' does not exist in the current context\r\n",
            "(2,63): error CS0103: The name 'numberOfRows' does not exist in the current context\r\n",
            "(3,22): error CS0103: The name 'df' does not exist in the current context\r\n",
            "(3,63): error CS0103: The name 'numberOfRows' does not exist in the current context"
          ]
        }
      ],
      "source": [
        "var topFeatureName = featureNames.First();\n",
        "float[] fare_amount = df.GetColumn<float>(\"fare_amount\").Take(numberOfRows).ToArray();\n",
        "float[] topFeature = df.GetColumn<float>(topFeatureName).Take(numberOfRows).ToArray();\n",
        "\n",
        "Plotly.NET.CSharp.Chart.Point<float, float, string>(topFeature, fare_amount, \"Hello\")\n",
        ".WithTraceInfo(Name: \"Hello from C#\", ShowLegend: true)\n",
        ".WithXAxisStyle<float, float, string>(TitleText: topFeatureName, ShowGrid: false)\n",
        ".WithYAxisStyle<float, float, string>(TitleText: \"fare_amount\", ShowGrid: false)"
      ]
    }
  ],
  "metadata": {
    "kernelspec": {
      "display_name": ".NET (C#)",
      "language": "C#",
      "name": ".net-csharp"
    },
    "language_info": {
      "file_extension": ".cs",
      "mimetype": "text/x-csharp",
      "name": "C#",
      "pygments_lexer": "csharp",
      "version": "8.0"
    }
  },
  "nbformat": 4,
  "nbformat_minor": 4
}
