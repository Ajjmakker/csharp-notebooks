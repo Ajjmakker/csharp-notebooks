{
  "cells": [
    {
      "cell_type": "markdown",
      "metadata": {},
      "source": [
        "# Graphs and Visualizations"
      ]
    },
    {
      "cell_type": "code",
      "execution_count": null,
      "metadata": {
        "dotnet_interactive": {
          "language": "csharp"
        },
        "vscode": {
          "languageId": "polyglot-notebook"
        }
      },
      "outputs": [],
      "source": [
        "#r \"nuget: Plotly.NET.Interactive, 3.0.2\"\n",
        "#r \"nuget: Plotly.NET.CSharp, 0.0.1\""
      ]
    },
    {
      "cell_type": "code",
      "execution_count": null,
      "metadata": {
        "dotnet_interactive": {
          "language": "csharp"
        },
        "vscode": {
          "languageId": "polyglot-notebook"
        }
      },
      "outputs": [],
      "source": [
        "using System;\n",
        "using Plotly.NET.CSharp;"
      ]
    },
    {
      "cell_type": "markdown",
      "metadata": {},
      "source": [
        "## Sample Data"
      ]
    },
    {
      "cell_type": "code",
      "execution_count": null,
      "metadata": {
        "dotnet_interactive": {
          "language": "csharp"
        },
        "vscode": {
          "languageId": "polyglot-notebook"
        }
      },
      "outputs": [],
      "source": [
        "double[] x = new double[] { 1, 2, 3, 4, 5 };\n",
        "double[] x2 = new double[] { 1.1, 2.2, 3.3, 4.4, 5.5 };\n",
        "double[] y = new double[] { 5, 10, 15, 20, 25 };\n",
        "string[] categories = new string[] { \"A\", \"B\", \"C\", \"D\", \"E\" };"
      ]
    },
    {
      "cell_type": "markdown",
      "metadata": {},
      "source": [
        "## Scatter Plot"
      ]
    },
    {
      "cell_type": "code",
      "execution_count": null,
      "metadata": {
        "dotnet_interactive": {
          "language": "csharp"
        },
        "vscode": {
          "languageId": "polyglot-notebook"
        }
      },
      "outputs": [],
      "source": [
        "Chart.Point<double, double, string>(x, y, \"Hello\")\n",
        ".WithTraceInfo(Name: \"Hello from C#\", ShowLegend: true)\n",
        ".WithXAxisStyle<double, double, string>(TitleText: \"xAxis\", ShowGrid: false)\n",
        ".WithYAxisStyle<double, double, string>(TitleText: \"yAxis\", ShowGrid: false)"
      ]
    },
    {
      "cell_type": "markdown",
      "metadata": {},
      "source": [
        "## Bar Graph"
      ]
    },
    {
      "cell_type": "code",
      "execution_count": null,
      "metadata": {
        "dotnet_interactive": {
          "language": "csharp"
        },
        "vscode": {
          "languageId": "polyglot-notebook"
        }
      },
      "outputs": [],
      "source": [
        "Chart.Bar<double, string, string>(values: x, Keys: categories)\n",
        ".WithTraceInfo(Name: \"Hello from C#\", ShowLegend: true)\n",
        ".WithXAxisStyle<double, double, string>(TitleText: \"xAxis\")\n",
        ".WithYAxisStyle<double, double, string>(TitleText: \"yAxis\")"
      ]
    },
    {
      "cell_type": "markdown",
      "metadata": {},
      "source": [
        "## Combine Two Graphs -  Scatter & Line"
      ]
    },
    {
      "cell_type": "code",
      "execution_count": null,
      "metadata": {
        "dotnet_interactive": {
          "language": "csharp"
        },
        "vscode": {
          "languageId": "polyglot-notebook"
        }
      },
      "outputs": [],
      "source": [
        "// Create scatter plot of actual vs predicted values\n",
        "\n",
        "var scatter = Chart.Scatter<double, double, string>(x: x, y: x2, mode: Plotly.NET.StyleParam.Mode.Markers)\n",
        ".WithTraceInfo(\"X, X2\", ShowLegend: true);\n",
        "\n",
        "var maximumValue = Math.Max(x.Max(), x2.Max());\n",
        "var perfectLine = Chart.Scatter<double, double, string>(x:new[] {0, maximumValue}, y: new[] {0, maximumValue}, mode: Plotly.NET.StyleParam.Mode.Lines)\n",
        ".WithTraceInfo(\"Perfect Line\", ShowLegend: true);\n",
        "\n",
        "\n",
        "Chart.Combine(new []{scatter, perfectLine})\n",
        ".WithXAxisStyle<double, double, string>(TitleText: \"X\", ShowGrid: false)\n",
        ".WithYAxisStyle<double, double, string>(TitleText: \"X2\", ShowGrid: false)"
      ]
    }
  ],
  "metadata": {
    "kernelspec": {
      "display_name": ".NET (C#)",
      "language": "C#",
      "name": ".net-csharp"
    },
    "language_info": {
      "file_extension": ".cs",
      "mimetype": "text/x-csharp",
      "name": "C#",
      "pygments_lexer": "csharp",
      "version": "8.0"
    }
  },
  "nbformat": 4,
  "nbformat_minor": 4
}
