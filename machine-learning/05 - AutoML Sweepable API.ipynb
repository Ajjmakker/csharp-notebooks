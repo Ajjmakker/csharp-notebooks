{
 "cells": [
  {
   "cell_type": "markdown",
   "metadata": {},
   "source": [
    "## AutoML Sweepable API\n",
    "\n",
    "This Notebook shows how to use `Sweepable` API to fully customize the pipeline or search space in your AutoML task. In this notebook, you will learn\n",
    "- use `AutoTrainer` to simplify your work.\n",
    "- how to use `AutoML().CreateSweepableEstimator` to create `SweepableEstimator`.\n",
    "- how to create `SweepablePipeline` for multiple trainer candidates.\n"
   ]
  },
  {
   "cell_type": "markdown",
   "metadata": {},
   "source": [
    "### Install Nuget packages and add using statement"
   ]
  },
  {
   "cell_type": "code",
   "execution_count": 1,
   "metadata": {
    "dotnet_interactive": {
     "language": "csharp"
    },
    "vscode": {
     "languageId": "polyglot-notebook"
    }
   },
   "outputs": [
    {
     "data": {
      "text/html": [
       "<div><div><strong>Restore sources</strong><ul><li><span>https://pkgs.dev.azure.com/dnceng/public/_packaging/dotnet-libraries/nuget/v3/index.json</span></li></ul></div><div></div><div><strong>Installed Packages</strong><ul><li><span>Microsoft.Data.Analysis, 0.21.0-preview.23504.1</span></li><li><span>Microsoft.ML.AutoML, 0.21.0-preview.23504.1</span></li><li><span>Plotly.NET.CSharp, 0.0.1</span></li><li><span>Plotly.NET.Interactive, 3.0.2</span></li></ul></div></div>"
      ]
     },
     "metadata": {},
     "output_type": "display_data"
    },
    {
     "data": {
      "text/plain": [
       "Loading extensions from `C:\\Users\\xiaoyuz\\.nuget\\packages\\microsoft.ml.automl\\0.21.0-preview.23504.1\\interactive-extensions\\dotnet\\Microsoft.ML.AutoML.Interactive.dll`"
      ]
     },
     "metadata": {},
     "output_type": "display_data"
    },
    {
     "data": {
      "text/plain": [
       "Loading extensions from `C:\\Users\\xiaoyuz\\.nuget\\packages\\microsoft.data.analysis\\0.21.0-preview.23504.1\\interactive-extensions\\dotnet\\Microsoft.Data.Analysis.Interactive.dll`"
      ]
     },
     "metadata": {},
     "output_type": "display_data"
    },
    {
     "data": {
      "text/plain": [
       "Loading extensions from `C:\\Users\\xiaoyuz\\.nuget\\packages\\skiasharp\\2.88.6\\interactive-extensions\\dotnet\\SkiaSharp.DotNet.Interactive.dll`"
      ]
     },
     "metadata": {},
     "output_type": "display_data"
    },
    {
     "data": {
      "text/plain": [
       "Loading extensions from `C:\\Users\\xiaoyuz\\.nuget\\packages\\plotly.net.interactive\\3.0.2\\interactive-extensions\\dotnet\\Plotly.NET.Interactive.dll`"
      ]
     },
     "metadata": {},
     "output_type": "display_data"
    }
   ],
   "source": [
    "//  Use latest nightly build of ML.NET Nuget package\n",
    "#i \"nuget:https://pkgs.dev.azure.com/dnceng/public/_packaging/dotnet-libraries/nuget/v3/index.json\"\n",
    "#r \"nuget: Plotly.NET.Interactive, 3.0.2\"\n",
    "#r \"nuget: Plotly.NET.CSharp, 0.0.1\"\n",
    "#r \"nuget: Microsoft.ML.AutoML, 0.21.0-preview.23504.1\"\n",
    "#r \"nuget: Microsoft.Data.Analysis, 0.21.0-preview.23504.1\""
   ]
  },
  {
   "cell_type": "code",
   "execution_count": 2,
   "metadata": {
    "dotnet_interactive": {
     "language": "csharp"
    },
    "vscode": {
     "languageId": "polyglot-notebook"
    }
   },
   "outputs": [],
   "source": [
    "using static Microsoft.DotNet.Interactive.Formatting.PocketViewTags;\n",
    "using Microsoft.Data.Analysis;\n",
    "using System;\n",
    "using System.IO;\n",
    "using Microsoft.ML;\n",
    "using Microsoft.ML.AutoML;\n",
    "using Microsoft.ML.AutoML.CodeGen;\n",
    "using Microsoft.ML.Trainers.LightGbm;\n",
    "using Microsoft.ML.Data;\n",
    "using Plotly.NET;\n",
    "using Microsoft.ML.Transforms.TimeSeries;\n",
    "using Microsoft.ML.SearchSpace;\n",
    "using System.Diagnostics;"
   ]
  },
  {
   "cell_type": "markdown",
   "metadata": {},
   "source": [
    "#### Use `AutoTrainer` for built-in sweepable estimator candidates.\n",
    "\n",
    "`AutoTrainer` provides built-in sweepable estimator candidates for binary-classification, multi-class classification and regression. For those scenarios, you can simply use those candidates instead of creating `SweepableEstimator` from scratch."
   ]
  },
  {
   "cell_type": "code",
   "execution_count": 3,
   "metadata": {
    "dotnet_interactive": {
     "language": "csharp"
    },
    "vscode": {
     "languageId": "polyglot-notebook"
    }
   },
   "outputs": [],
   "source": [
    "var context = new MLContext();\n",
    "var regressionTrainerCandidates = context.Auto().Regression();\n",
    "var binaryClassificationTrainerCandidates = context.Auto().BinaryClassification();\n",
    "var multiclassClassificationTrainerCandidates = context.Auto().MultiClassification();"
   ]
  },
  {
   "cell_type": "markdown",
   "metadata": {},
   "source": [
    "#### Use `AutoML().CreateSweepableEstimator` to create `SweepableEstimator`\n",
    "\n",
    "In case the built-in `SweepableEstimator` doesn't satisfy your requirement, you can call `CreateSweepableEstimator` to create a customized `SweepableEstimator`. A `SweepableEstimator` is nothing different than a normal `Estimator` plus `SearchSpace`. The following code shows how to create a sweepable `LightGbm` and `SDCA`.\n",
    "\n",
    "For simplicity, the built-in search space for `LightGbm` and `SDCA` is used but you can fully customize the search space however way you want. For more details on how to do that, please check [Parameter And SearchSpace](./Parameter%20and%20SearchSpace.ipynb)"
   ]
  },
  {
   "cell_type": "code",
   "execution_count": 4,
   "metadata": {
    "dotnet_interactive": {
     "language": "csharp"
    },
    "vscode": {
     "languageId": "polyglot-notebook"
    }
   },
   "outputs": [],
   "source": [
    "var lgbmSearchSpace = new SearchSpace<LgbmOption>();\n",
    "var sweepableLgbm = context.Auto().CreateSweepableEstimator((context, param) => {\n",
    "    var option = new LightGbmRegressionTrainer.Options()\n",
    "    {\n",
    "        NumberOfLeaves = param.NumberOfLeaves,\n",
    "        NumberOfIterations = param.NumberOfTrees,\n",
    "        MinimumExampleCountPerLeaf = param.MinimumExampleCountPerLeaf,\n",
    "        LearningRate = param.LearningRate,\n",
    "        LabelColumnName = \"Label\",\n",
    "        FeatureColumnName = \"Features\",\n",
    "        Booster = new GradientBooster.Options()\n",
    "        {\n",
    "            SubsampleFraction = param.SubsampleFraction,\n",
    "            FeatureFraction = param.FeatureFraction,\n",
    "            L1Regularization = param.L1Regularization,\n",
    "            L2Regularization = param.L2Regularization,\n",
    "        },\n",
    "        MaximumBinCountPerFeature = param.MaximumBinCountPerFeature,\n",
    "    };\n",
    "\n",
    "    return context.Regression.Trainers.LightGbm(option);\n",
    "}, lgbmSearchSpace);\n",
    "\n",
    "var sdcaSearchSpace = new SearchSpace<SdcaOption>();\n",
    "var sweepableSdca = context.Auto().CreateSweepableEstimator((context, param) => {\n",
    "    return context.Regression.Trainers.Sdca(\"Label\", \"Features\", l1Regularization: param.L1Regularization, l2Regularization: param.L2Regularization);\n",
    "}, sdcaSearchSpace);"
   ]
  },
  {
   "cell_type": "markdown",
   "metadata": {},
   "source": [
    "#### Create `SweepablePipeline` with multiple trainer candidates.\n",
    "\n",
    "`SweepablePipeline` allows you to put multiple estimators as candidates to a certain stage. During AutoML sweeping, these candidates will be evaluated seperatly and the one with best metric will be picked. Note that the estimator doesn't necessarily need to be a trainer, it can be a trainer, transformer or even a `SweepablePipeline`, as long as they all have the same input and output schema.\n",
    "\n",
    "The following code shows how to create a `SweepablePipeline` with `sweepableSdca` and `sweepableLgbm` we created above."
   ]
  },
  {
   "cell_type": "code",
   "execution_count": 5,
   "metadata": {
    "dotnet_interactive": {
     "language": "csharp"
    },
    "vscode": {
     "languageId": "polyglot-notebook"
    }
   },
   "outputs": [],
   "source": [
    "var sweepablePipeline = context.Transforms.Concatenate(\"Features\", \"X1\", \"X2\")\n",
    "                            .Append(sweepableSdca, sweepableLgbm);"
   ]
  },
  {
   "cell_type": "markdown",
   "metadata": {},
   "source": [
    "#### Config `AutoMLExperiment` using `sweepablePipeline`\n",
    "In the next step, we are going to train `sweepablePipeline` on a generated non-linear dataset using `AutoMLExperiment`, which will sweeping both `sdca` and `lightGbm` on configured search space. Considering that `sdca` is a linear classifier, the winning model should be `lightGbm`."
   ]
  },
  {
   "cell_type": "code",
   "execution_count": 6,
   "metadata": {
    "dotnet_interactive": {
     "language": "csharp"
    },
    "vscode": {
     "languageId": "polyglot-notebook"
    }
   },
   "outputs": [
    {
     "data": {
      "text/html": [
       "<table id=\"table_638321897112315318\"><thead><tr><th><i>index</i></th><th>X1</th><th>X2</th><th>Label</th></tr></thead><tbody><tr><td><i><div class=\"dni-plaintext\"><pre>0</pre></div></i></td><td><div class=\"dni-plaintext\"><pre>72.62433</pre></div></td><td><div class=\"dni-plaintext\"><pre>1.8386767</pre></div></td><td><div class=\"dni-plaintext\"><pre>137.49843</pre></div></td></tr><tr><td><i><div class=\"dni-plaintext\"><pre>1</pre></div></i></td><td><div class=\"dni-plaintext\"><pre>81.73254</pre></div></td><td><div class=\"dni-plaintext\"><pre>63.497334</pre></div></td><td><div class=\"dni-plaintext\"><pre>5192.4106</pre></div></td></tr><tr><td><i><div class=\"dni-plaintext\"><pre>2</pre></div></i></td><td><div class=\"dni-plaintext\"><pre>76.80227</pre></div></td><td><div class=\"dni-plaintext\"><pre>74.96279</pre></div></td><td><div class=\"dni-plaintext\"><pre>5752.4556</pre></div></td></tr><tr><td><i><div class=\"dni-plaintext\"><pre>3</pre></div></i></td><td><div class=\"dni-plaintext\"><pre>55.81612</pre></div></td><td><div class=\"dni-plaintext\"><pre>24.123621</pre></div></td><td><div class=\"dni-plaintext\"><pre>1349.5188</pre></div></td></tr><tr><td><i><div class=\"dni-plaintext\"><pre>4</pre></div></i></td><td><div class=\"dni-plaintext\"><pre>20.603315</pre></div></td><td><div class=\"dni-plaintext\"><pre>56.236355</pre></div></td><td><div class=\"dni-plaintext\"><pre>1159.8474</pre></div></td></tr><tr><td><i><div class=\"dni-plaintext\"><pre>5</pre></div></i></td><td><div class=\"dni-plaintext\"><pre>55.88848</pre></div></td><td><div class=\"dni-plaintext\"><pre>35.49073</pre></div></td><td><div class=\"dni-plaintext\"><pre>1982.7404</pre></div></td></tr><tr><td><i><div class=\"dni-plaintext\"><pre>6</pre></div></i></td><td><div class=\"dni-plaintext\"><pre>90.60271</pre></div></td><td><div class=\"dni-plaintext\"><pre>65.19207</pre></div></td><td><div class=\"dni-plaintext\"><pre>5902.1562</pre></div></td></tr><tr><td><i><div class=\"dni-plaintext\"><pre>7</pre></div></i></td><td><div class=\"dni-plaintext\"><pre>44.217785</pre></div></td><td><div class=\"dni-plaintext\"><pre>89.708305</pre></div></td><td><div class=\"dni-plaintext\"><pre>3963.569</pre></div></td></tr><tr><td><i><div class=\"dni-plaintext\"><pre>8</pre></div></i></td><td><div class=\"dni-plaintext\"><pre>97.754974</pre></div></td><td><div class=\"dni-plaintext\"><pre>66.20816</pre></div></td><td><div class=\"dni-plaintext\"><pre>6476.4365</pre></div></td></tr><tr><td><i><div class=\"dni-plaintext\"><pre>9</pre></div></i></td><td><div class=\"dni-plaintext\"><pre>27.370447</pre></div></td><td><div class=\"dni-plaintext\"><pre>78.50348</pre></div></td><td><div class=\"dni-plaintext\"><pre>2150.2874</pre></div></td></tr></tbody></table><style>\r\n",
       ".dni-code-hint {\r\n",
       "    font-style: italic;\r\n",
       "    overflow: hidden;\r\n",
       "    white-space: nowrap;\r\n",
       "}\r\n",
       ".dni-treeview {\r\n",
       "    white-space: nowrap;\r\n",
       "}\r\n",
       ".dni-treeview td {\r\n",
       "    vertical-align: top;\r\n",
       "    text-align: start;\r\n",
       "}\r\n",
       "details.dni-treeview {\r\n",
       "    padding-left: 1em;\r\n",
       "}\r\n",
       "table td {\r\n",
       "    text-align: start;\r\n",
       "}\r\n",
       "table tr { \r\n",
       "    vertical-align: top; \r\n",
       "    margin: 0em 0px;\r\n",
       "}\r\n",
       "table tr td pre \r\n",
       "{ \r\n",
       "    vertical-align: top !important; \r\n",
       "    margin: 0em 0px !important;\r\n",
       "} \r\n",
       "table th {\r\n",
       "    text-align: start;\r\n",
       "}\r\n",
       "</style>"
      ]
     },
     "metadata": {},
     "output_type": "display_data"
    }
   ],
   "source": [
    "var rand = new Random(0);\n",
    "var context =new MLContext(seed: 1);\n",
    "var x1 = Enumerable.Range(0, 1000).Select(_x => rand.NextSingle() * 100).ToArray();\n",
    "var x2 = x1.Select(_x => rand.NextSingle() * 100).ToArray();\n",
    "var y = Enumerable.Zip(x1, x2).Select(_x => _x.Second * _x.First + (rand.NextSingle() - 0.5f) * 10).ToArray();\n",
    "var df = new DataFrame();\n",
    "df[\"X1\"] = DataFrameColumn.Create(\"X1\", x1);\n",
    "df[\"X2\"] = DataFrameColumn.Create(\"X2\", x2);\n",
    "df[\"Label\"] = DataFrameColumn.Create(\"Label\", y);\n",
    "var trainTestSplit = context.Data.TrainTestSplit(df);\n",
    "df.Head(10)"
   ]
  },
  {
   "cell_type": "code",
   "execution_count": 7,
   "metadata": {
    "dotnet_interactive": {
     "language": "csharp"
    },
    "vscode": {
     "languageId": "polyglot-notebook"
    }
   },
   "outputs": [
    {
     "data": {
      "text/html": [
       "<div><h3>Best Trial</h3><p>Id: 4</p><p>Trainer: Unknown</p><p>Parameters: {\r\n",
       "  &quot;_pipeline_&quot;: {\r\n",
       "    &quot;_SCHEMA_&quot;: &quot;e0 * e2&quot;,\r\n",
       "    &quot;e0&quot;: {},\r\n",
       "    &quot;e2&quot;: {\r\n",
       "      &quot;FeatureFraction&quot;: 0.99999999,\r\n",
       "      &quot;L1Regularization&quot;: 3.676139172975011E-10,\r\n",
       "      &quot;L2Regularization&quot;: 0.9999997766729865,\r\n",
       "      &quot;LearningRate&quot;: 0.4230894791419352,\r\n",
       "      &quot;MaximumBinCountPerFeature&quot;: 390,\r\n",
       "      &quot;MinimumExampleCountPerLeaf&quot;: 21,\r\n",
       "      &quot;NumberOfLeaves&quot;: 4,\r\n",
       "      &quot;NumberOfTrees&quot;: 4511,\r\n",
       "      &quot;SubsampleFraction&quot;: 0.7160876722017678\r\n",
       "    }\r\n",
       "  },\r\n",
       "  &quot;_SCHEMA_&quot;: &quot;e0 * e1&quot;,\r\n",
       "  &quot;e0&quot;: {},\r\n",
       "  &quot;e1&quot;: {\r\n",
       "    &quot;L1Regularization&quot;: 1,\r\n",
       "    &quot;L2Regularization&quot;: 0.1\r\n",
       "  },\r\n",
       "  &quot;e2&quot;: {\r\n",
       "    &quot;FeatureFraction&quot;: 1,\r\n",
       "    &quot;L1Regularization&quot;: 2E-10,\r\n",
       "    &quot;L2Regularization&quot;: 1,\r\n",
       "    &quot;LearningRate&quot;: 1,\r\n",
       "    &quot;MaximumBinCountPerFeature&quot;: 255,\r\n",
       "    &quot;MinimumExampleCountPerLeaf&quot;: 20,\r\n",
       "    &quot;NumberOfLeaves&quot;: 4,\r\n",
       "    &quot;NumberOfTrees&quot;: 4,\r\n",
       "    &quot;SubsampleFraction&quot;: 1\r\n",
       "  }\r\n",
       "}</p><h3>Active Trial</h3><p>Id: 5</p><p>Trainer: Unknown</p><p>Parameters: {\r\n",
       "  &quot;_pipeline_&quot;: {\r\n",
       "    &quot;_SCHEMA_&quot;: &quot;e0 * e2&quot;,\r\n",
       "    &quot;e0&quot;: {},\r\n",
       "    &quot;e2&quot;: {\r\n",
       "      &quot;FeatureFraction&quot;: 0.99999999,\r\n",
       "      &quot;L1Regularization&quot;: 2E-10,\r\n",
       "      &quot;L2Regularization&quot;: 0.9999997766729865,\r\n",
       "      &quot;LearningRate&quot;: 0.13919433530402864,\r\n",
       "      &quot;MaximumBinCountPerFeature&quot;: 247,\r\n",
       "      &quot;MinimumExampleCountPerLeaf&quot;: 22,\r\n",
       "      &quot;NumberOfLeaves&quot;: 230,\r\n",
       "      &quot;NumberOfTrees&quot;: 7401,\r\n",
       "      &quot;SubsampleFraction&quot;: 0.4459202475423565\r\n",
       "    }\r\n",
       "  },\r\n",
       "  &quot;_SCHEMA_&quot;: &quot;e0 * e1&quot;,\r\n",
       "  &quot;e0&quot;: {},\r\n",
       "  &quot;e1&quot;: {\r\n",
       "    &quot;L1Regularization&quot;: 1,\r\n",
       "    &quot;L2Regularization&quot;: 0.1\r\n",
       "  },\r\n",
       "  &quot;e2&quot;: {\r\n",
       "    &quot;FeatureFraction&quot;: 1,\r\n",
       "    &quot;L1Regularization&quot;: 2E-10,\r\n",
       "    &quot;L2Regularization&quot;: 1,\r\n",
       "    &quot;LearningRate&quot;: 1,\r\n",
       "    &quot;MaximumBinCountPerFeature&quot;: 255,\r\n",
       "    &quot;MinimumExampleCountPerLeaf&quot;: 20,\r\n",
       "    &quot;NumberOfLeaves&quot;: 4,\r\n",
       "    &quot;NumberOfTrees&quot;: 4,\r\n",
       "    &quot;SubsampleFraction&quot;: 1\r\n",
       "  }\r\n",
       "}</p></div><div><h3>Plot Metrics over Trials</h3></div>\n",
       "<div>\n",
       "    <div id=\"6af3a91b-56b8-4984-ab70-dddea3cd0739\"><!-- Plotly chart will be drawn inside this DIV --></div>\r\n",
       "<script type=\"text/javascript\">\r\n",
       "\r\n",
       "            var renderPlotly_6af3a91b56b84984ab70dddea3cd0739 = function() {\r\n",
       "            var fsharpPlotlyRequire = requirejs.config({context:'fsharp-plotly',paths:{plotly:'https://cdn.plot.ly/plotly-2.6.3.min'}}) || require;\r\n",
       "            fsharpPlotlyRequire(['plotly'], function(Plotly) {\r\n",
       "\r\n",
       "            var data = [{\"type\":\"scatter\",\"name\":\"Plot Metrics over Trials.\",\"mode\":\"markers\",\"x\":[0,1,2,3,4],\"y\":[1870.0494331631726,705.6414098717527,2091.874801372268,107.59531626574831,90.59952172798049],\"marker\":{},\"line\":{},\"showlegend\":false}];\r\n",
       "            var layout = {\"width\":600,\"height\":600,\"template\":{\"layout\":{\"title\":{\"x\":0.05},\"font\":{\"color\":\"rgba(42, 63, 95, 1.0)\"},\"paper_bgcolor\":\"rgba(255, 255, 255, 1.0)\",\"plot_bgcolor\":\"rgba(229, 236, 246, 1.0)\",\"autotypenumbers\":\"strict\",\"colorscale\":{\"diverging\":[[0.0,\"#8e0152\"],[0.1,\"#c51b7d\"],[0.2,\"#de77ae\"],[0.3,\"#f1b6da\"],[0.4,\"#fde0ef\"],[0.5,\"#f7f7f7\"],[0.6,\"#e6f5d0\"],[0.7,\"#b8e186\"],[0.8,\"#7fbc41\"],[0.9,\"#4d9221\"],[1.0,\"#276419\"]],\"sequential\":[[0.0,\"#0d0887\"],[0.1111111111111111,\"#46039f\"],[0.2222222222222222,\"#7201a8\"],[0.3333333333333333,\"#9c179e\"],[0.4444444444444444,\"#bd3786\"],[0.5555555555555556,\"#d8576b\"],[0.6666666666666666,\"#ed7953\"],[0.7777777777777778,\"#fb9f3a\"],[0.8888888888888888,\"#fdca26\"],[1.0,\"#f0f921\"]],\"sequentialminus\":[[0.0,\"#0d0887\"],[0.1111111111111111,\"#46039f\"],[0.2222222222222222,\"#7201a8\"],[0.3333333333333333,\"#9c179e\"],[0.4444444444444444,\"#bd3786\"],[0.5555555555555556,\"#d8576b\"],[0.6666666666666666,\"#ed7953\"],[0.7777777777777778,\"#fb9f3a\"],[0.8888888888888888,\"#fdca26\"],[1.0,\"#f0f921\"]]},\"hovermode\":\"closest\",\"hoverlabel\":{\"align\":\"left\"},\"coloraxis\":{\"colorbar\":{\"outlinewidth\":0.0,\"ticks\":\"\"}},\"geo\":{\"showland\":true,\"landcolor\":\"rgba(229, 236, 246, 1.0)\",\"showlakes\":true,\"lakecolor\":\"rgba(255, 255, 255, 1.0)\",\"subunitcolor\":\"rgba(255, 255, 255, 1.0)\",\"bgcolor\":\"rgba(255, 255, 255, 1.0)\"},\"mapbox\":{\"style\":\"light\"},\"polar\":{\"bgcolor\":\"rgba(229, 236, 246, 1.0)\",\"radialaxis\":{\"linecolor\":\"rgba(255, 255, 255, 1.0)\",\"gridcolor\":\"rgba(255, 255, 255, 1.0)\",\"ticks\":\"\"},\"angularaxis\":{\"linecolor\":\"rgba(255, 255, 255, 1.0)\",\"gridcolor\":\"rgba(255, 255, 255, 1.0)\",\"ticks\":\"\"}},\"scene\":{\"xaxis\":{\"ticks\":\"\",\"linecolor\":\"rgba(255, 255, 255, 1.0)\",\"gridcolor\":\"rgba(255, 255, 255, 1.0)\",\"gridwidth\":2.0,\"zerolinecolor\":\"rgba(255, 255, 255, 1.0)\",\"backgroundcolor\":\"rgba(229, 236, 246, 1.0)\",\"showbackground\":true},\"yaxis\":{\"ticks\":\"\",\"linecolor\":\"rgba(255, 255, 255, 1.0)\",\"gridcolor\":\"rgba(255, 255, 255, 1.0)\",\"gridwidth\":2.0,\"zerolinecolor\":\"rgba(255, 255, 255, 1.0)\",\"backgroundcolor\":\"rgba(229, 236, 246, 1.0)\",\"showbackground\":true},\"zaxis\":{\"ticks\":\"\",\"linecolor\":\"rgba(255, 255, 255, 1.0)\",\"gridcolor\":\"rgba(255, 255, 255, 1.0)\",\"gridwidth\":2.0,\"zerolinecolor\":\"rgba(255, 255, 255, 1.0)\",\"backgroundcolor\":\"rgba(229, 236, 246, 1.0)\",\"showbackground\":true}},\"ternary\":{\"aaxis\":{\"ticks\":\"\",\"linecolor\":\"rgba(255, 255, 255, 1.0)\",\"gridcolor\":\"rgba(255, 255, 255, 1.0)\"},\"baxis\":{\"ticks\":\"\",\"linecolor\":\"rgba(255, 255, 255, 1.0)\",\"gridcolor\":\"rgba(255, 255, 255, 1.0)\"},\"caxis\":{\"ticks\":\"\",\"linecolor\":\"rgba(255, 255, 255, 1.0)\",\"gridcolor\":\"rgba(255, 255, 255, 1.0)\"},\"bgcolor\":\"rgba(229, 236, 246, 1.0)\"},\"xaxis\":{\"title\":{\"standoff\":15},\"ticks\":\"\",\"automargin\":true,\"linecolor\":\"rgba(255, 255, 255, 1.0)\",\"gridcolor\":\"rgba(255, 255, 255, 1.0)\",\"zerolinecolor\":\"rgba(255, 255, 255, 1.0)\",\"zerolinewidth\":2.0},\"yaxis\":{\"title\":{\"standoff\":15},\"ticks\":\"\",\"automargin\":true,\"linecolor\":\"rgba(255, 255, 255, 1.0)\",\"gridcolor\":\"rgba(255, 255, 255, 1.0)\",\"zerolinecolor\":\"rgba(255, 255, 255, 1.0)\",\"zerolinewidth\":2.0},\"annotationdefaults\":{\"arrowcolor\":\"#2a3f5f\",\"arrowhead\":0,\"arrowwidth\":1},\"shapedefaults\":{\"line\":{\"color\":\"rgba(42, 63, 95, 1.0)\"}},\"colorway\":[\"rgba(99, 110, 250, 1.0)\",\"rgba(239, 85, 59, 1.0)\",\"rgba(0, 204, 150, 1.0)\",\"rgba(171, 99, 250, 1.0)\",\"rgba(255, 161, 90, 1.0)\",\"rgba(25, 211, 243, 1.0)\",\"rgba(255, 102, 146, 1.0)\",\"rgba(182, 232, 128, 1.0)\",\"rgba(255, 151, 255, 1.0)\",\"rgba(254, 203, 82, 1.0)\"]},\"data\":{\"bar\":[{\"marker\":{\"line\":{\"color\":\"rgba(229, 236, 246, 1.0)\",\"width\":0.5},\"pattern\":{\"fillmode\":\"overlay\",\"size\":10,\"solidity\":0.2}},\"error_x\":{\"color\":\"rgba(42, 63, 95, 1.0)\"},\"error_y\":{\"color\":\"rgba(42, 63, 95, 1.0)\"}}],\"barpolar\":[{\"marker\":{\"line\":{\"color\":\"rgba(229, 236, 246, 1.0)\",\"width\":0.5},\"pattern\":{\"fillmode\":\"overlay\",\"size\":10,\"solidity\":0.2}}}],\"carpet\":[{\"aaxis\":{\"linecolor\":\"rgba(255, 255, 255, 1.0)\",\"gridcolor\":\"rgba(255, 255, 255, 1.0)\",\"endlinecolor\":\"rgba(42, 63, 95, 1.0)\",\"minorgridcolor\":\"rgba(255, 255, 255, 1.0)\",\"startlinecolor\":\"rgba(42, 63, 95, 1.0)\"},\"baxis\":{\"linecolor\":\"rgba(255, 255, 255, 1.0)\",\"gridcolor\":\"rgba(255, 255, 255, 1.0)\",\"endlinecolor\":\"rgba(42, 63, 95, 1.0)\",\"minorgridcolor\":\"rgba(255, 255, 255, 1.0)\",\"startlinecolor\":\"rgba(42, 63, 95, 1.0)\"}}],\"choropleth\":[{\"colorbar\":{\"outlinewidth\":0.0,\"ticks\":\"\"},\"colorscale\":[[0.0,\"#0d0887\"],[0.1111111111111111,\"#46039f\"],[0.2222222222222222,\"#7201a8\"],[0.3333333333333333,\"#9c179e\"],[0.4444444444444444,\"#bd3786\"],[0.5555555555555556,\"#d8576b\"],[0.6666666666666666,\"#ed7953\"],[0.7777777777777778,\"#fb9f3a\"],[0.8888888888888888,\"#fdca26\"],[1.0,\"#f0f921\"]]}],\"contour\":[{\"colorbar\":{\"outlinewidth\":0.0,\"ticks\":\"\"},\"colorscale\":[[0.0,\"#0d0887\"],[0.1111111111111111,\"#46039f\"],[0.2222222222222222,\"#7201a8\"],[0.3333333333333333,\"#9c179e\"],[0.4444444444444444,\"#bd3786\"],[0.5555555555555556,\"#d8576b\"],[0.6666666666666666,\"#ed7953\"],[0.7777777777777778,\"#fb9f3a\"],[0.8888888888888888,\"#fdca26\"],[1.0,\"#f0f921\"]]}],\"contourcarpet\":[{\"colorbar\":{\"outlinewidth\":0.0,\"ticks\":\"\"}}],\"heatmap\":[{\"colorbar\":{\"outlinewidth\":0.0,\"ticks\":\"\"},\"colorscale\":[[0.0,\"#0d0887\"],[0.1111111111111111,\"#46039f\"],[0.2222222222222222,\"#7201a8\"],[0.3333333333333333,\"#9c179e\"],[0.4444444444444444,\"#bd3786\"],[0.5555555555555556,\"#d8576b\"],[0.6666666666666666,\"#ed7953\"],[0.7777777777777778,\"#fb9f3a\"],[0.8888888888888888,\"#fdca26\"],[1.0,\"#f0f921\"]]}],\"heatmapgl\":[{\"colorbar\":{\"outlinewidth\":0.0,\"ticks\":\"\"},\"colorscale\":[[0.0,\"#0d0887\"],[0.1111111111111111,\"#46039f\"],[0.2222222222222222,\"#7201a8\"],[0.3333333333333333,\"#9c179e\"],[0.4444444444444444,\"#bd3786\"],[0.5555555555555556,\"#d8576b\"],[0.6666666666666666,\"#ed7953\"],[0.7777777777777778,\"#fb9f3a\"],[0.8888888888888888,\"#fdca26\"],[1.0,\"#f0f921\"]]}],\"histogram\":[{\"marker\":{\"pattern\":{\"fillmode\":\"overlay\",\"size\":10,\"solidity\":0.2}}}],\"histogram2d\":[{\"colorbar\":{\"outlinewidth\":0.0,\"ticks\":\"\"},\"colorscale\":[[0.0,\"#0d0887\"],[0.1111111111111111,\"#46039f\"],[0.2222222222222222,\"#7201a8\"],[0.3333333333333333,\"#9c179e\"],[0.4444444444444444,\"#bd3786\"],[0.5555555555555556,\"#d8576b\"],[0.6666666666666666,\"#ed7953\"],[0.7777777777777778,\"#fb9f3a\"],[0.8888888888888888,\"#fdca26\"],[1.0,\"#f0f921\"]]}],\"histogram2dcontour\":[{\"colorbar\":{\"outlinewidth\":0.0,\"ticks\":\"\"},\"colorscale\":[[0.0,\"#0d0887\"],[0.1111111111111111,\"#46039f\"],[0.2222222222222222,\"#7201a8\"],[0.3333333333333333,\"#9c179e\"],[0.4444444444444444,\"#bd3786\"],[0.5555555555555556,\"#d8576b\"],[0.6666666666666666,\"#ed7953\"],[0.7777777777777778,\"#fb9f3a\"],[0.8888888888888888,\"#fdca26\"],[1.0,\"#f0f921\"]]}],\"mesh3d\":[{\"colorbar\":{\"outlinewidth\":0.0,\"ticks\":\"\"}}],\"parcoords\":[{\"line\":{\"colorbar\":{\"outlinewidth\":0.0,\"ticks\":\"\"}}}],\"pie\":[{\"automargin\":true}],\"scatter\":[{\"marker\":{\"colorbar\":{\"outlinewidth\":0.0,\"ticks\":\"\"}}}],\"scatter3d\":[{\"marker\":{\"colorbar\":{\"outlinewidth\":0.0,\"ticks\":\"\"}},\"line\":{\"colorbar\":{\"outlinewidth\":0.0,\"ticks\":\"\"}}}],\"scattercarpet\":[{\"marker\":{\"colorbar\":{\"outlinewidth\":0.0,\"ticks\":\"\"}}}],\"scattergeo\":[{\"marker\":{\"colorbar\":{\"outlinewidth\":0.0,\"ticks\":\"\"}}}],\"scattergl\":[{\"marker\":{\"colorbar\":{\"outlinewidth\":0.0,\"ticks\":\"\"}}}],\"scattermapbox\":[{\"marker\":{\"colorbar\":{\"outlinewidth\":0.0,\"ticks\":\"\"}}}],\"scatterpolar\":[{\"marker\":{\"colorbar\":{\"outlinewidth\":0.0,\"ticks\":\"\"}}}],\"scatterpolargl\":[{\"marker\":{\"colorbar\":{\"outlinewidth\":0.0,\"ticks\":\"\"}}}],\"scatterternary\":[{\"marker\":{\"colorbar\":{\"outlinewidth\":0.0,\"ticks\":\"\"}}}],\"surface\":[{\"colorbar\":{\"outlinewidth\":0.0,\"ticks\":\"\"},\"colorscale\":[[0.0,\"#0d0887\"],[0.1111111111111111,\"#46039f\"],[0.2222222222222222,\"#7201a8\"],[0.3333333333333333,\"#9c179e\"],[0.4444444444444444,\"#bd3786\"],[0.5555555555555556,\"#d8576b\"],[0.6666666666666666,\"#ed7953\"],[0.7777777777777778,\"#fb9f3a\"],[0.8888888888888888,\"#fdca26\"],[1.0,\"#f0f921\"]]}],\"table\":[{\"cells\":{\"fill\":{\"color\":\"rgba(235, 240, 248, 1.0)\"},\"line\":{\"color\":\"rgba(255, 255, 255, 1.0)\"}},\"header\":{\"fill\":{\"color\":\"rgba(200, 212, 227, 1.0)\"},\"line\":{\"color\":\"rgba(255, 255, 255, 1.0)\"}}}]}},\"xaxis\":{\"title\":{\"text\":\"Trial\"},\"showgrid\":false},\"yaxis\":{\"title\":{\"text\":\"Metric\"},\"showgrid\":false}};\r\n",
       "            var config = {\"responsive\":true};\r\n",
       "            Plotly.newPlot('6af3a91b-56b8-4984-ab70-dddea3cd0739', data, layout, config);\r\n",
       "});\r\n",
       "            };\r\n",
       "            if ((typeof(requirejs) !==  typeof(Function)) || (typeof(requirejs.config) !== typeof(Function))) {\r\n",
       "                var script = document.createElement(\"script\");\r\n",
       "                script.setAttribute(\"src\", \"https://cdnjs.cloudflare.com/ajax/libs/require.js/2.3.6/require.min.js\");\r\n",
       "                script.onload = function(){\r\n",
       "                    renderPlotly_6af3a91b56b84984ab70dddea3cd0739();\r\n",
       "                };\r\n",
       "                document.getElementsByTagName(\"head\")[0].appendChild(script);\r\n",
       "            }\r\n",
       "            else {\r\n",
       "                renderPlotly_6af3a91b56b84984ab70dddea3cd0739();\r\n",
       "            }\r\n",
       "</script>\r\n",
       "\n",
       "    \n",
       "</div>    \n",
       "<div><h3>All Trials Table</h3></div><table id=\"table_638321897385729656\"><thead><tr><th><i>index</i></th><th>Trial</th><th>Metric</th><th>Trainer</th><th>Parameters</th></tr></thead><tbody><tr><td><i><div class=\"dni-plaintext\"><pre>0</pre></div></i></td><td><div class=\"dni-plaintext\"><pre>0</pre></div></td><td><div class=\"dni-plaintext\"><pre>1870.0494</pre></div></td><td>Unknown</td><td>{&quot;_pipeline_&quot;:{&quot;_SCHEMA_&quot;:&quot;e0 * e1&quot;,&quot;e0&quot;:{},&quot;e1&quot;:{&quot;L1Regularization&quot;:1,&quot;L2Regularization&quot;:0.1}},&quot;_SCHEMA_&quot;:&quot;e0 * e1&quot;,&quot;e0&quot;:{},&quot;e1&quot;:{&quot;L1Regularization&quot;:1,&quot;L2Regularization&quot;:0.1},&quot;e2&quot;:{&quot;FeatureFraction&quot;:1,&quot;L1Regularization&quot;:2E-10,&quot;L2Regularization&quot;:1,&quot;LearningRate&quot;:1,&quot;MaximumBinCountPerFeature&quot;:255,&quot;MinimumExampleCountPerLeaf&quot;:20,&quot;NumberOfLeaves&quot;:4,&quot;NumberOfTrees&quot;:4,&quot;SubsampleFraction&quot;:1}}</td></tr><tr><td><i><div class=\"dni-plaintext\"><pre>1</pre></div></i></td><td><div class=\"dni-plaintext\"><pre>1</pre></div></td><td><div class=\"dni-plaintext\"><pre>705.6414</pre></div></td><td>Unknown</td><td>{&quot;_pipeline_&quot;:{&quot;_SCHEMA_&quot;:&quot;e0 * e2&quot;,&quot;e0&quot;:{},&quot;e2&quot;:{&quot;FeatureFraction&quot;:1,&quot;L1Regularization&quot;:2E-10,&quot;L2Regularization&quot;:1,&quot;LearningRate&quot;:1,&quot;MaximumBinCountPerFeature&quot;:254,&quot;MinimumExampleCountPerLeaf&quot;:20,&quot;NumberOfLeaves&quot;:4,&quot;NumberOfTrees&quot;:4,&quot;SubsampleFraction&quot;:1}},&quot;_SCHEMA_&quot;:&quot;e0 * e1&quot;,&quot;e0&quot;:{},&quot;e1&quot;:{&quot;L1Regularization&quot;:1,&quot;L2Regularization&quot;:0.1},&quot;e2&quot;:{&quot;FeatureFraction&quot;:1,&quot;L1Regularization&quot;:2E-10,&quot;L2Regularization&quot;:1,&quot;LearningRate&quot;:1,&quot;MaximumBinCountPerFeature&quot;:255,&quot;MinimumExampleCountPerLeaf&quot;:20,&quot;NumberOfLeaves&quot;:4,&quot;NumberOfTrees&quot;:4,&quot;SubsampleFraction&quot;:1}}</td></tr><tr><td><i><div class=\"dni-plaintext\"><pre>2</pre></div></i></td><td><div class=\"dni-plaintext\"><pre>2</pre></div></td><td><div class=\"dni-plaintext\"><pre>2091.8748</pre></div></td><td>Unknown</td><td>{&quot;_pipeline_&quot;:{&quot;_SCHEMA_&quot;:&quot;e0 * e1&quot;,&quot;e0&quot;:{},&quot;e1&quot;:{&quot;L1Regularization&quot;:3.3867867,&quot;L2Regularization&quot;:0.051759623}},&quot;_SCHEMA_&quot;:&quot;e0 * e1&quot;,&quot;e0&quot;:{},&quot;e1&quot;:{&quot;L1Regularization&quot;:1,&quot;L2Regularization&quot;:0.1},&quot;e2&quot;:{&quot;FeatureFraction&quot;:1,&quot;L1Regularization&quot;:2E-10,&quot;L2Regularization&quot;:1,&quot;LearningRate&quot;:1,&quot;MaximumBinCountPerFeature&quot;:255,&quot;MinimumExampleCountPerLeaf&quot;:20,&quot;NumberOfLeaves&quot;:4,&quot;NumberOfTrees&quot;:4,&quot;SubsampleFraction&quot;:1}}</td></tr><tr><td><i><div class=\"dni-plaintext\"><pre>3</pre></div></i></td><td><div class=\"dni-plaintext\"><pre>3</pre></div></td><td><div class=\"dni-plaintext\"><pre>107.595314</pre></div></td><td>Unknown</td><td>{&quot;_pipeline_&quot;:{&quot;_SCHEMA_&quot;:&quot;e0 * e2&quot;,&quot;e0&quot;:{},&quot;e2&quot;:{&quot;FeatureFraction&quot;:0.9930195610380121,&quot;L1Regularization&quot;:2E-10,&quot;L2Regularization&quot;:0.9999997766729865,&quot;LearningRate&quot;:0.4200893720564174,&quot;MaximumBinCountPerFeature&quot;:302,&quot;MinimumExampleCountPerLeaf&quot;:21,&quot;NumberOfLeaves&quot;:4,&quot;NumberOfTrees&quot;:838,&quot;SubsampleFraction&quot;:0.9999997766729865}},&quot;_SCHEMA_&quot;:&quot;e0 * e1&quot;,&quot;e0&quot;:{},&quot;e1&quot;:{&quot;L1Regularization&quot;:1,&quot;L2Regularization&quot;:0.1},&quot;e2&quot;:{&quot;FeatureFraction&quot;:1,&quot;L1Regularization&quot;:2E-10,&quot;L2Regularization&quot;:1,&quot;LearningRate&quot;:1,&quot;MaximumBinCountPerFeature&quot;:255,&quot;MinimumExampleCountPerLeaf&quot;:20,&quot;NumberOfLeaves&quot;:4,&quot;NumberOfTrees&quot;:4,&quot;SubsampleFraction&quot;:1}}</td></tr><tr><td><i><div class=\"dni-plaintext\"><pre>4</pre></div></i></td><td><div class=\"dni-plaintext\"><pre>4</pre></div></td><td><div class=\"dni-plaintext\"><pre>90.599525</pre></div></td><td>Unknown</td><td>{&quot;_pipeline_&quot;:{&quot;_SCHEMA_&quot;:&quot;e0 * e2&quot;,&quot;e0&quot;:{},&quot;e2&quot;:{&quot;FeatureFraction&quot;:0.99999999,&quot;L1Regularization&quot;:3.676139172975011E-10,&quot;L2Regularization&quot;:0.9999997766729865,&quot;LearningRate&quot;:0.4230894791419352,&quot;MaximumBinCountPerFeature&quot;:390,&quot;MinimumExampleCountPerLeaf&quot;:21,&quot;NumberOfLeaves&quot;:4,&quot;NumberOfTrees&quot;:4511,&quot;SubsampleFraction&quot;:0.7160876722017678}},&quot;_SCHEMA_&quot;:&quot;e0 * e1&quot;,&quot;e0&quot;:{},&quot;e1&quot;:{&quot;L1Regularization&quot;:1,&quot;L2Regularization&quot;:0.1},&quot;e2&quot;:{&quot;FeatureFraction&quot;:1,&quot;L1Regularization&quot;:2E-10,&quot;L2Regularization&quot;:1,&quot;LearningRate&quot;:1,&quot;MaximumBinCountPerFeature&quot;:255,&quot;MinimumExampleCountPerLeaf&quot;:20,&quot;NumberOfLeaves&quot;:4,&quot;NumberOfTrees&quot;:4,&quot;SubsampleFraction&quot;:1}}</td></tr></tbody></table><style>\r\n",
       ".dni-code-hint {\r\n",
       "    font-style: italic;\r\n",
       "    overflow: hidden;\r\n",
       "    white-space: nowrap;\r\n",
       "}\r\n",
       ".dni-treeview {\r\n",
       "    white-space: nowrap;\r\n",
       "}\r\n",
       ".dni-treeview td {\r\n",
       "    vertical-align: top;\r\n",
       "    text-align: start;\r\n",
       "}\r\n",
       "details.dni-treeview {\r\n",
       "    padding-left: 1em;\r\n",
       "}\r\n",
       "table td {\r\n",
       "    text-align: start;\r\n",
       "}\r\n",
       "table tr { \r\n",
       "    vertical-align: top; \r\n",
       "    margin: 0em 0px;\r\n",
       "}\r\n",
       "table tr td pre \r\n",
       "{ \r\n",
       "    vertical-align: top !important; \r\n",
       "    margin: 0em 0px !important;\r\n",
       "} \r\n",
       "table th {\r\n",
       "    text-align: start;\r\n",
       "}\r\n",
       "</style>"
      ]
     },
     "metadata": {},
     "output_type": "display_data"
    },
    {
     "data": {
      "text/html": [
       "<span><a href=\"https://docs.microsoft.com/dotnet/api/microsoft.ml.data.regressionpredictiontransformer-1?view=net-7.0\">Microsoft.ML.Data.RegressionPredictionTransformer&lt;Microsoft.ML.Trainers.LightGbm.LightGbmRegressionModelParameters&gt;</a></span>"
      ]
     },
     "metadata": {},
     "output_type": "display_data"
    }
   ],
   "source": [
    "var monitor = new NotebookMonitor(sweepablePipeline);\n",
    "var experiment = context.Auto().CreateExperiment();\n",
    "experiment.SetDataset(df, 5)\n",
    "          .SetPipeline(sweepablePipeline)\n",
    "          .SetTrainingTimeInSeconds(50)\n",
    "          .SetRegressionMetric(RegressionMetric.RootMeanSquaredError)\n",
    "          .SetMonitor(monitor);\n",
    "\n",
    "// Configure Visualizer\t\t\t\n",
    "monitor.SetUpdate(monitor.Display());\n",
    "\n",
    "var res = await experiment.RunAsync();\n",
    "\n",
    "// check the type of last trainer for winning model, which should be lightGbm\n",
    "(res.Model as TransformerChain<ITransformer>).Last().GetType()"
   ]
  },
  {
   "cell_type": "markdown",
   "metadata": {},
   "source": [
    "## Continue learning\n",
    "\n",
    "> [⏩ Next Module - AutoML Tuner](./06-AutoML%20HPO%20and%20tuner.ipynb)  \n",
    "> [⏪ Last Module - AutoML Sweepable API](./05%20-%20AutoML%20Sweepable%20API.ipynb)\n",
    "\n",
    "## See also\n",
    "- [Training and AutoML](./03-Training%20and%20AutoML.ipynb)\n",
    "- [Regression with Taxi Dataset](./E2E-Regression%20with%20Taxi%20Dataset.ipynb)\n",
    "- [Classification with Iris Dataset](./E2E-Classification%20with%20Iris%20Dataset.ipynb)\n",
    "- [Kaggle with Titanic Dataset](./REF-Kaggle%20with%20Titanic%20Dataset.ipynb)"
   ]
  }
 ],
 "metadata": {
  "kernelspec": {
   "display_name": ".NET (C#)",
   "language": "C#",
   "name": ".net-csharp"
  },
  "language_info": {
   "file_extension": ".cs",
   "mimetype": "text/x-csharp",
   "name": "C#",
   "pygments_lexer": "csharp",
   "version": "9.0"
  },
  "orig_nbformat": 4
 },
 "nbformat": 4,
 "nbformat_minor": 2
}
