{
  "cells": [
    {
      "cell_type": "markdown",
      "metadata": {},
      "source": [
        "# Training and AutoML"
      ]
    },
    {
      "cell_type": "markdown",
      "metadata": {},
      "source": [
        "## In this Notebook, you will learn\n",
        "- What does __Training__ mean?\n",
        "- Introduction to trainers,  some of their differences, and how to decide which one to use.\n",
        "- How hyper-parameters impact training performance.\n",
        "- How to use AutoML to simplify your training process."
      ]
    },
    {
      "cell_type": "markdown",
      "metadata": {},
      "source": [
        "## What does __Training__ mean.\n",
        "Before diving into code, let's first talk a little about what does \"train a model\" actually mean. \n",
        "\n",
        "In ML.Net, \"train a model\" usually means call `model.Fit(X)` in ML.Net, where `X` is an `IDataView` which includes both feature and label. So what happen when you call `Fit`? Generally speaking, `Fit` updates parameters in the trainer so it can predict label that is **close** to the actual label in `X`, or in another word, to decrease the distance between predicted and actual label.\n",
        "\n",
        "In machine learning, the difference or distance between predicted and actual label is usually called **loss** and you use different loss measures based on the task. For classification softmax is a common loss measure. For regression, Root Mean Squared Error (RMSE) is a common loss measure. In general though, they are all metrics to quantify the distance between the predicted and actual label. In most of cases, a **lower loss means a better model**. For more information, see the [ML.NET evaluation metrics guide](https://docs.microsoft.com/dotnet/machine-learning/resources/metrics).\n",
        "\n",
        "So what `Fit` does is to apply an algorithm to your data to identify patterns and adjust parameters in that algorithm to lowers the loss. When you train a model, you want to decrease its loss to make the prediction of that model closer to the actual label."
      ]
    },
    {
      "cell_type": "markdown",
      "metadata": {},
      "source": [
        "## Trainers in ML.Net\n",
        "ML.NET provides a variety of trainers. You can find most of them under the [StandardTrainersCatalog](https://docs.microsoft.com/dotnet/api/microsoft.ml.standardtrainerscatalog?view=ml-dotnet). Examples of trainers include linear trainers like `SDCA`, `Lbfgs`, `LinearSvm` and tree-based non-linear trainers like `FastTree`, `RandomForest` and `LightGbm`. Generally, each trainer's capability is different. Non-linear models sometimes have better training performance (lower loss) than linear ones, but it doesn't always mean they are always the better choice. Picking the right trainer to build the best model for your data requires many attempts of trial and error.\n",
        "\n",
        "### Overfitting and Underfitting\n",
        "Overfitting and underfitting are the two most common problems you encounter when training a model. Underfitting means the selected trainer is not capable enough to fit training dataset and usually result in a high loss during training and low score/metric on test dataset. To resolve this you need to either select a more powerful model or perform more feature engineering. Overfitting is the opposite, which happens when model learns the training data too well. This usually results in low loss metric during training but high loss on test dataset.\n",
        "\n",
        "A good analogy for these concepts is studying for an exam. Let's say you knew the questions and answers ahead of time. After studying, you take the test and get a perfect score. Great news! However, when you're given the exam again with the questions rearranged and with slightly different wording you get a lower score. That suggests you memorized the answers and didn't actually learn the concepts you were being tested on. This is an example of overfitting. Underfitting is the opposite where the study materials you were given don't accurately represent what you're evaluated on for the exam. As a result, you resort to guessing the answers since you don't have enough knowledge to answer correctly.\n",
        "\n",
        "### Difference in parameter and hyper-parameter\n",
        "In the nutshell, parameters are internal to a trainer, and is updated based on training dataset during training(`Fit`) process. While hyper-parameters are external to a trainer and control training process. For example, in `LightGbm`, `LearningRate` is a hyper-parameter which you can designate when creating and it controls the updating steps for the tree nodes weight during training. And tree nodes weight is parameter which is adjusted during `Fit` process.\n",
        "\n",
        "### Hyper-parameter optimization\n",
        "Choosing the right trainer impacts your final training performance. Choosing the right hyper-parameters also has a huge impact over the final training performance, especially for tree-base trainers. Hyper-parameters are important because it controls how parameter being updated. For example, larger `numberOfLeaves` in `LightGbm` produces a larger model and usually enables it to fit on a more complex dataset, but it might have countereffect on small dataset and cause **overfitting**. Conversely, if the dataset is complex but you set a small `numberOfLeaves`, it might impair `LightGbm`'s ability on fitting that dataset and cause **underfit**.\n",
        "\n",
        "The process of finding the best configuration for your trainer is known as hyper-parameter optimization (HPO). Like the process of choosing your trainer it involves a lot of trial and error. The built-in Automated ML (AutoML) capabilities in ML.NET simplify the HPO process.\n",
        "\n",
        "In the next section, we will go through two examples. The first example trains a regression model on a linear dataset using both linear and more advanced non-linear trainers to highlight the importance of selecting the right trainer. The second example trains a regression model on a non-linear dataset using `LightGbm` with different hyper-parameters to show the importance of hyper-parameter optimization"
      ]
    },
    {
      "cell_type": "markdown",
      "metadata": {},
      "source": [
        "## Example 1: Linear regression\n",
        "In the below section, we are going to show the difference of trainers via a linear regression task. First, we fit the linear dataset with the linear trainer, `SDCA`. Then we git the linear dataset with `LightGbm`, a tree-base non-linear trainer. Their performance is evaluated against a test dataset. The code below:\n",
        "- Creates a linear dataset and splits it into train/test sets\n",
        "- Create training pipelines using `SDCA` and `LightGbm`\n",
        "- Trains both `SDCA` and `LightGbm` on the linear training set, and evaluates them on the test set."
      ]
    },
    {
      "cell_type": "code",
      "execution_count": 1,
      "metadata": {
        "dotnet_interactive": {
          "language": "csharp"
        },
        "vscode": {
          "languageId": "polyglot-notebook"
        }
      },
      "outputs": [
        {
          "data": {
            "text/html": [
              "<div><div><strong>Restore sources</strong><ul><li><span>https://pkgs.dev.azure.com/dnceng/public/_packaging/dotnet-libraries/nuget/v3/index.json</span></li></ul></div><div></div><div><strong>Installed Packages</strong><ul><li><span>Microsoft.Data.Analysis, 0.21.0-preview.23504.1</span></li><li><span>Microsoft.ML.AutoML, 0.21.0-preview.23504.1</span></li><li><span>Plotly.NET.CSharp, 0.0.1</span></li><li><span>Plotly.NET.Interactive, 3.0.2</span></li></ul></div></div>"
            ]
          },
          "metadata": {},
          "output_type": "display_data"
        },
        {
          "data": {
            "text/plain": [
              "Loading extensions from `C:\\Users\\xiaoyuz\\.nuget\\packages\\skiasharp\\2.88.6\\interactive-extensions\\dotnet\\SkiaSharp.DotNet.Interactive.dll`"
            ]
          },
          "metadata": {},
          "output_type": "display_data"
        },
        {
          "data": {
            "text/plain": [
              "Loading extensions from `C:\\Users\\xiaoyuz\\.nuget\\packages\\plotly.net.interactive\\3.0.2\\interactive-extensions\\dotnet\\Plotly.NET.Interactive.dll`"
            ]
          },
          "metadata": {},
          "output_type": "display_data"
        },
        {
          "data": {
            "text/plain": [
              "Loading extensions from `C:\\Users\\xiaoyuz\\.nuget\\packages\\microsoft.data.analysis\\0.21.0-preview.23504.1\\interactive-extensions\\dotnet\\Microsoft.Data.Analysis.Interactive.dll`"
            ]
          },
          "metadata": {},
          "output_type": "display_data"
        },
        {
          "data": {
            "text/plain": [
              "Loading extensions from `C:\\Users\\xiaoyuz\\.nuget\\packages\\microsoft.ml.automl\\0.21.0-preview.23504.1\\interactive-extensions\\dotnet\\Microsoft.ML.AutoML.Interactive.dll`"
            ]
          },
          "metadata": {},
          "output_type": "display_data"
        }
      ],
      "source": [
        "//  Use latest nightly build of ML.NET Nuget package\n",
        "#i \"nuget:https://pkgs.dev.azure.com/dnceng/public/_packaging/dotnet-libraries/nuget/v3/index.json\"\n",
        "#r \"nuget: Plotly.NET.Interactive, 3.0.2\"\n",
        "#r \"nuget: Plotly.NET.CSharp, 0.0.1\"\n",
        "#r \"nuget: Microsoft.ML.AutoML, 0.21.0-preview.23504.1\"\n",
        "#r \"nuget: Microsoft.Data.Analysis, 0.21.0-preview.23504.1\""
      ]
    },
    {
      "cell_type": "code",
      "execution_count": 2,
      "metadata": {
        "dotnet_interactive": {
          "language": "csharp"
        },
        "vscode": {
          "languageId": "polyglot-notebook"
        }
      },
      "outputs": [],
      "source": [
        "// Import usings.\n",
        "using Microsoft.Data.Analysis;\n",
        "using System;\n",
        "using System.IO;\n",
        "using Microsoft.ML;\n",
        "using Microsoft.ML.AutoML;\n",
        "using Microsoft.ML.Data;"
      ]
    },
    {
      "cell_type": "markdown",
      "metadata": {},
      "source": [
        "## Create linear dataset\n",
        "The code below creates a linear dataset with a random residual. The dataset is loaded into train and test set."
      ]
    },
    {
      "cell_type": "code",
      "execution_count": 3,
      "metadata": {
        "dotnet_interactive": {
          "language": "csharp"
        },
        "vscode": {
          "languageId": "polyglot-notebook"
        }
      },
      "outputs": [
        {
          "data": {
            "text/html": [
              "<table id=\"table_638321917598543664\"><thead><tr><th><i>index</i></th><th>X</th><th>y</th></tr></thead><tbody><tr><td><i><div class=\"dni-plaintext\"><pre>0</pre></div></i></td><td><div class=\"dni-plaintext\"><pre>-1000</pre></div></td><td><div class=\"dni-plaintext\"><pre>-99997.734</pre></div></td></tr><tr><td><i><div class=\"dni-plaintext\"><pre>1</pre></div></i></td><td><div class=\"dni-plaintext\"><pre>-999.9</pre></div></td><td><div class=\"dni-plaintext\"><pre>-99986.83</pre></div></td></tr><tr><td><i><div class=\"dni-plaintext\"><pre>2</pre></div></i></td><td><div class=\"dni-plaintext\"><pre>-999.8</pre></div></td><td><div class=\"dni-plaintext\"><pre>-99977.32</pre></div></td></tr><tr><td><i><div class=\"dni-plaintext\"><pre>3</pre></div></i></td><td><div class=\"dni-plaintext\"><pre>-999.7</pre></div></td><td><div class=\"dni-plaintext\"><pre>-99969.42</pre></div></td></tr><tr><td><i><div class=\"dni-plaintext\"><pre>4</pre></div></i></td><td><div class=\"dni-plaintext\"><pre>-999.60004</pre></div></td><td><div class=\"dni-plaintext\"><pre>-99962.94</pre></div></td></tr><tr><td><i><div class=\"dni-plaintext\"><pre>5</pre></div></i></td><td><div class=\"dni-plaintext\"><pre>-999.5</pre></div></td><td><div class=\"dni-plaintext\"><pre>-99949.414</pre></div></td></tr><tr><td><i><div class=\"dni-plaintext\"><pre>6</pre></div></i></td><td><div class=\"dni-plaintext\"><pre>-999.4</pre></div></td><td><div class=\"dni-plaintext\"><pre>-99935.94</pre></div></td></tr><tr><td><i><div class=\"dni-plaintext\"><pre>7</pre></div></i></td><td><div class=\"dni-plaintext\"><pre>-999.3</pre></div></td><td><div class=\"dni-plaintext\"><pre>-99930.58</pre></div></td></tr><tr><td><i><div class=\"dni-plaintext\"><pre>8</pre></div></i></td><td><div class=\"dni-plaintext\"><pre>-999.2</pre></div></td><td><div class=\"dni-plaintext\"><pre>-99915.23</pre></div></td></tr><tr><td><i><div class=\"dni-plaintext\"><pre>9</pre></div></i></td><td><div class=\"dni-plaintext\"><pre>-999.10004</pre></div></td><td><div class=\"dni-plaintext\"><pre>-99912.266</pre></div></td></tr></tbody></table><style>\r\n",
              ".dni-code-hint {\r\n",
              "    font-style: italic;\r\n",
              "    overflow: hidden;\r\n",
              "    white-space: nowrap;\r\n",
              "}\r\n",
              ".dni-treeview {\r\n",
              "    white-space: nowrap;\r\n",
              "}\r\n",
              ".dni-treeview td {\r\n",
              "    vertical-align: top;\r\n",
              "    text-align: start;\r\n",
              "}\r\n",
              "details.dni-treeview {\r\n",
              "    padding-left: 1em;\r\n",
              "}\r\n",
              "table td {\r\n",
              "    text-align: start;\r\n",
              "}\r\n",
              "table tr { \r\n",
              "    vertical-align: top; \r\n",
              "    margin: 0em 0px;\r\n",
              "}\r\n",
              "table tr td pre \r\n",
              "{ \r\n",
              "    vertical-align: top !important; \r\n",
              "    margin: 0em 0px !important;\r\n",
              "} \r\n",
              "table th {\r\n",
              "    text-align: start;\r\n",
              "}\r\n",
              "</style>"
            ]
          },
          "metadata": {},
          "output_type": "display_data"
        }
      ],
      "source": [
        "var rand = new Random(0);\n",
        "var context =new MLContext(seed: 1);\n",
        "var x = Enumerable.Range(-10000, 10000).Select(_x => _x * 0.1f).ToArray();\n",
        "var y = x.Select(_x => 100 * _x + (rand.NextSingle() - 0.5f) * 10).ToArray();\n",
        "var df = new DataFrame();\n",
        "df[\"X\"] = DataFrameColumn.Create(\"X\", x);\n",
        "df[\"y\"] = DataFrameColumn.Create(\"y\", y);\n",
        "var trainTestSplit = context.Data.TrainTestSplit(df);\n",
        "df.Head(10)"
      ]
    },
    {
      "cell_type": "markdown",
      "metadata": {},
      "source": [
        "## Construct pipeline\n",
        "The code below shows how to construct training pipelines for both `SDCA` and `LightGbm`. The `Concatenate` transformer is required to convert a `single` column into `Vector<single>` type, which is the expected feature type for both `SDCA` and `LightGbm` regressor."
      ]
    },
    {
      "cell_type": "code",
      "execution_count": 4,
      "metadata": {
        "dotnet_interactive": {
          "language": "csharp"
        },
        "vscode": {
          "languageId": "polyglot-notebook"
        }
      },
      "outputs": [],
      "source": [
        "var sdcaPipeline = context.Transforms.Concatenate(\"Features\", \"X\")\n",
        "                            .Append(context.Regression.Trainers.Sdca(\"y\"));"
      ]
    },
    {
      "cell_type": "code",
      "execution_count": 5,
      "metadata": {
        "dotnet_interactive": {
          "language": "csharp"
        },
        "vscode": {
          "languageId": "polyglot-notebook"
        }
      },
      "outputs": [],
      "source": [
        "var lgbmPipeline = context.Transforms.Concatenate(\"Features\", \"X\")\n",
        "                            .Append(context.Regression.Trainers.LightGbm(\"y\"));"
      ]
    },
    {
      "cell_type": "markdown",
      "metadata": {},
      "source": [
        "## Train and evaluate model\n",
        "The code below first trains `sdcaPipeline` and `lgbmPipeline` which are created above, then evaluate their performance on test dataset by calculating `Root Mean Square Error` between predicted and actual value. `SDCA` has better performance with a significantly lower `Root Mean Square Error` compared to `LightGbm` even though it's a simpler linear model. This is because the training dataset is also linear, so `SDCA` can fit the dataset better than `LightGbm`."
      ]
    },
    {
      "cell_type": "code",
      "execution_count": 6,
      "metadata": {
        "dotnet_interactive": {
          "language": "csharp"
        },
        "vscode": {
          "languageId": "polyglot-notebook"
        }
      },
      "outputs": [
        {
          "name": "stdout",
          "output_type": "stream",
          "text": [
            "sdca rmse on trainset: 2.893520686484849, lgbm rmse on trainset: 117.9591141671402\n",
            "sdca rmse on testset: 2.926388190647524, lgbm rmse on testset: 119.860254032606\n"
          ]
        }
      ],
      "source": [
        "var sdcaModel = sdcaPipeline.Fit(trainTestSplit.TrainSet);\n",
        "var lgbmModel = lgbmPipeline.Fit(trainTestSplit.TrainSet);\n",
        "\n",
        "// evaluate on train set\n",
        "var sdcaTrainEval = sdcaModel.Transform(trainTestSplit.TrainSet);\n",
        "var sdcaTrainMetric = context.Regression.Evaluate(sdcaTrainEval, \"y\");\n",
        "\n",
        "var lgbmTrainEval = lgbmModel.Transform(trainTestSplit.TrainSet);\n",
        "var lgbmTrainMetric = context.Regression.Evaluate(lgbmTrainEval, \"y\");\n",
        "\n",
        "Console.WriteLine($\"sdca rmse on trainset: {sdcaTrainMetric.RootMeanSquaredError}, lgbm rmse on trainset: {lgbmTrainMetric.RootMeanSquaredError}\");\n",
        "\n",
        "// evaluate on test set\n",
        "var sdcaTestEval = sdcaModel.Transform(trainTestSplit.TestSet);\n",
        "var sdcaTestMetric = context.Regression.Evaluate(sdcaTestEval, \"y\");\n",
        "\n",
        "var lgbmTestEval = lgbmModel.Transform(trainTestSplit.TestSet);\n",
        "var lgbmTestMetric = context.Regression.Evaluate(lgbmTestEval, \"y\");\n",
        "Console.WriteLine($\"sdca rmse on testset: {sdcaTestMetric.RootMeanSquaredError}, lgbm rmse on testset: {lgbmTestMetric.RootMeanSquaredError}\");"
      ]
    },
    {
      "cell_type": "markdown",
      "metadata": {},
      "source": [
        "## Example 2: Non-linear regression on LightGbm.\n",
        "This example shows the importance of hyper-parameter optimization. First we create a non-linear dataset and two pipelines. One pipeline has `LightGbm` with `numberOfLeaves` set to `10`, the other's set to `1000`. Both pipelines are trained with the same training dataset and their training performance is evaluated on the same test dataset."
      ]
    },
    {
      "cell_type": "markdown",
      "metadata": {},
      "source": [
        "## Create non-linear dataset\n",
        "The code below creates a non-linear dataset with a random residual. The dataset is loaded into train and test set"
      ]
    },
    {
      "cell_type": "code",
      "execution_count": 7,
      "metadata": {
        "dotnet_interactive": {
          "language": "csharp"
        },
        "vscode": {
          "languageId": "polyglot-notebook"
        }
      },
      "outputs": [
        {
          "data": {
            "text/html": [
              "<table id=\"table_638321917640855514\"><thead><tr><th><i>index</i></th><th>X</th><th>y</th></tr></thead><tbody><tr><td><i><div class=\"dni-plaintext\"><pre>0</pre></div></i></td><td><div class=\"dni-plaintext\"><pre>-1000</pre></div></td><td><div class=\"dni-plaintext\"><pre>100000000</pre></div></td></tr><tr><td><i><div class=\"dni-plaintext\"><pre>1</pre></div></i></td><td><div class=\"dni-plaintext\"><pre>-999.9</pre></div></td><td><div class=\"dni-plaintext\"><pre>99980000</pre></div></td></tr><tr><td><i><div class=\"dni-plaintext\"><pre>2</pre></div></i></td><td><div class=\"dni-plaintext\"><pre>-999.8</pre></div></td><td><div class=\"dni-plaintext\"><pre>99960000</pre></div></td></tr><tr><td><i><div class=\"dni-plaintext\"><pre>3</pre></div></i></td><td><div class=\"dni-plaintext\"><pre>-999.7</pre></div></td><td><div class=\"dni-plaintext\"><pre>99940010</pre></div></td></tr><tr><td><i><div class=\"dni-plaintext\"><pre>4</pre></div></i></td><td><div class=\"dni-plaintext\"><pre>-999.60004</pre></div></td><td><div class=\"dni-plaintext\"><pre>99920020</pre></div></td></tr><tr><td><i><div class=\"dni-plaintext\"><pre>5</pre></div></i></td><td><div class=\"dni-plaintext\"><pre>-999.5</pre></div></td><td><div class=\"dni-plaintext\"><pre>99900024</pre></div></td></tr><tr><td><i><div class=\"dni-plaintext\"><pre>6</pre></div></i></td><td><div class=\"dni-plaintext\"><pre>-999.4</pre></div></td><td><div class=\"dni-plaintext\"><pre>99880050</pre></div></td></tr><tr><td><i><div class=\"dni-plaintext\"><pre>7</pre></div></i></td><td><div class=\"dni-plaintext\"><pre>-999.3</pre></div></td><td><div class=\"dni-plaintext\"><pre>99860050</pre></div></td></tr><tr><td><i><div class=\"dni-plaintext\"><pre>8</pre></div></i></td><td><div class=\"dni-plaintext\"><pre>-999.2</pre></div></td><td><div class=\"dni-plaintext\"><pre>99840070</pre></div></td></tr><tr><td><i><div class=\"dni-plaintext\"><pre>9</pre></div></i></td><td><div class=\"dni-plaintext\"><pre>-999.10004</pre></div></td><td><div class=\"dni-plaintext\"><pre>99820090</pre></div></td></tr></tbody></table><style>\r\n",
              ".dni-code-hint {\r\n",
              "    font-style: italic;\r\n",
              "    overflow: hidden;\r\n",
              "    white-space: nowrap;\r\n",
              "}\r\n",
              ".dni-treeview {\r\n",
              "    white-space: nowrap;\r\n",
              "}\r\n",
              ".dni-treeview td {\r\n",
              "    vertical-align: top;\r\n",
              "    text-align: start;\r\n",
              "}\r\n",
              "details.dni-treeview {\r\n",
              "    padding-left: 1em;\r\n",
              "}\r\n",
              "table td {\r\n",
              "    text-align: start;\r\n",
              "}\r\n",
              "table tr { \r\n",
              "    vertical-align: top; \r\n",
              "    margin: 0em 0px;\r\n",
              "}\r\n",
              "table tr td pre \r\n",
              "{ \r\n",
              "    vertical-align: top !important; \r\n",
              "    margin: 0em 0px !important;\r\n",
              "} \r\n",
              "table th {\r\n",
              "    text-align: start;\r\n",
              "}\r\n",
              "</style>"
            ]
          },
          "metadata": {},
          "output_type": "display_data"
        }
      ],
      "source": [
        "var rand = new Random(0);\n",
        "var context =new MLContext(seed: 1);\n",
        "var x = Enumerable.Range(-10000, 10000).Select(_x => _x * 0.1f).ToArray();\n",
        "var y = x.Select(_x => 100 * _x * _x + (rand.NextSingle() - 0.5f) * 10).ToArray();\n",
        "var df = new DataFrame();\n",
        "df[\"X\"] = DataFrameColumn.Create(\"X\", x);\n",
        "df[\"y\"] = DataFrameColumn.Create(\"y\", y);\n",
        "var trainTestSplit = context.Data.TrainTestSplit(df);\n",
        "df.Head(10)"
      ]
    },
    {
      "cell_type": "markdown",
      "metadata": {},
      "source": [
        "## Construct pipeline\n",
        "The code below shows how to construct training pipelines for `LightGbm` with different hyper-parameters. The `Concatenate` transformer is required because it converts a `single` column into `Vector<single>` type, which is the expected feature type for the `LightGbm` trainer."
      ]
    },
    {
      "cell_type": "code",
      "execution_count": 8,
      "metadata": {
        "dotnet_interactive": {
          "language": "csharp"
        },
        "vscode": {
          "languageId": "polyglot-notebook"
        }
      },
      "outputs": [],
      "source": [
        "var smallLgbmPipeline = context.Transforms.Concatenate(\"Features\", \"X\")\n",
        "                            .Append(context.Regression.Trainers.LightGbm(\"y\", numberOfLeaves: 10));"
      ]
    },
    {
      "cell_type": "code",
      "execution_count": 9,
      "metadata": {
        "dotnet_interactive": {
          "language": "csharp"
        },
        "vscode": {
          "languageId": "polyglot-notebook"
        }
      },
      "outputs": [],
      "source": [
        "var largeLgbmPipeline = context.Transforms.Concatenate(\"Features\", \"X\")\n",
        "                            .Append(context.Regression.Trainers.LightGbm(\"y\", numberOfLeaves: 1000));"
      ]
    },
    {
      "cell_type": "markdown",
      "metadata": {},
      "source": [
        "## Train and evaluate model\n",
        "The code below first trains `smallLgbmPipeline` and `largeLgbmPipeline` which are created above, then evaluates their performance on the test dataset by calculating the `Root Mean Square Error` between predicted and actual value. The model created by `largeLgbmPipeline` has better performance with a lower RMSE."
      ]
    },
    {
      "cell_type": "code",
      "execution_count": 10,
      "metadata": {
        "dotnet_interactive": {
          "language": "csharp"
        },
        "vscode": {
          "languageId": "polyglot-notebook"
        }
      },
      "outputs": [
        {
          "name": "stdout",
          "output_type": "stream",
          "text": [
            "small lgbm rmse on testset: 173938.52924678137, large lgbm rmse on testset: 132927.2510939994\r\n"
          ]
        }
      ],
      "source": [
        "var smallLgbmModel = smallLgbmPipeline.Fit(trainTestSplit.TrainSet);\n",
        "var largeLgbmModel = largeLgbmPipeline.Fit(trainTestSplit.TrainSet);\n",
        "\n",
        "// evaluate on test set\n",
        "var smallTestEval = smallLgbmModel.Transform(trainTestSplit.TrainSet);\n",
        "var smallLgbmMetric = context.Regression.Evaluate(smallTestEval, \"y\");\n",
        "\n",
        "var largeLgbmEval = largeLgbmModel.Transform(trainTestSplit.TrainSet);\n",
        "var largeLgbmMetric = context.Regression.Evaluate(largeLgbmEval, \"y\");\n",
        "\n",
        "Console.WriteLine($\"small lgbm rmse on testset: {smallLgbmMetric.RootMeanSquaredError}, large lgbm rmse on testset: {largeLgbmMetric.RootMeanSquaredError}\");"
      ]
    },
    {
      "cell_type": "markdown",
      "metadata": {},
      "source": [
        "## Use AutoML to simplify trainer selection and hyper-parameter optimization.\n",
        "Trainer selection and Hyper-parameter optimization is an important process with lots of trial and error. This process can be automated and simplified using the built-in `AutoMLExperiment`. `AutoMLExperiment` applies the latest research from Microsoft Research to conduct a swift, accurate and thorough hyper-parameter optimization given a limited time budget.\n",
        "\n",
        "The code below shows how to use `AutoMLExperiment` for finding the best trainer along with its best hyper parrameter on the non-linear dataset used in Example 2. Firstly, a `SweepableEstimatorPipeline` is created via `context.Auto().Regression(\"y\")`, which returns the most popular regressors along with their default search space in ML.Net. Then an `AutoMLExperiment` is created. It uses `RootMeanSquaredError` as optimization metric and train-test validation to evaluate trial score, and uses `NotebookMonitor` to present training process. Once the training is completed, it returns the best trial as result."
      ]
    },
    {
      "cell_type": "code",
      "execution_count": 11,
      "metadata": {
        "dotnet_interactive": {
          "language": "csharp"
        },
        "vscode": {
          "languageId": "polyglot-notebook"
        }
      },
      "outputs": [
        {
          "data": {
            "text/html": [
              "<div><h3>Best Trial</h3><p>Id: 10</p><p>Trainer: LightGbmRegression</p><p>Parameters: {\r\n",
              "  &quot;_pipeline_&quot;: {\r\n",
              "    &quot;_SCHEMA_&quot;: &quot;e0 * e2&quot;,\r\n",
              "    &quot;e0&quot;: {},\r\n",
              "    &quot;e2&quot;: {\r\n",
              "      &quot;NumberOfLeaves&quot;: 4,\r\n",
              "      &quot;MinimumExampleCountPerLeaf&quot;: 21,\r\n",
              "      &quot;LearningRate&quot;: 0.4230894791419352,\r\n",
              "      &quot;NumberOfTrees&quot;: 4511,\r\n",
              "      &quot;SubsampleFraction&quot;: 0.7160876722017678,\r\n",
              "      &quot;MaximumBinCountPerFeature&quot;: 390,\r\n",
              "      &quot;FeatureFraction&quot;: 0.99999999,\r\n",
              "      &quot;L1Regularization&quot;: 3.676139172975011E-10,\r\n",
              "      &quot;L2Regularization&quot;: 0.9999997766729865,\r\n",
              "      &quot;LabelColumnName&quot;: &quot;y&quot;,\r\n",
              "      &quot;FeatureColumnName&quot;: &quot;Features&quot;\r\n",
              "    }\r\n",
              "  },\r\n",
              "  &quot;_SCHEMA_&quot;: &quot;e0 * e1&quot;,\r\n",
              "  &quot;e0&quot;: {},\r\n",
              "  &quot;e1&quot;: {\r\n",
              "    &quot;NumberOfLeaves&quot;: 4,\r\n",
              "    &quot;MinimumExampleCountPerLeaf&quot;: 20,\r\n",
              "    &quot;NumberOfTrees&quot;: 4,\r\n",
              "    &quot;MaximumBinCountPerFeature&quot;: 255,\r\n",
              "    &quot;FeatureFraction&quot;: 1,\r\n",
              "    &quot;LearningRate&quot;: 0.09999999999999998,\r\n",
              "    &quot;LabelColumnName&quot;: &quot;y&quot;,\r\n",
              "    &quot;FeatureColumnName&quot;: &quot;Features&quot;,\r\n",
              "    &quot;DiskTranspose&quot;: false\r\n",
              "  },\r\n",
              "  &quot;e2&quot;: {\r\n",
              "    &quot;NumberOfLeaves&quot;: 4,\r\n",
              "    &quot;MinimumExampleCountPerLeaf&quot;: 20,\r\n",
              "    &quot;LearningRate&quot;: 1,\r\n",
              "    &quot;NumberOfTrees&quot;: 4,\r\n",
              "    &quot;SubsampleFraction&quot;: 1,\r\n",
              "    &quot;MaximumBinCountPerFeature&quot;: 255,\r\n",
              "    &quot;FeatureFraction&quot;: 1,\r\n",
              "    &quot;L1Regularization&quot;: 2E-10,\r\n",
              "    &quot;L2Regularization&quot;: 1,\r\n",
              "    &quot;LabelColumnName&quot;: &quot;y&quot;,\r\n",
              "    &quot;FeatureColumnName&quot;: &quot;Features&quot;\r\n",
              "  }\r\n",
              "}</p><h3>Active Trial</h3><p>Id: 11</p><p>Trainer: LightGbmRegression</p><p>Parameters: {\r\n",
              "  &quot;_pipeline_&quot;: {\r\n",
              "    &quot;_SCHEMA_&quot;: &quot;e0 * e2&quot;,\r\n",
              "    &quot;e0&quot;: {},\r\n",
              "    &quot;e2&quot;: {\r\n",
              "      &quot;NumberOfLeaves&quot;: 230,\r\n",
              "      &quot;MinimumExampleCountPerLeaf&quot;: 22,\r\n",
              "      &quot;LearningRate&quot;: 0.13919433530402864,\r\n",
              "      &quot;NumberOfTrees&quot;: 7401,\r\n",
              "      &quot;SubsampleFraction&quot;: 0.4459202475423565,\r\n",
              "      &quot;MaximumBinCountPerFeature&quot;: 247,\r\n",
              "      &quot;FeatureFraction&quot;: 0.99999999,\r\n",
              "      &quot;L1Regularization&quot;: 2E-10,\r\n",
              "      &quot;L2Regularization&quot;: 0.9999997766729865,\r\n",
              "      &quot;LabelColumnName&quot;: &quot;y&quot;,\r\n",
              "      &quot;FeatureColumnName&quot;: &quot;Features&quot;\r\n",
              "    }\r\n",
              "  },\r\n",
              "  &quot;_SCHEMA_&quot;: &quot;e0 * e1&quot;,\r\n",
              "  &quot;e0&quot;: {},\r\n",
              "  &quot;e1&quot;: {\r\n",
              "    &quot;NumberOfLeaves&quot;: 4,\r\n",
              "    &quot;MinimumExampleCountPerLeaf&quot;: 20,\r\n",
              "    &quot;NumberOfTrees&quot;: 4,\r\n",
              "    &quot;MaximumBinCountPerFeature&quot;: 255,\r\n",
              "    &quot;FeatureFraction&quot;: 1,\r\n",
              "    &quot;LearningRate&quot;: 0.09999999999999998,\r\n",
              "    &quot;LabelColumnName&quot;: &quot;y&quot;,\r\n",
              "    &quot;FeatureColumnName&quot;: &quot;Features&quot;,\r\n",
              "    &quot;DiskTranspose&quot;: false\r\n",
              "  },\r\n",
              "  &quot;e2&quot;: {\r\n",
              "    &quot;NumberOfLeaves&quot;: 4,\r\n",
              "    &quot;MinimumExampleCountPerLeaf&quot;: 20,\r\n",
              "    &quot;LearningRate&quot;: 1,\r\n",
              "    &quot;NumberOfTrees&quot;: 4,\r\n",
              "    &quot;SubsampleFraction&quot;: 1,\r\n",
              "    &quot;MaximumBinCountPerFeature&quot;: 255,\r\n",
              "    &quot;FeatureFraction&quot;: 1,\r\n",
              "    &quot;L1Regularization&quot;: 2E-10,\r\n",
              "    &quot;L2Regularization&quot;: 1,\r\n",
              "    &quot;LabelColumnName&quot;: &quot;y&quot;,\r\n",
              "    &quot;FeatureColumnName&quot;: &quot;Features&quot;\r\n",
              "  }\r\n",
              "}</p></div><div><h3>Plot Metrics over Trials</h3></div>\n",
              "<div>\n",
              "    <div id=\"3d897c01-5a33-485b-b2f6-c2adb7dec412\"><!-- Plotly chart will be drawn inside this DIV --></div>\r\n",
              "<script type=\"text/javascript\">\r\n",
              "\r\n",
              "            var renderPlotly_3d897c015a33485bb2f6c2adb7dec412 = function() {\r\n",
              "            var fsharpPlotlyRequire = requirejs.config({context:'fsharp-plotly',paths:{plotly:'https://cdn.plot.ly/plotly-2.6.3.min'}}) || require;\r\n",
              "            fsharpPlotlyRequire(['plotly'], function(Plotly) {\r\n",
              "\r\n",
              "            var data = [{\"type\":\"scatter\",\"name\":\"Plot Metrics over Trials.\",\"mode\":\"markers\",\"x\":[0,1,2,3,4,5,6,7,8,9,10],\"y\":[30523761.955079462,17916308.67742892,32401265.985905036,1734685.51761922,1909029.579156731,1878642.0495606132,1616443.0658650566,44727331.58201967,3562470.5975958956,119225.41201456731,90262.85409286535],\"marker\":{},\"line\":{},\"showlegend\":false}];\r\n",
              "            var layout = {\"width\":600,\"height\":600,\"template\":{\"layout\":{\"title\":{\"x\":0.05},\"font\":{\"color\":\"rgba(42, 63, 95, 1.0)\"},\"paper_bgcolor\":\"rgba(255, 255, 255, 1.0)\",\"plot_bgcolor\":\"rgba(229, 236, 246, 1.0)\",\"autotypenumbers\":\"strict\",\"colorscale\":{\"diverging\":[[0.0,\"#8e0152\"],[0.1,\"#c51b7d\"],[0.2,\"#de77ae\"],[0.3,\"#f1b6da\"],[0.4,\"#fde0ef\"],[0.5,\"#f7f7f7\"],[0.6,\"#e6f5d0\"],[0.7,\"#b8e186\"],[0.8,\"#7fbc41\"],[0.9,\"#4d9221\"],[1.0,\"#276419\"]],\"sequential\":[[0.0,\"#0d0887\"],[0.1111111111111111,\"#46039f\"],[0.2222222222222222,\"#7201a8\"],[0.3333333333333333,\"#9c179e\"],[0.4444444444444444,\"#bd3786\"],[0.5555555555555556,\"#d8576b\"],[0.6666666666666666,\"#ed7953\"],[0.7777777777777778,\"#fb9f3a\"],[0.8888888888888888,\"#fdca26\"],[1.0,\"#f0f921\"]],\"sequentialminus\":[[0.0,\"#0d0887\"],[0.1111111111111111,\"#46039f\"],[0.2222222222222222,\"#7201a8\"],[0.3333333333333333,\"#9c179e\"],[0.4444444444444444,\"#bd3786\"],[0.5555555555555556,\"#d8576b\"],[0.6666666666666666,\"#ed7953\"],[0.7777777777777778,\"#fb9f3a\"],[0.8888888888888888,\"#fdca26\"],[1.0,\"#f0f921\"]]},\"hovermode\":\"closest\",\"hoverlabel\":{\"align\":\"left\"},\"coloraxis\":{\"colorbar\":{\"outlinewidth\":0.0,\"ticks\":\"\"}},\"geo\":{\"showland\":true,\"landcolor\":\"rgba(229, 236, 246, 1.0)\",\"showlakes\":true,\"lakecolor\":\"rgba(255, 255, 255, 1.0)\",\"subunitcolor\":\"rgba(255, 255, 255, 1.0)\",\"bgcolor\":\"rgba(255, 255, 255, 1.0)\"},\"mapbox\":{\"style\":\"light\"},\"polar\":{\"bgcolor\":\"rgba(229, 236, 246, 1.0)\",\"radialaxis\":{\"linecolor\":\"rgba(255, 255, 255, 1.0)\",\"gridcolor\":\"rgba(255, 255, 255, 1.0)\",\"ticks\":\"\"},\"angularaxis\":{\"linecolor\":\"rgba(255, 255, 255, 1.0)\",\"gridcolor\":\"rgba(255, 255, 255, 1.0)\",\"ticks\":\"\"}},\"scene\":{\"xaxis\":{\"ticks\":\"\",\"linecolor\":\"rgba(255, 255, 255, 1.0)\",\"gridcolor\":\"rgba(255, 255, 255, 1.0)\",\"gridwidth\":2.0,\"zerolinecolor\":\"rgba(255, 255, 255, 1.0)\",\"backgroundcolor\":\"rgba(229, 236, 246, 1.0)\",\"showbackground\":true},\"yaxis\":{\"ticks\":\"\",\"linecolor\":\"rgba(255, 255, 255, 1.0)\",\"gridcolor\":\"rgba(255, 255, 255, 1.0)\",\"gridwidth\":2.0,\"zerolinecolor\":\"rgba(255, 255, 255, 1.0)\",\"backgroundcolor\":\"rgba(229, 236, 246, 1.0)\",\"showbackground\":true},\"zaxis\":{\"ticks\":\"\",\"linecolor\":\"rgba(255, 255, 255, 1.0)\",\"gridcolor\":\"rgba(255, 255, 255, 1.0)\",\"gridwidth\":2.0,\"zerolinecolor\":\"rgba(255, 255, 255, 1.0)\",\"backgroundcolor\":\"rgba(229, 236, 246, 1.0)\",\"showbackground\":true}},\"ternary\":{\"aaxis\":{\"ticks\":\"\",\"linecolor\":\"rgba(255, 255, 255, 1.0)\",\"gridcolor\":\"rgba(255, 255, 255, 1.0)\"},\"baxis\":{\"ticks\":\"\",\"linecolor\":\"rgba(255, 255, 255, 1.0)\",\"gridcolor\":\"rgba(255, 255, 255, 1.0)\"},\"caxis\":{\"ticks\":\"\",\"linecolor\":\"rgba(255, 255, 255, 1.0)\",\"gridcolor\":\"rgba(255, 255, 255, 1.0)\"},\"bgcolor\":\"rgba(229, 236, 246, 1.0)\"},\"xaxis\":{\"title\":{\"standoff\":15},\"ticks\":\"\",\"automargin\":true,\"linecolor\":\"rgba(255, 255, 255, 1.0)\",\"gridcolor\":\"rgba(255, 255, 255, 1.0)\",\"zerolinecolor\":\"rgba(255, 255, 255, 1.0)\",\"zerolinewidth\":2.0},\"yaxis\":{\"title\":{\"standoff\":15},\"ticks\":\"\",\"automargin\":true,\"linecolor\":\"rgba(255, 255, 255, 1.0)\",\"gridcolor\":\"rgba(255, 255, 255, 1.0)\",\"zerolinecolor\":\"rgba(255, 255, 255, 1.0)\",\"zerolinewidth\":2.0},\"annotationdefaults\":{\"arrowcolor\":\"#2a3f5f\",\"arrowhead\":0,\"arrowwidth\":1},\"shapedefaults\":{\"line\":{\"color\":\"rgba(42, 63, 95, 1.0)\"}},\"colorway\":[\"rgba(99, 110, 250, 1.0)\",\"rgba(239, 85, 59, 1.0)\",\"rgba(0, 204, 150, 1.0)\",\"rgba(171, 99, 250, 1.0)\",\"rgba(255, 161, 90, 1.0)\",\"rgba(25, 211, 243, 1.0)\",\"rgba(255, 102, 146, 1.0)\",\"rgba(182, 232, 128, 1.0)\",\"rgba(255, 151, 255, 1.0)\",\"rgba(254, 203, 82, 1.0)\"]},\"data\":{\"bar\":[{\"marker\":{\"line\":{\"color\":\"rgba(229, 236, 246, 1.0)\",\"width\":0.5},\"pattern\":{\"fillmode\":\"overlay\",\"size\":10,\"solidity\":0.2}},\"error_x\":{\"color\":\"rgba(42, 63, 95, 1.0)\"},\"error_y\":{\"color\":\"rgba(42, 63, 95, 1.0)\"}}],\"barpolar\":[{\"marker\":{\"line\":{\"color\":\"rgba(229, 236, 246, 1.0)\",\"width\":0.5},\"pattern\":{\"fillmode\":\"overlay\",\"size\":10,\"solidity\":0.2}}}],\"carpet\":[{\"aaxis\":{\"linecolor\":\"rgba(255, 255, 255, 1.0)\",\"gridcolor\":\"rgba(255, 255, 255, 1.0)\",\"endlinecolor\":\"rgba(42, 63, 95, 1.0)\",\"minorgridcolor\":\"rgba(255, 255, 255, 1.0)\",\"startlinecolor\":\"rgba(42, 63, 95, 1.0)\"},\"baxis\":{\"linecolor\":\"rgba(255, 255, 255, 1.0)\",\"gridcolor\":\"rgba(255, 255, 255, 1.0)\",\"endlinecolor\":\"rgba(42, 63, 95, 1.0)\",\"minorgridcolor\":\"rgba(255, 255, 255, 1.0)\",\"startlinecolor\":\"rgba(42, 63, 95, 1.0)\"}}],\"choropleth\":[{\"colorbar\":{\"outlinewidth\":0.0,\"ticks\":\"\"},\"colorscale\":[[0.0,\"#0d0887\"],[0.1111111111111111,\"#46039f\"],[0.2222222222222222,\"#7201a8\"],[0.3333333333333333,\"#9c179e\"],[0.4444444444444444,\"#bd3786\"],[0.5555555555555556,\"#d8576b\"],[0.6666666666666666,\"#ed7953\"],[0.7777777777777778,\"#fb9f3a\"],[0.8888888888888888,\"#fdca26\"],[1.0,\"#f0f921\"]]}],\"contour\":[{\"colorbar\":{\"outlinewidth\":0.0,\"ticks\":\"\"},\"colorscale\":[[0.0,\"#0d0887\"],[0.1111111111111111,\"#46039f\"],[0.2222222222222222,\"#7201a8\"],[0.3333333333333333,\"#9c179e\"],[0.4444444444444444,\"#bd3786\"],[0.5555555555555556,\"#d8576b\"],[0.6666666666666666,\"#ed7953\"],[0.7777777777777778,\"#fb9f3a\"],[0.8888888888888888,\"#fdca26\"],[1.0,\"#f0f921\"]]}],\"contourcarpet\":[{\"colorbar\":{\"outlinewidth\":0.0,\"ticks\":\"\"}}],\"heatmap\":[{\"colorbar\":{\"outlinewidth\":0.0,\"ticks\":\"\"},\"colorscale\":[[0.0,\"#0d0887\"],[0.1111111111111111,\"#46039f\"],[0.2222222222222222,\"#7201a8\"],[0.3333333333333333,\"#9c179e\"],[0.4444444444444444,\"#bd3786\"],[0.5555555555555556,\"#d8576b\"],[0.6666666666666666,\"#ed7953\"],[0.7777777777777778,\"#fb9f3a\"],[0.8888888888888888,\"#fdca26\"],[1.0,\"#f0f921\"]]}],\"heatmapgl\":[{\"colorbar\":{\"outlinewidth\":0.0,\"ticks\":\"\"},\"colorscale\":[[0.0,\"#0d0887\"],[0.1111111111111111,\"#46039f\"],[0.2222222222222222,\"#7201a8\"],[0.3333333333333333,\"#9c179e\"],[0.4444444444444444,\"#bd3786\"],[0.5555555555555556,\"#d8576b\"],[0.6666666666666666,\"#ed7953\"],[0.7777777777777778,\"#fb9f3a\"],[0.8888888888888888,\"#fdca26\"],[1.0,\"#f0f921\"]]}],\"histogram\":[{\"marker\":{\"pattern\":{\"fillmode\":\"overlay\",\"size\":10,\"solidity\":0.2}}}],\"histogram2d\":[{\"colorbar\":{\"outlinewidth\":0.0,\"ticks\":\"\"},\"colorscale\":[[0.0,\"#0d0887\"],[0.1111111111111111,\"#46039f\"],[0.2222222222222222,\"#7201a8\"],[0.3333333333333333,\"#9c179e\"],[0.4444444444444444,\"#bd3786\"],[0.5555555555555556,\"#d8576b\"],[0.6666666666666666,\"#ed7953\"],[0.7777777777777778,\"#fb9f3a\"],[0.8888888888888888,\"#fdca26\"],[1.0,\"#f0f921\"]]}],\"histogram2dcontour\":[{\"colorbar\":{\"outlinewidth\":0.0,\"ticks\":\"\"},\"colorscale\":[[0.0,\"#0d0887\"],[0.1111111111111111,\"#46039f\"],[0.2222222222222222,\"#7201a8\"],[0.3333333333333333,\"#9c179e\"],[0.4444444444444444,\"#bd3786\"],[0.5555555555555556,\"#d8576b\"],[0.6666666666666666,\"#ed7953\"],[0.7777777777777778,\"#fb9f3a\"],[0.8888888888888888,\"#fdca26\"],[1.0,\"#f0f921\"]]}],\"mesh3d\":[{\"colorbar\":{\"outlinewidth\":0.0,\"ticks\":\"\"}}],\"parcoords\":[{\"line\":{\"colorbar\":{\"outlinewidth\":0.0,\"ticks\":\"\"}}}],\"pie\":[{\"automargin\":true}],\"scatter\":[{\"marker\":{\"colorbar\":{\"outlinewidth\":0.0,\"ticks\":\"\"}}}],\"scatter3d\":[{\"marker\":{\"colorbar\":{\"outlinewidth\":0.0,\"ticks\":\"\"}},\"line\":{\"colorbar\":{\"outlinewidth\":0.0,\"ticks\":\"\"}}}],\"scattercarpet\":[{\"marker\":{\"colorbar\":{\"outlinewidth\":0.0,\"ticks\":\"\"}}}],\"scattergeo\":[{\"marker\":{\"colorbar\":{\"outlinewidth\":0.0,\"ticks\":\"\"}}}],\"scattergl\":[{\"marker\":{\"colorbar\":{\"outlinewidth\":0.0,\"ticks\":\"\"}}}],\"scattermapbox\":[{\"marker\":{\"colorbar\":{\"outlinewidth\":0.0,\"ticks\":\"\"}}}],\"scatterpolar\":[{\"marker\":{\"colorbar\":{\"outlinewidth\":0.0,\"ticks\":\"\"}}}],\"scatterpolargl\":[{\"marker\":{\"colorbar\":{\"outlinewidth\":0.0,\"ticks\":\"\"}}}],\"scatterternary\":[{\"marker\":{\"colorbar\":{\"outlinewidth\":0.0,\"ticks\":\"\"}}}],\"surface\":[{\"colorbar\":{\"outlinewidth\":0.0,\"ticks\":\"\"},\"colorscale\":[[0.0,\"#0d0887\"],[0.1111111111111111,\"#46039f\"],[0.2222222222222222,\"#7201a8\"],[0.3333333333333333,\"#9c179e\"],[0.4444444444444444,\"#bd3786\"],[0.5555555555555556,\"#d8576b\"],[0.6666666666666666,\"#ed7953\"],[0.7777777777777778,\"#fb9f3a\"],[0.8888888888888888,\"#fdca26\"],[1.0,\"#f0f921\"]]}],\"table\":[{\"cells\":{\"fill\":{\"color\":\"rgba(235, 240, 248, 1.0)\"},\"line\":{\"color\":\"rgba(255, 255, 255, 1.0)\"}},\"header\":{\"fill\":{\"color\":\"rgba(200, 212, 227, 1.0)\"},\"line\":{\"color\":\"rgba(255, 255, 255, 1.0)\"}}}]}},\"xaxis\":{\"title\":{\"text\":\"Trial\"},\"showgrid\":false},\"yaxis\":{\"title\":{\"text\":\"Metric\"},\"showgrid\":false}};\r\n",
              "            var config = {\"responsive\":true};\r\n",
              "            Plotly.newPlot('3d897c01-5a33-485b-b2f6-c2adb7dec412', data, layout, config);\r\n",
              "});\r\n",
              "            };\r\n",
              "            if ((typeof(requirejs) !==  typeof(Function)) || (typeof(requirejs.config) !== typeof(Function))) {\r\n",
              "                var script = document.createElement(\"script\");\r\n",
              "                script.setAttribute(\"src\", \"https://cdnjs.cloudflare.com/ajax/libs/require.js/2.3.6/require.min.js\");\r\n",
              "                script.onload = function(){\r\n",
              "                    renderPlotly_3d897c015a33485bb2f6c2adb7dec412();\r\n",
              "                };\r\n",
              "                document.getElementsByTagName(\"head\")[0].appendChild(script);\r\n",
              "            }\r\n",
              "            else {\r\n",
              "                renderPlotly_3d897c015a33485bb2f6c2adb7dec412();\r\n",
              "            }\r\n",
              "</script>\r\n",
              "\n",
              "    \n",
              "</div>    \n",
              "<div><h3>All Trials Table</h3></div><table id=\"table_638321917713484786\"><thead><tr><th><i>index</i></th><th>Trial</th><th>Metric</th><th>Trainer</th><th>Parameters</th></tr></thead><tbody><tr><td><i><div class=\"dni-plaintext\"><pre>0</pre></div></i></td><td><div class=\"dni-plaintext\"><pre>0</pre></div></td><td><div class=\"dni-plaintext\"><pre>30523762</pre></div></td><td>FastTreeRegression</td><td>{&quot;_pipeline_&quot;:{&quot;_SCHEMA_&quot;:&quot;e0 * e1&quot;,&quot;e0&quot;:{},&quot;e1&quot;:{&quot;NumberOfLeaves&quot;:4,&quot;MinimumExampleCountPerLeaf&quot;:20,&quot;NumberOfTrees&quot;:4,&quot;MaximumBinCountPerFeature&quot;:254,&quot;FeatureFraction&quot;:1,&quot;LearningRate&quot;:0.09999999999999998,&quot;LabelColumnName&quot;:&quot;y&quot;,&quot;FeatureColumnName&quot;:&quot;Features&quot;,&quot;DiskTranspose&quot;:false}},&quot;_SCHEMA_&quot;:&quot;e0 * e1&quot;,&quot;e0&quot;:{},&quot;e1&quot;:{&quot;NumberOfLeaves&quot;:4,&quot;MinimumExampleCountPerLeaf&quot;:20,&quot;NumberOfTrees&quot;:4,&quot;MaximumBinCountPerFeature&quot;:255,&quot;FeatureFraction&quot;:1,&quot;LearningRate&quot;:0.09999999999999998,&quot;LabelColumnName&quot;:&quot;y&quot;,&quot;FeatureColumnName&quot;:&quot;Features&quot;,&quot;DiskTranspose&quot;:false},&quot;e2&quot;:{&quot;NumberOfLeaves&quot;:4,&quot;MinimumExampleCountPerLeaf&quot;:20,&quot;LearningRate&quot;:1,&quot;NumberOfTrees&quot;:4,&quot;SubsampleFraction&quot;:1,&quot;MaximumBinCountPerFeature&quot;:255,&quot;FeatureFraction&quot;:1,&quot;L1Regularization&quot;:2E-10,&quot;L2Regularization&quot;:1,&quot;LabelColumnName&quot;:&quot;y&quot;,&quot;FeatureColumnName&quot;:&quot;Features&quot;}}</td></tr><tr><td><i><div class=\"dni-plaintext\"><pre>1</pre></div></i></td><td><div class=\"dni-plaintext\"><pre>1</pre></div></td><td><div class=\"dni-plaintext\"><pre>17916308</pre></div></td><td>FastTreeRegression</td><td>{&quot;_pipeline_&quot;:{&quot;_SCHEMA_&quot;:&quot;e0 * e1&quot;,&quot;e0&quot;:{},&quot;e1&quot;:{&quot;NumberOfLeaves&quot;:8,&quot;MinimumExampleCountPerLeaf&quot;:20,&quot;NumberOfTrees&quot;:5,&quot;MaximumBinCountPerFeature&quot;:234,&quot;FeatureFraction&quot;:0.99999999,&quot;LearningRate&quot;:0.17308655587408103,&quot;LabelColumnName&quot;:&quot;y&quot;,&quot;FeatureColumnName&quot;:&quot;Features&quot;,&quot;DiskTranspose&quot;:false}},&quot;_SCHEMA_&quot;:&quot;e0 * e1&quot;,&quot;e0&quot;:{},&quot;e1&quot;:{&quot;NumberOfLeaves&quot;:4,&quot;MinimumExampleCountPerLeaf&quot;:20,&quot;NumberOfTrees&quot;:4,&quot;MaximumBinCountPerFeature&quot;:255,&quot;FeatureFraction&quot;:1,&quot;LearningRate&quot;:0.09999999999999998,&quot;LabelColumnName&quot;:&quot;y&quot;,&quot;FeatureColumnName&quot;:&quot;Features&quot;,&quot;DiskTranspose&quot;:false},&quot;e2&quot;:{&quot;NumberOfLeaves&quot;:4,&quot;MinimumExampleCountPerLeaf&quot;:20,&quot;LearningRate&quot;:1,&quot;NumberOfTrees&quot;:4,&quot;SubsampleFraction&quot;:1,&quot;MaximumBinCountPerFeature&quot;:255,&quot;FeatureFraction&quot;:1,&quot;L1Regularization&quot;:2E-10,&quot;L2Regularization&quot;:1,&quot;LabelColumnName&quot;:&quot;y&quot;,&quot;FeatureColumnName&quot;:&quot;Features&quot;}}</td></tr><tr><td><i><div class=\"dni-plaintext\"><pre>2</pre></div></i></td><td><div class=\"dni-plaintext\"><pre>2</pre></div></td><td><div class=\"dni-plaintext\"><pre>32401266</pre></div></td><td>FastTreeRegression</td><td>{&quot;_pipeline_&quot;:{&quot;_SCHEMA_&quot;:&quot;e0 * e1&quot;,&quot;e0&quot;:{},&quot;e1&quot;:{&quot;NumberOfLeaves&quot;:4,&quot;MinimumExampleCountPerLeaf&quot;:14,&quot;NumberOfTrees&quot;:8,&quot;MaximumBinCountPerFeature&quot;:214,&quot;FeatureFraction&quot;:0.99999999,&quot;LearningRate&quot;:0.04383117763857735,&quot;LabelColumnName&quot;:&quot;y&quot;,&quot;FeatureColumnName&quot;:&quot;Features&quot;,&quot;DiskTranspose&quot;:false}},&quot;_SCHEMA_&quot;:&quot;e0 * e1&quot;,&quot;e0&quot;:{},&quot;e1&quot;:{&quot;NumberOfLeaves&quot;:4,&quot;MinimumExampleCountPerLeaf&quot;:20,&quot;NumberOfTrees&quot;:4,&quot;MaximumBinCountPerFeature&quot;:255,&quot;FeatureFraction&quot;:1,&quot;LearningRate&quot;:0.09999999999999998,&quot;LabelColumnName&quot;:&quot;y&quot;,&quot;FeatureColumnName&quot;:&quot;Features&quot;,&quot;DiskTranspose&quot;:false},&quot;e2&quot;:{&quot;NumberOfLeaves&quot;:4,&quot;MinimumExampleCountPerLeaf&quot;:20,&quot;LearningRate&quot;:1,&quot;NumberOfTrees&quot;:4,&quot;SubsampleFraction&quot;:1,&quot;MaximumBinCountPerFeature&quot;:255,&quot;FeatureFraction&quot;:1,&quot;L1Regularization&quot;:2E-10,&quot;L2Regularization&quot;:1,&quot;LabelColumnName&quot;:&quot;y&quot;,&quot;FeatureColumnName&quot;:&quot;Features&quot;}}</td></tr><tr><td><i><div class=\"dni-plaintext\"><pre>3</pre></div></i></td><td><div class=\"dni-plaintext\"><pre>3</pre></div></td><td><div class=\"dni-plaintext\"><pre>1734685.5</pre></div></td><td>FastTreeRegression</td><td>{&quot;_pipeline_&quot;:{&quot;_SCHEMA_&quot;:&quot;e0 * e1&quot;,&quot;e0&quot;:{},&quot;e1&quot;:{&quot;NumberOfLeaves&quot;:15,&quot;MinimumExampleCountPerLeaf&quot;:26,&quot;NumberOfTrees&quot;:4,&quot;MaximumBinCountPerFeature&quot;:255,&quot;FeatureFraction&quot;:0.9323423303596271,&quot;LearningRate&quot;:0.6835078918341325,&quot;LabelColumnName&quot;:&quot;y&quot;,&quot;FeatureColumnName&quot;:&quot;Features&quot;,&quot;DiskTranspose&quot;:false}},&quot;_SCHEMA_&quot;:&quot;e0 * e1&quot;,&quot;e0&quot;:{},&quot;e1&quot;:{&quot;NumberOfLeaves&quot;:4,&quot;MinimumExampleCountPerLeaf&quot;:20,&quot;NumberOfTrees&quot;:4,&quot;MaximumBinCountPerFeature&quot;:255,&quot;FeatureFraction&quot;:1,&quot;LearningRate&quot;:0.09999999999999998,&quot;LabelColumnName&quot;:&quot;y&quot;,&quot;FeatureColumnName&quot;:&quot;Features&quot;,&quot;DiskTranspose&quot;:false},&quot;e2&quot;:{&quot;NumberOfLeaves&quot;:4,&quot;MinimumExampleCountPerLeaf&quot;:20,&quot;LearningRate&quot;:1,&quot;NumberOfTrees&quot;:4,&quot;SubsampleFraction&quot;:1,&quot;MaximumBinCountPerFeature&quot;:255,&quot;FeatureFraction&quot;:1,&quot;L1Regularization&quot;:2E-10,&quot;L2Regularization&quot;:1,&quot;LabelColumnName&quot;:&quot;y&quot;,&quot;FeatureColumnName&quot;:&quot;Features&quot;}}</td></tr><tr><td><i><div class=\"dni-plaintext\"><pre>4</pre></div></i></td><td><div class=\"dni-plaintext\"><pre>4</pre></div></td><td><div class=\"dni-plaintext\"><pre>1909029.6</pre></div></td><td>FastTreeRegression</td><td>{&quot;_pipeline_&quot;:{&quot;_SCHEMA_&quot;:&quot;e0 * e1&quot;,&quot;e0&quot;:{},&quot;e1&quot;:{&quot;NumberOfLeaves&quot;:16,&quot;MinimumExampleCountPerLeaf&quot;:20,&quot;NumberOfTrees&quot;:4,&quot;MaximumBinCountPerFeature&quot;:674,&quot;FeatureFraction&quot;:0.99999999,&quot;LearningRate&quot;:0.55743018122456,&quot;LabelColumnName&quot;:&quot;y&quot;,&quot;FeatureColumnName&quot;:&quot;Features&quot;,&quot;DiskTranspose&quot;:false}},&quot;_SCHEMA_&quot;:&quot;e0 * e1&quot;,&quot;e0&quot;:{},&quot;e1&quot;:{&quot;NumberOfLeaves&quot;:4,&quot;MinimumExampleCountPerLeaf&quot;:20,&quot;NumberOfTrees&quot;:4,&quot;MaximumBinCountPerFeature&quot;:255,&quot;FeatureFraction&quot;:1,&quot;LearningRate&quot;:0.09999999999999998,&quot;LabelColumnName&quot;:&quot;y&quot;,&quot;FeatureColumnName&quot;:&quot;Features&quot;,&quot;DiskTranspose&quot;:false},&quot;e2&quot;:{&quot;NumberOfLeaves&quot;:4,&quot;MinimumExampleCountPerLeaf&quot;:20,&quot;LearningRate&quot;:1,&quot;NumberOfTrees&quot;:4,&quot;SubsampleFraction&quot;:1,&quot;MaximumBinCountPerFeature&quot;:255,&quot;FeatureFraction&quot;:1,&quot;L1Regularization&quot;:2E-10,&quot;L2Regularization&quot;:1,&quot;LabelColumnName&quot;:&quot;y&quot;,&quot;FeatureColumnName&quot;:&quot;Features&quot;}}</td></tr><tr><td><i><div class=\"dni-plaintext\"><pre>5</pre></div></i></td><td><div class=\"dni-plaintext\"><pre>5</pre></div></td><td><div class=\"dni-plaintext\"><pre>1878642</pre></div></td><td>FastTreeRegression</td><td>{&quot;_pipeline_&quot;:{&quot;_SCHEMA_&quot;:&quot;e0 * e1&quot;,&quot;e0&quot;:{},&quot;e1&quot;:{&quot;NumberOfLeaves&quot;:13,&quot;MinimumExampleCountPerLeaf&quot;:32,&quot;NumberOfTrees&quot;:4,&quot;MaximumBinCountPerFeature&quot;:96,&quot;FeatureFraction&quot;:0.8463758481608418,&quot;LearningRate&quot;:0.8381014411046682,&quot;LabelColumnName&quot;:&quot;y&quot;,&quot;FeatureColumnName&quot;:&quot;Features&quot;,&quot;DiskTranspose&quot;:false}},&quot;_SCHEMA_&quot;:&quot;e0 * e1&quot;,&quot;e0&quot;:{},&quot;e1&quot;:{&quot;NumberOfLeaves&quot;:4,&quot;MinimumExampleCountPerLeaf&quot;:20,&quot;NumberOfTrees&quot;:4,&quot;MaximumBinCountPerFeature&quot;:255,&quot;FeatureFraction&quot;:1,&quot;LearningRate&quot;:0.09999999999999998,&quot;LabelColumnName&quot;:&quot;y&quot;,&quot;FeatureColumnName&quot;:&quot;Features&quot;,&quot;DiskTranspose&quot;:false},&quot;e2&quot;:{&quot;NumberOfLeaves&quot;:4,&quot;MinimumExampleCountPerLeaf&quot;:20,&quot;LearningRate&quot;:1,&quot;NumberOfTrees&quot;:4,&quot;SubsampleFraction&quot;:1,&quot;MaximumBinCountPerFeature&quot;:255,&quot;FeatureFraction&quot;:1,&quot;L1Regularization&quot;:2E-10,&quot;L2Regularization&quot;:1,&quot;LabelColumnName&quot;:&quot;y&quot;,&quot;FeatureColumnName&quot;:&quot;Features&quot;}}</td></tr><tr><td><i><div class=\"dni-plaintext\"><pre>6</pre></div></i></td><td><div class=\"dni-plaintext\"><pre>6</pre></div></td><td><div class=\"dni-plaintext\"><pre>1616443.1</pre></div></td><td>FastTreeRegression</td><td>{&quot;_pipeline_&quot;:{&quot;_SCHEMA_&quot;:&quot;e0 * e1&quot;,&quot;e0&quot;:{},&quot;e1&quot;:{&quot;NumberOfLeaves&quot;:7,&quot;MinimumExampleCountPerLeaf&quot;:21,&quot;NumberOfTrees&quot;:7,&quot;MaximumBinCountPerFeature&quot;:232,&quot;FeatureFraction&quot;:0.8591468369792774,&quot;LearningRate&quot;:0.9999997766729865,&quot;LabelColumnName&quot;:&quot;y&quot;,&quot;FeatureColumnName&quot;:&quot;Features&quot;,&quot;DiskTranspose&quot;:false}},&quot;_SCHEMA_&quot;:&quot;e0 * e1&quot;,&quot;e0&quot;:{},&quot;e1&quot;:{&quot;NumberOfLeaves&quot;:4,&quot;MinimumExampleCountPerLeaf&quot;:20,&quot;NumberOfTrees&quot;:4,&quot;MaximumBinCountPerFeature&quot;:255,&quot;FeatureFraction&quot;:1,&quot;LearningRate&quot;:0.09999999999999998,&quot;LabelColumnName&quot;:&quot;y&quot;,&quot;FeatureColumnName&quot;:&quot;Features&quot;,&quot;DiskTranspose&quot;:false},&quot;e2&quot;:{&quot;NumberOfLeaves&quot;:4,&quot;MinimumExampleCountPerLeaf&quot;:20,&quot;LearningRate&quot;:1,&quot;NumberOfTrees&quot;:4,&quot;SubsampleFraction&quot;:1,&quot;MaximumBinCountPerFeature&quot;:255,&quot;FeatureFraction&quot;:1,&quot;L1Regularization&quot;:2E-10,&quot;L2Regularization&quot;:1,&quot;LabelColumnName&quot;:&quot;y&quot;,&quot;FeatureColumnName&quot;:&quot;Features&quot;}}</td></tr><tr><td><i><div class=\"dni-plaintext\"><pre>7</pre></div></i></td><td><div class=\"dni-plaintext\"><pre>7</pre></div></td><td><div class=\"dni-plaintext\"><pre>44727332</pre></div></td><td>FastTreeRegression</td><td>{&quot;_pipeline_&quot;:{&quot;_SCHEMA_&quot;:&quot;e0 * e1&quot;,&quot;e0&quot;:{},&quot;e1&quot;:{&quot;NumberOfLeaves&quot;:4,&quot;MinimumExampleCountPerLeaf&quot;:16,&quot;NumberOfTrees&quot;:4,&quot;MaximumBinCountPerFeature&quot;:203,&quot;FeatureFraction&quot;:0.7485475449903555,&quot;LearningRate&quot;:0.02457749364302209,&quot;LabelColumnName&quot;:&quot;y&quot;,&quot;FeatureColumnName&quot;:&quot;Features&quot;,&quot;DiskTranspose&quot;:false}},&quot;_SCHEMA_&quot;:&quot;e0 * e1&quot;,&quot;e0&quot;:{},&quot;e1&quot;:{&quot;NumberOfLeaves&quot;:4,&quot;MinimumExampleCountPerLeaf&quot;:20,&quot;NumberOfTrees&quot;:4,&quot;MaximumBinCountPerFeature&quot;:255,&quot;FeatureFraction&quot;:1,&quot;LearningRate&quot;:0.09999999999999998,&quot;LabelColumnName&quot;:&quot;y&quot;,&quot;FeatureColumnName&quot;:&quot;Features&quot;,&quot;DiskTranspose&quot;:false},&quot;e2&quot;:{&quot;NumberOfLeaves&quot;:4,&quot;MinimumExampleCountPerLeaf&quot;:20,&quot;LearningRate&quot;:1,&quot;NumberOfTrees&quot;:4,&quot;SubsampleFraction&quot;:1,&quot;MaximumBinCountPerFeature&quot;:255,&quot;FeatureFraction&quot;:1,&quot;L1Regularization&quot;:2E-10,&quot;L2Regularization&quot;:1,&quot;LabelColumnName&quot;:&quot;y&quot;,&quot;FeatureColumnName&quot;:&quot;Features&quot;}}</td></tr><tr><td><i><div class=\"dni-plaintext\"><pre>8</pre></div></i></td><td><div class=\"dni-plaintext\"><pre>8</pre></div></td><td><div class=\"dni-plaintext\"><pre>3562470.5</pre></div></td><td>LightGbmRegression</td><td>{&quot;_pipeline_&quot;:{&quot;_SCHEMA_&quot;:&quot;e0 * e2&quot;,&quot;e0&quot;:{},&quot;e2&quot;:{&quot;NumberOfLeaves&quot;:4,&quot;MinimumExampleCountPerLeaf&quot;:20,&quot;LearningRate&quot;:1,&quot;NumberOfTrees&quot;:4,&quot;SubsampleFraction&quot;:1,&quot;MaximumBinCountPerFeature&quot;:254,&quot;FeatureFraction&quot;:1,&quot;L1Regularization&quot;:2E-10,&quot;L2Regularization&quot;:1,&quot;LabelColumnName&quot;:&quot;y&quot;,&quot;FeatureColumnName&quot;:&quot;Features&quot;}},&quot;_SCHEMA_&quot;:&quot;e0 * e1&quot;,&quot;e0&quot;:{},&quot;e1&quot;:{&quot;NumberOfLeaves&quot;:4,&quot;MinimumExampleCountPerLeaf&quot;:20,&quot;NumberOfTrees&quot;:4,&quot;MaximumBinCountPerFeature&quot;:255,&quot;FeatureFraction&quot;:1,&quot;LearningRate&quot;:0.09999999999999998,&quot;LabelColumnName&quot;:&quot;y&quot;,&quot;FeatureColumnName&quot;:&quot;Features&quot;,&quot;DiskTranspose&quot;:false},&quot;e2&quot;:{&quot;NumberOfLeaves&quot;:4,&quot;MinimumExampleCountPerLeaf&quot;:20,&quot;LearningRate&quot;:1,&quot;NumberOfTrees&quot;:4,&quot;SubsampleFraction&quot;:1,&quot;MaximumBinCountPerFeature&quot;:255,&quot;FeatureFraction&quot;:1,&quot;L1Regularization&quot;:2E-10,&quot;L2Regularization&quot;:1,&quot;LabelColumnName&quot;:&quot;y&quot;,&quot;FeatureColumnName&quot;:&quot;Features&quot;}}</td></tr><tr><td><i><div class=\"dni-plaintext\"><pre>9</pre></div></i></td><td><div class=\"dni-plaintext\"><pre>9</pre></div></td><td><div class=\"dni-plaintext\"><pre>119225.414</pre></div></td><td>LightGbmRegression</td><td>{&quot;_pipeline_&quot;:{&quot;_SCHEMA_&quot;:&quot;e0 * e2&quot;,&quot;e0&quot;:{},&quot;e2&quot;:{&quot;NumberOfLeaves&quot;:4,&quot;MinimumExampleCountPerLeaf&quot;:21,&quot;LearningRate&quot;:0.4200893720564174,&quot;NumberOfTrees&quot;:838,&quot;SubsampleFraction&quot;:0.9999997766729865,&quot;MaximumBinCountPerFeature&quot;:302,&quot;FeatureFraction&quot;:0.9930195610380121,&quot;L1Regularization&quot;:2E-10,&quot;L2Regularization&quot;:0.9999997766729865,&quot;LabelColumnName&quot;:&quot;y&quot;,&quot;FeatureColumnName&quot;:&quot;Features&quot;}},&quot;_SCHEMA_&quot;:&quot;e0 * e1&quot;,&quot;e0&quot;:{},&quot;e1&quot;:{&quot;NumberOfLeaves&quot;:4,&quot;MinimumExampleCountPerLeaf&quot;:20,&quot;NumberOfTrees&quot;:4,&quot;MaximumBinCountPerFeature&quot;:255,&quot;FeatureFraction&quot;:1,&quot;LearningRate&quot;:0.09999999999999998,&quot;LabelColumnName&quot;:&quot;y&quot;,&quot;FeatureColumnName&quot;:&quot;Features&quot;,&quot;DiskTranspose&quot;:false},&quot;e2&quot;:{&quot;NumberOfLeaves&quot;:4,&quot;MinimumExampleCountPerLeaf&quot;:20,&quot;LearningRate&quot;:1,&quot;NumberOfTrees&quot;:4,&quot;SubsampleFraction&quot;:1,&quot;MaximumBinCountPerFeature&quot;:255,&quot;FeatureFraction&quot;:1,&quot;L1Regularization&quot;:2E-10,&quot;L2Regularization&quot;:1,&quot;LabelColumnName&quot;:&quot;y&quot;,&quot;FeatureColumnName&quot;:&quot;Features&quot;}}</td></tr><tr><td><i><div class=\"dni-plaintext\"><pre>10</pre></div></i></td><td><div class=\"dni-plaintext\"><pre>10</pre></div></td><td><div class=\"dni-plaintext\"><pre>90262.85</pre></div></td><td>LightGbmRegression</td><td>{&quot;_pipeline_&quot;:{&quot;_SCHEMA_&quot;:&quot;e0 * e2&quot;,&quot;e0&quot;:{},&quot;e2&quot;:{&quot;NumberOfLeaves&quot;:4,&quot;MinimumExampleCountPerLeaf&quot;:21,&quot;LearningRate&quot;:0.4230894791419352,&quot;NumberOfTrees&quot;:4511,&quot;SubsampleFraction&quot;:0.7160876722017678,&quot;MaximumBinCountPerFeature&quot;:390,&quot;FeatureFraction&quot;:0.99999999,&quot;L1Regularization&quot;:3.676139172975011E-10,&quot;L2Regularization&quot;:0.9999997766729865,&quot;LabelColumnName&quot;:&quot;y&quot;,&quot;FeatureColumnName&quot;:&quot;Features&quot;}},&quot;_SCHEMA_&quot;:&quot;e0 * e1&quot;,&quot;e0&quot;:{},&quot;e1&quot;:{&quot;NumberOfLeaves&quot;:4,&quot;MinimumExampleCountPerLeaf&quot;:20,&quot;NumberOfTrees&quot;:4,&quot;MaximumBinCountPerFeature&quot;:255,&quot;FeatureFraction&quot;:1,&quot;LearningRate&quot;:0.09999999999999998,&quot;LabelColumnName&quot;:&quot;y&quot;,&quot;FeatureColumnName&quot;:&quot;Features&quot;,&quot;DiskTranspose&quot;:false},&quot;e2&quot;:{&quot;NumberOfLeaves&quot;:4,&quot;MinimumExampleCountPerLeaf&quot;:20,&quot;LearningRate&quot;:1,&quot;NumberOfTrees&quot;:4,&quot;SubsampleFraction&quot;:1,&quot;MaximumBinCountPerFeature&quot;:255,&quot;FeatureFraction&quot;:1,&quot;L1Regularization&quot;:2E-10,&quot;L2Regularization&quot;:1,&quot;LabelColumnName&quot;:&quot;y&quot;,&quot;FeatureColumnName&quot;:&quot;Features&quot;}}</td></tr></tbody></table><style>\r\n",
              ".dni-code-hint {\r\n",
              "    font-style: italic;\r\n",
              "    overflow: hidden;\r\n",
              "    white-space: nowrap;\r\n",
              "}\r\n",
              ".dni-treeview {\r\n",
              "    white-space: nowrap;\r\n",
              "}\r\n",
              ".dni-treeview td {\r\n",
              "    vertical-align: top;\r\n",
              "    text-align: start;\r\n",
              "}\r\n",
              "details.dni-treeview {\r\n",
              "    padding-left: 1em;\r\n",
              "}\r\n",
              "table td {\r\n",
              "    text-align: start;\r\n",
              "}\r\n",
              "table tr { \r\n",
              "    vertical-align: top; \r\n",
              "    margin: 0em 0px;\r\n",
              "}\r\n",
              "table tr td pre \r\n",
              "{ \r\n",
              "    vertical-align: top !important; \r\n",
              "    margin: 0em 0px !important;\r\n",
              "} \r\n",
              "table th {\r\n",
              "    text-align: start;\r\n",
              "}\r\n",
              "</style>"
            ]
          },
          "metadata": {},
          "output_type": "display_data"
        }
      ],
      "source": [
        "var context =new MLContext(seed: 1);\n",
        "var pipeline = context.Transforms.Concatenate(\"Features\", \"X\")\n",
        "    .Append(context.Auto().Regression(\"y\", useLbfgsPoissonRegression: false, useSdca: false, useFastForest: false));\n",
        "\n",
        "var monitor = new NotebookMonitor(pipeline);\n",
        "var experiment = context.Auto().CreateExperiment();\n",
        "experiment.SetPipeline(pipeline)\n",
        "        .SetRegressionMetric(RegressionMetric.RootMeanSquaredError, \"y\")\n",
        "        .SetTrainingTimeInSeconds(30)\n",
        "        .SetDataset(trainTestSplit.TrainSet, trainTestSplit.TestSet)\n",
        "        .SetMonitor(monitor);\n",
        "\n",
        "// Configure Visualizer\t\t\t\n",
        "monitor.SetUpdate(monitor.Display());\n",
        "\n",
        "var res = await experiment.RunAsync();"
      ]
    },
    {
      "cell_type": "markdown",
      "metadata": {},
      "source": [
        "## Check model/metric from experiment result"
      ]
    },
    {
      "cell_type": "code",
      "execution_count": 12,
      "metadata": {
        "dotnet_interactive": {
          "language": "csharp"
        },
        "vscode": {
          "languageId": "polyglot-notebook"
        }
      },
      "outputs": [
        {
          "data": {
            "text/html": [
              "<div class=\"dni-plaintext\"><pre>90262.85409286535</pre></div><style>\r\n",
              ".dni-code-hint {\r\n",
              "    font-style: italic;\r\n",
              "    overflow: hidden;\r\n",
              "    white-space: nowrap;\r\n",
              "}\r\n",
              ".dni-treeview {\r\n",
              "    white-space: nowrap;\r\n",
              "}\r\n",
              ".dni-treeview td {\r\n",
              "    vertical-align: top;\r\n",
              "    text-align: start;\r\n",
              "}\r\n",
              "details.dni-treeview {\r\n",
              "    padding-left: 1em;\r\n",
              "}\r\n",
              "table td {\r\n",
              "    text-align: start;\r\n",
              "}\r\n",
              "table tr { \r\n",
              "    vertical-align: top; \r\n",
              "    margin: 0em 0px;\r\n",
              "}\r\n",
              "table tr td pre \r\n",
              "{ \r\n",
              "    vertical-align: top !important; \r\n",
              "    margin: 0em 0px !important;\r\n",
              "} \r\n",
              "table th {\r\n",
              "    text-align: start;\r\n",
              "}\r\n",
              "</style>"
            ]
          },
          "metadata": {},
          "output_type": "display_data"
        }
      ],
      "source": [
        "// get model\n",
        "var model  = res.Model;\n",
        "var eval = model.Transform(trainTestSplit.TestSet);\n",
        "var metric = context.Regression.Evaluate(eval, \"y\");\n",
        "\n",
        "// should be identical with res.Metric\n",
        "metric.RootMeanSquaredError"
      ]
    },
    {
      "cell_type": "markdown",
      "metadata": {},
      "source": [
        "# Continue learning\n",
        "\n",
        "> [⏩ Next Module - Model Evaluation](./04-Model%20Evaluation.ipynb)  \n",
        "> [⏪ Last Module - Data Prep and Feature Engineering](./02-Data%20Preparation%20and%20Feature%20Engineering.ipynb)  "
      ]
    }
  ],
  "metadata": {
    "kernelspec": {
      "display_name": ".NET (C#)",
      "language": "C#",
      "name": ".net-csharp"
    },
    "language_info": {
      "file_extension": ".cs",
      "mimetype": "text/x-csharp",
      "name": "C#",
      "pygments_lexer": "csharp",
      "version": "8.0"
    },
    "polyglot_notebook": {
      "kernelInfo": {
        "defaultKernelName": "csharp",
        "items": [
          {
            "aliases": [],
            "name": "csharp"
          }
        ]
      }
    }
  },
  "nbformat": 4,
  "nbformat_minor": 4
}
